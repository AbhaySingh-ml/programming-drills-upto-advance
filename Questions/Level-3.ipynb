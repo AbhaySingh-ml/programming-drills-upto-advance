{
 "cells": [
  {
   "cell_type": "markdown",
   "id": "c126c7a7-2462-4662-bca9-5d23f375375e",
   "metadata": {},
   "source": [
    "#### Q1. Find First Non-Repeating Digit"
   ]
  },
  {
   "cell_type": "markdown",
   "id": "a79d6614-c8a9-4f39-9875-8d250dd8b595",
   "metadata": {},
   "source": [
    "##### Return the first digit in the number that occurs only once.\n",
    "##### Example: Input: 1224315 → Output: 3"
   ]
  },
  {
   "cell_type": "markdown",
   "id": "5f3bec0c-ef9a-46f2-97c8-d79175e879f9",
   "metadata": {},
   "source": [
    "#### Q2. Check If Digits Can Form a Palindrome"
   ]
  },
  {
   "cell_type": "markdown",
   "id": "1e8ce34f-9e35-495c-ae88-c142a477ed8c",
   "metadata": {},
   "source": [
    "##### Return True if digits can be rearranged to form a palindrome.\n",
    "##### Example: Input: 1213 → Output: True"
   ]
  },
  {
   "cell_type": "markdown",
   "id": "c7dad4a9-5c32-48f3-88e7-099e4c172830",
   "metadata": {},
   "source": [
    "#### Q3. Maximum Product of Two Digits"
   ]
  },
  {
   "cell_type": "markdown",
   "id": "8bd70c0e-a35b-4b6d-b000-4e12cf6251d5",
   "metadata": {},
   "source": [
    "##### Find the maximum product of any two digits in the number.\n",
    "##### Example: Input: 4529 → Output: 45 (9×5)"
   ]
  },
  {
   "cell_type": "markdown",
   "id": "86991c71-547a-42d0-8a9d-f9c9100b232e",
   "metadata": {},
   "source": [
    "#### Q4. Count Digits with Even Number of Divisors"
   ]
  },
  {
   "cell_type": "markdown",
   "id": "5e700159-b270-4bb0-b5b0-e972941a5cb3",
   "metadata": {},
   "source": [
    "##### eturn how many digits have an even number of divisors.\n",
    "##### Example: Input: 1234 → Output: 2 (2 and 4)"
   ]
  },
  {
   "cell_type": "markdown",
   "id": "d9de528e-64b0-4f54-9534-6c5296e56e42",
   "metadata": {},
   "source": [
    "#### Q5. Return Digits That Appear Exactly Twice"
   ]
  },
  {
   "cell_type": "markdown",
   "id": "342e58fa-9566-42ee-8fef-d423f679dd9c",
   "metadata": {},
   "source": [
    "##### Example: Input: 122345566 → Output: 2, 5, 6"
   ]
  },
  {
   "cell_type": "markdown",
   "id": "8729a1fc-df9e-474d-8b83-65d0dfc18af6",
   "metadata": {},
   "source": [
    "#### Q6. Count All Substrings That Are Palindromes (Length ≥ 2)"
   ]
  },
  {
   "cell_type": "markdown",
   "id": "d390f364-a11b-48e0-943b-5c0925bfdab0",
   "metadata": {},
   "source": [
    "##### Return the count of all palindromic substrings.\n",
    "##### Example: Input: 1211 → Output: 3 (121, 11, 21)"
   ]
  },
  {
   "cell_type": "markdown",
   "id": "b878ee96-f7d1-4eef-a930-38a1a7a4aa00",
   "metadata": {},
   "source": [
    "#### Q7. Find Missing Digit from 0–9 Series"
   ]
  },
  {
   "cell_type": "markdown",
   "id": "83eb36d7-c473-44a1-8d4b-5320b5e8665d",
   "metadata": {},
   "source": [
    "##### One digit from 0 to 9 is missing. Find it.\n",
    "##### Example: Input: 012345678 → Output: 9"
   ]
  },
  {
   "cell_type": "markdown",
   "id": "56d2c617-2d17-447d-a099-a4d7418ae568",
   "metadata": {},
   "source": [
    "#### Q8. Sum of Digits at Prime Number Positions in Square of Number"
   ]
  },
  {
   "cell_type": "markdown",
   "id": "58fb6564-79dc-4b9f-88b7-93d3ba22cbea",
   "metadata": {},
   "source": [
    "##### Take square of number and add digits at prime positions.\n",
    "##### Example: Input: 12 → 144 → Prime Indices: 2 → Output: 4"
   ]
  },
  {
   "cell_type": "markdown",
   "id": "ee5b4190-aa6c-45cb-9d04-c498725ab00c",
   "metadata": {},
   "source": [
    "#### Q9. Find Largest Odd Number From Given Digits"
   ]
  },
  {
   "cell_type": "markdown",
   "id": "e5108857-61ee-4575-98b7-d1d6e555065a",
   "metadata": {},
   "source": [
    "##### Form the largest possible odd number from digits.\n",
    "##### Example: Input: 1324 → Output: 431 "
   ]
  },
  {
   "cell_type": "markdown",
   "id": "df9ef875-9668-491b-a6b0-44c6128c0dfb",
   "metadata": {},
   "source": [
    "#### Q10. Find Difference Between Largest and Smallest 2-Digit Numbers That Can Be Formed"
   ]
  },
  {
   "cell_type": "markdown",
   "id": "ced6b58e-e697-48a0-88b8-62ac69ba4b02",
   "metadata": {},
   "source": [
    "##### Example: Input: 154 → 2-digit numbers: 15, 14, 51, 54, 41, 45 → Output: 54 - 14 = 40"
   ]
  },
  {
   "cell_type": "markdown",
   "id": "a4c9de88-9fcd-4790-a47d-e3afb07189bf",
   "metadata": {},
   "source": [
    "#### Q11. Form Minimum Number by Removing One Digit"
   ]
  },
  {
   "cell_type": "markdown",
   "id": "aad7b82a-5244-4206-aa47-f75f4c6d82aa",
   "metadata": {},
   "source": [
    "##### Remove one digit to make the number as small as possible.\n",
    "##### Example: Input: 1524 → Output: 124"
   ]
  },
  {
   "cell_type": "markdown",
   "id": "647350ec-c95e-46aa-a56e-fa1f9dd141e9",
   "metadata": {},
   "source": [
    "#### Q12. Return All Digits Whose Frequency Is Prime"
   ]
  },
  {
   "cell_type": "markdown",
   "id": "962875b5-a6fd-4717-a7af-114f9d2a5680",
   "metadata": {},
   "source": [
    "##### Example: Input: 1223334444 → Frequencies: 1→1, 2→2, 3→3, 4→4 → Output: 2, 3"
   ]
  },
  {
   "cell_type": "markdown",
   "id": "7b4d2583-7319-4379-a906-f22b85b215c3",
   "metadata": {},
   "source": [
    "#### Q13. Check If Number is Step Number (Adjacent Digits Differ by 1)"
   ]
  },
  {
   "cell_type": "markdown",
   "id": "5dc2684b-2abf-4dd2-bc36-44a2dae0309f",
   "metadata": {},
   "source": [
    "##### Example: Input: 123454 → Output: True; Input: 124 → Output: False"
   ]
  },
  {
   "cell_type": "markdown",
   "id": "dd00e52c-5d9a-4bbe-a756-a62e7b6c7fce",
   "metadata": {},
   "source": [
    "#### Q14. Count Number of Rotations to Get Original Number Back#### "
   ]
  },
  {
   "cell_type": "markdown",
   "id": "60aea10f-5e80-4777-9986-02148425ef71",
   "metadata": {},
   "source": [
    "##### Rotate the digits (right side) until the number matches original.\n",
    "##### Example: Input: 1234 → Output: 4"
   ]
  },
  {
   "cell_type": "markdown",
   "id": "0effc17c-06f9-4669-bd1e-194dccccd465",
   "metadata": {},
   "source": [
    "#### Q15. Check if Digits Are Mirror Symmetric (Like 69, 88)"
   ]
  },
  {
   "cell_type": "markdown",
   "id": "4f8b510f-6814-44b6-a793-319d7df1de9d",
   "metadata": {},
   "source": [
    "##### Return True if number looks same upside down.\n",
    "##### Example: Input: 69 → Output: True; Input: 12 → Output: False"
   ]
  },
  {
   "cell_type": "markdown",
   "id": "77eee300-f45c-4de3-a6a0-2f14def2cc40",
   "metadata": {},
   "source": [
    "#### Q16. Rearrange Digits to Form Maximum Palindrome"
   ]
  },
  {
   "cell_type": "markdown",
   "id": "86188c6d-2922-4659-a30e-435537bea22f",
   "metadata": {},
   "source": [
    "##### If possible, return maximum-valued palindromic number.\n",
    "##### Example: Input: 1122 → Output: 2112"
   ]
  },
  {
   "cell_type": "markdown",
   "id": "e797d967-1046-409c-9d25-16fdf94d7f34",
   "metadata": {},
   "source": [
    "#### Q17. Find All Combinations of Digits That Sum to a Given Number"
   ]
  },
  {
   "cell_type": "markdown",
   "id": "81b7b294-fea2-406a-b77a-bab0d28d5918",
   "metadata": {},
   "source": [
    "##### Example: Input: Digits: 1234, Target: 5 → Output: (1+4), (2+3)"
   ]
  },
  {
   "cell_type": "markdown",
   "id": "5b124ca9-55e1-4585-8e67-3e59d4049a1e",
   "metadata": {},
   "source": [
    "#### Q18. Find Longest Increasing Subsequence of Digits"
   ]
  },
  {
   "cell_type": "markdown",
   "id": "e42bd2bd-614f-4159-a904-8b20b5b0e44b",
   "metadata": {},
   "source": [
    "##### Example: Input: 92431567 → Output: 3, 5, 6, 7 → Length: 4"
   ]
  },
  {
   "cell_type": "markdown",
   "id": "1c3e770a-a918-4b06-bd6e-43833515feae",
   "metadata": {},
   "source": [
    "#### Q19. Convert Number into List of Alternating Even and Odd Digits"
   ]
  },
  {
   "cell_type": "markdown",
   "id": "f89f47a2-8cc2-4f73-8c8a-1f43342ac0da",
   "metadata": {},
   "source": [
    "##### Example: Input: 1234567 → Output: 1 2 3 4 5 6 7 (Check if alternate even/odd exists)"
   ]
  },
  {
   "cell_type": "markdown",
   "id": "d839e06c-139b-4371-b106-0ac5dfd5be0f",
   "metadata": {},
   "source": [
    "#### Q20. Return True if Any Subsequence of Digits Forms a Palindrome"
   ]
  },
  {
   "cell_type": "markdown",
   "id": "5fac67d1-179c-41ba-af39-9221ae2c4608",
   "metadata": {},
   "source": [
    "##### Example: Input: 12932 → Output: True (2-9-2)"
   ]
  },
  {
   "cell_type": "markdown",
   "id": "2a312ad3-10c3-4c40-aeee-cb54263c6954",
   "metadata": {},
   "source": [
    "#### Q21. Remove Minimum Digits to Make Digits Sorted in Ascending Order"
   ]
  },
  {
   "cell_type": "markdown",
   "id": "81fe3c19-a0e9-4c15-bb5f-72fb05fbd677",
   "metadata": {},
   "source": [
    "##### Example: Input: 2134 → Output: 2 (remove 2 to get 134)"
   ]
  },
  {
   "cell_type": "markdown",
   "id": "6e9d7777-db24-4323-a910-fb5f8d11dbfd",
   "metadata": {},
   "source": [
    "#### Q22. Find Largest Subnumber with Only Even Digits"
   ]
  },
  {
   "cell_type": "markdown",
   "id": "25c8e3c6-57b3-4611-8254-eda0ebdb620c",
   "metadata": {},
   "source": [
    "##### Example: Input: 2431586 → Output: 24 or 86"
   ]
  },
  {
   "cell_type": "markdown",
   "id": "c508c467-eead-41a2-b17a-5e86d992bf0e",
   "metadata": {},
   "source": [
    "#### Q23. Rearrange Digits to Form Closest Greater Number"
   ]
  },
  {
   "cell_type": "markdown",
   "id": "b478bdd9-7544-4765-8714-f84c651f0ea4",
   "metadata": {},
   "source": [
    "##### Example: Input: 123 → Output: 132"
   ]
  },
  {
   "cell_type": "markdown",
   "id": "5d42d28a-ab69-4f32-991c-71512c46e19e",
   "metadata": {},
   "source": [
    "#### Q24. Return True if Number Contains Only Consecutive Digits"
   ]
  },
  {
   "cell_type": "markdown",
   "id": "1ab635a8-bee0-40d1-8aca-57c188ef7a3e",
   "metadata": {},
   "source": [
    "##### Example: Input: 3456 → Output: True"
   ]
  },
  {
   "cell_type": "markdown",
   "id": "5ea32d0d-da4b-4c1d-9dc1-b11974f51dc9",
   "metadata": {},
   "source": [
    "#### Q25. Find Maximum Difference Between Adjacent Digits"
   ]
  },
  {
   "cell_type": "markdown",
   "id": "49d8f4de-f89c-4df0-ab8c-2a13ba4bc6c7",
   "metadata": {},
   "source": [
    "##### Example: Input: 25831 → Differences: 3, 3, 5, 2 → Output: 5"
   ]
  },
  {
   "cell_type": "markdown",
   "id": "40de9b7a-f3be-49df-b37d-23b77d9e39b7",
   "metadata": {},
   "source": [
    "#### Q26. Count Substrings Where Sum of Digits Is Even"
   ]
  },
  {
   "cell_type": "markdown",
   "id": "514b2b29-ccbb-493a-b689-4da28bfae59d",
   "metadata": {},
   "source": [
    "##### Example: Input: 1234 → Substrings: 1, 12, 123, 1234... → Count evens"
   ]
  },
  {
   "cell_type": "markdown",
   "id": "f4b00887-e3ee-4fc0-a221-fbcba71d5930",
   "metadata": {},
   "source": [
    "#### Q27. Find All Palindromic Numbers From Subsets of Digits"
   ]
  },
  {
   "cell_type": "markdown",
   "id": "67490052-a82c-41a1-8362-50c2c2dbd263",
   "metadata": {},
   "source": [
    "##### Use any subset of digits to form palindromic numbers.\n",
    "##### Example: Input: 121 → Output: 1, 2, 11, 121"
   ]
  },
  {
   "cell_type": "markdown",
   "id": "1d818943-c338-448b-a651-8c6c7e26b678",
   "metadata": {},
   "source": [
    "#### Q28. Longest Sequence of Alternating Digits (Even-Odd or Odd-Even) "
   ]
  },
  {
   "cell_type": "markdown",
   "id": "7d158c79-0f19-446c-87a1-a2af4cfb8755",
   "metadata": {},
   "source": [
    "##### Example: Input: 123456 → Output: 6"
   ]
  },
  {
   "cell_type": "markdown",
   "id": "f144d9b7-d4bb-4e8c-aab8-c911e8a11d50",
   "metadata": {},
   "source": [
    "#### Q29. Return All Possible Number Pairs Whose Digits Don’t Overlap"
   ]
  },
  {
   "cell_type": "markdown",
   "id": "70c120cb-fcae-43af-ac90-6dad00184b71",
   "metadata": {},
   "source": [
    "##### Example: From digits of 12345, form pairs like 12-34 (no repeating digits)"
   ]
  },
  {
   "cell_type": "markdown",
   "id": "850fb9a2-13e9-44a9-aea0-b835235ffdec",
   "metadata": {},
   "source": [
    "#### Q30. Find Smallest Number Whose Digits Sum to Input"
   ]
  },
  {
   "cell_type": "markdown",
   "id": "a37a0b88-79cf-41ca-b9b4-6f1fb792c21f",
   "metadata": {},
   "source": [
    "##### Example: Input: 10 → Output: 19 (1+9 = 10)"
   ]
  },
  {
   "cell_type": "markdown",
   "id": "d5c42511-bc58-4f8c-ab45-08256fe88b27",
   "metadata": {},
   "source": [
    "#### Q31. Count All Pairs of Digits That Multiply to 12"
   ]
  },
  {
   "cell_type": "markdown",
   "id": "8a80f1d0-f5c8-43ba-b05c-6ce935e0121a",
   "metadata": {},
   "source": [
    "##### Example: Input: 1234 → Pairs: (3, 4) → Output: 1"
   ]
  },
  {
   "cell_type": "markdown",
   "id": "d2b51aba-9f52-4a7b-a92f-2431c19596bb",
   "metadata": {},
   "source": [
    "#### Q32. Count Number of Digit Partitions That Have Equal Sum"
   ]
  },
  {
   "cell_type": "markdown",
   "id": "4f657dea-5e75-49e2-b3e5-d7189fd52b7a",
   "metadata": {},
   "source": [
    "##### Split digits into two groups with equal sum.\n",
    "##### Example: Input: 1233 → Output: Yes (12 and 33)"
   ]
  },
  {
   "cell_type": "markdown",
   "id": "2f5738cf-d274-4daf-9371-e60db65831b3",
   "metadata": {},
   "source": [
    "#### Q33. Rotate Digits Until Number is Divisible by 7"
   ]
  },
  {
   "cell_type": "markdown",
   "id": "f70eea7d-f89e-479e-b37c-f68b3386635a",
   "metadata": {},
   "source": [
    "##### Keep rotating and return first divisible version.\n",
    "##### Example: Input: 123 → Rotations: 231, 312, 123 → Output: 231"
   ]
  },
  {
   "cell_type": "markdown",
   "id": "807bd99d-5737-4421-8203-4ca8116e96d6",
   "metadata": {},
   "source": [
    "#### Q34. Find Largest Palindrome Formed from Rotations of Number"
   ]
  },
  {
   "cell_type": "markdown",
   "id": "43e9fa05-13b8-42ab-8ac5-77ca5c704635",
   "metadata": {},
   "source": [
    "##### Example: Input: 1213 → Rotations: 1213, 2131, 1312, 3121 → Output: 3121"
   ]
  },
  {
   "cell_type": "markdown",
   "id": "c7f21be1-b49a-4d15-ba97-4132d3f1f20f",
   "metadata": {},
   "source": [
    "#### Q35. Convert Number into Balanced Binary Tree Structure"
   ]
  },
  {
   "cell_type": "markdown",
   "id": "54ad7c71-6249-4766-a0e0-f84e05a2929e",
   "metadata": {},
   "source": [
    "##### Simulate turning digits into binary tree in level order (for structure only)"
   ]
  },
  {
   "cell_type": "markdown",
   "id": "08a69d11-deba-462e-8d46-1c144ceb28a2",
   "metadata": {},
   "source": [
    "#### Q36. Count Occurrences of Digit Pairs with Specific Difference"
   ]
  },
  {
   "cell_type": "markdown",
   "id": "0a969bbd-35c1-4f24-b0ea-8ba442687c76",
   "metadata": {},
   "source": [
    "##### Example: Input: 13579, Difference = 2 → Output: Pairs = (1,3), (3,5), (5,7), (7,9) → Count: 4"
   ]
  },
  {
   "cell_type": "markdown",
   "id": "85fd5c1f-3f91-4fab-a348-b3126c7d5ce0",
   "metadata": {},
   "source": [
    "#### Q37. Count All 2-Digit Prime Numbers in Substring Format"
   ]
  },
  {
   "cell_type": "markdown",
   "id": "64088f29-8b9b-4c56-a1aa-5f831f2c3d54",
   "metadata": {},
   "source": [
    "##### Example: Input: 12347 → Substrings: 12, 23, 34, 47 → Primes: 23, 47 → Output: 2"
   ]
  },
  {
   "cell_type": "markdown",
   "id": "d764576d-73ec-4cdf-9610-c83fc6bf0c62",
   "metadata": {},
   "source": [
    "#### Q38. Return True If Number Has Repeating Pattern"
   ]
  },
  {
   "cell_type": "markdown",
   "id": "8ceff42c-8de1-4fe5-91cd-90ac3ecd298a",
   "metadata": {},
   "source": [
    "##### Like 123123, 456456\n",
    "##### Example: Input: 121212 → Output: True"
   ]
  },
  {
   "cell_type": "markdown",
   "id": "18f82ab3-6e4d-4e55-98bd-01d5c0b4ac17",
   "metadata": {},
   "source": [
    "#### Q39. Find All K-Digit Subnumbers with Sum Divisible by K"
   ]
  },
  {
   "cell_type": "markdown",
   "id": "719597e3-f21b-434d-a7d8-005f29550c70",
   "metadata": {},
   "source": [
    "##### Example: Input: 123456, K=3 → Check all 3-digit subnumbers"
   ]
  },
  {
   "cell_type": "markdown",
   "id": "fe8b8d3d-cfd6-43eb-86ec-7c634122e5a9",
   "metadata": {},
   "source": [
    "#### Q40. Find Middle Digit(s) After Removing Extremes"
   ]
  },
  {
   "cell_type": "markdown",
   "id": "a85fb8f4-c44f-4325-92a7-cd5eaabb0b2b",
   "metadata": {},
   "source": [
    "##### Example: Input: 1234567 → Remove 1 and 7 → Remaining: 2 3 4 5 6 → Middle: 4"
   ]
  },
  {
   "cell_type": "markdown",
   "id": "70a4c634-adb7-4a7a-b290-1ef5a2487330",
   "metadata": {},
   "source": [
    "#### Q41. Check if Number Can Be Split Into Two with Equal Digit Sum"
   ]
  },
  {
   "cell_type": "markdown",
   "id": "8ced9047-6fe2-4203-a561-f1360a1295c4",
   "metadata": {},
   "source": [
    "##### Example: Input: 123321 → 123 vs 321 → Output: True"
   ]
  },
  {
   "cell_type": "markdown",
   "id": "a45305dd-10e5-4d12-bc48-0c6692e77fa0",
   "metadata": {},
   "source": [
    "#### Q42. Find Smallest Number Greater Than Input with Same Digits"
   ]
  },
  {
   "cell_type": "markdown",
   "id": "b0d26901-1769-4dbc-b116-c35bf0f0a99c",
   "metadata": {},
   "source": [
    "##### Example: Input: 123 → Output: 132"
   ]
  },
  {
   "cell_type": "markdown",
   "id": "c18a740a-6801-49cb-8b8a-da9c872b4390",
   "metadata": {},
   "source": [
    "#### Q43. Find Count of Numbers That Can Be Formed Using Digits in Any Order (No Repetition)"
   ]
  },
  {
   "cell_type": "markdown",
   "id": "a8eb9f32-e7e8-4d0f-8a40-335162e21c5a",
   "metadata": {},
   "source": [
    "##### Example: Input: 123 → Output: 6"
   ]
  },
  {
   "cell_type": "markdown",
   "id": "1635a86a-a28c-46cb-9067-6d683eaf8a48",
   "metadata": {},
   "source": [
    "#### Q44. Count Subnumbers Divisible by 3"
   ]
  },
  {
   "cell_type": "markdown",
   "id": "5089f1af-bc16-4a55-a302-e6280b8c3583",
   "metadata": {},
   "source": [
    "##### Example: Input: 12345 → Subnumbers like 12, 123, 345 → Count those divisible by 3"
   ]
  },
  {
   "cell_type": "markdown",
   "id": "7c06ea05-6c51-4504-9a7e-ad1dcab25370",
   "metadata": {},
   "source": [
    "#### Q45. Find All Subsets of Digits That Form Even Numbers"
   ]
  },
  {
   "cell_type": "markdown",
   "id": "8d2bdc1f-4d9c-4493-abd5-f3c77a7fa7df",
   "metadata": {},
   "source": [
    "##### Example: Input: 124 → Even-forming subsets: 2, 4, 12, 24, 124"
   ]
  },
  {
   "cell_type": "markdown",
   "id": "dc59c65e-1767-4c7e-8619-59e226c724b7",
   "metadata": {},
   "source": [
    "#### Q46. Check if Number is \"Rotation Palindrome\""
   ]
  },
  {
   "cell_type": "markdown",
   "id": "2464c963-5f88-4054-8c67-2513983a6af6",
   "metadata": {},
   "source": [
    "##### Some rotation of number is a palindrome\n",
    "##### Example: Input: 1213 → Rotation: 3121 → Output: True"
   ]
  },
  {
   "cell_type": "markdown",
   "id": "e4dd1dfc-f912-4b6e-bc4d-32d90a4a6e18",
   "metadata": {},
   "source": [
    "#### Q47. Minimum Swaps to Make Digits Sorted in Ascending Order"
   ]
  },
  {
   "cell_type": "markdown",
   "id": "cecad961-bfce-4e30-8db4-b753bf467f71",
   "metadata": {},
   "source": [
    "##### Example: Input: 4321 → Output: 3"
   ]
  },
  {
   "cell_type": "markdown",
   "id": "39765e0f-c9e0-448b-8be2-797ccddfc579",
   "metadata": {},
   "source": [
    "#### Q48. Return Digits That Appear in Fibonacci Sequence"
   ]
  },
  {
   "cell_type": "markdown",
   "id": "918d03c6-04a7-458a-b12c-56b25e0b976a",
   "metadata": {},
   "source": [
    "##### Example: Input: 2358913 → Output: 2, 3, 5, 8, 1, 1, 3"
   ]
  },
  {
   "cell_type": "markdown",
   "id": "a5671f4d-80dc-4c41-8d08-bc42a53f50a9",
   "metadata": {},
   "source": [
    "#### Q49. Count Digits That Appear Same Number of Times as Their Value"
   ]
  },
  {
   "cell_type": "markdown",
   "id": "df30bb8f-eadf-419e-a8f8-1d065cf9b8a4",
   "metadata": {},
   "source": [
    "##### Example: Input: 122333 → 1 appears 1x, 2 appears 2x, 3 appears 3x → Output: 3"
   ]
  },
  {
   "cell_type": "markdown",
   "id": "b8189215-83b4-44a0-8523-1630af6827ba",
   "metadata": {},
   "source": [
    "#### Q50. Find Digit(s) That Make Product of All Digits Max When Removed"
   ]
  },
  {
   "cell_type": "markdown",
   "id": "0fb8ee10-8335-4e94-8642-141d75c3674d",
   "metadata": {},
   "source": [
    "##### Example: Input: 1230 → Remove 0 → Product: 6"
   ]
  },
  {
   "cell_type": "markdown",
   "id": "585adc70-ac8a-47e4-8d57-fc74686a7927",
   "metadata": {},
   "source": [
    "#### "
   ]
  }
 ],
 "metadata": {
  "kernelspec": {
   "display_name": "Python 3 (ipykernel)",
   "language": "python",
   "name": "python3"
  },
  "language_info": {
   "codemirror_mode": {
    "name": "ipython",
    "version": 3
   },
   "file_extension": ".py",
   "mimetype": "text/x-python",
   "name": "python",
   "nbconvert_exporter": "python",
   "pygments_lexer": "ipython3",
   "version": "3.13.0"
  }
 },
 "nbformat": 4,
 "nbformat_minor": 5
}
