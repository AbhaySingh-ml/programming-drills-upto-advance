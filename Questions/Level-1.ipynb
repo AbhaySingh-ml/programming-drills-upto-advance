{
 "cells": [
  {
   "cell_type": "markdown",
   "id": "adf064d5-4d85-41fc-b59c-5baa101b84ea",
   "metadata": {},
   "source": [
    "#### Q1. Sum of Digits"
   ]
  },
  {
   "cell_type": "markdown",
   "id": "0da7035e-b03e-4207-93f9-f90eee791b00",
   "metadata": {},
   "source": [
    "##### Take a number and return the sum of its digits.\n",
    "##### Example: Input: 1234 → Output: 10"
   ]
  },
  {
   "cell_type": "markdown",
   "id": "d1237dbc-0e5b-4da9-b306-fc98028994ee",
   "metadata": {},
   "source": [
    "#### Q2. Reverse the integer"
   ]
  },
  {
   "cell_type": "markdown",
   "id": "eb6d043b-9ad6-4fd0-b6f9-8cc0a8f2fbff",
   "metadata": {},
   "source": [
    "##### Take a number and return the number reversed.\n",
    "##### Example: Input: 1234 → Output: 4321"
   ]
  },
  {
   "cell_type": "markdown",
   "id": "2c16de68-f13c-41a2-ace2-c004d45ff430",
   "metadata": {},
   "source": [
    "##### solved with for loop"
   ]
  },
  {
   "cell_type": "markdown",
   "id": "ce137d3a-0710-45b5-aec8-8ba4cec2bf3f",
   "metadata": {},
   "source": [
    "#### Q3. Count the Digits"
   ]
  },
  {
   "cell_type": "markdown",
   "id": "92459c96-de26-461b-8092-34da20acc43c",
   "metadata": {},
   "source": [
    "##### Count how many digits are in the given number.\n",
    "##### Example: Input: 786 → Output: 3"
   ]
  },
  {
   "cell_type": "markdown",
   "id": "bd41f697-d866-4706-ad3d-c25425e6b78c",
   "metadata": {},
   "source": [
    "#### Q4. Check for Palindrome Number"
   ]
  },
  {
   "cell_type": "markdown",
   "id": "30b8866f-474a-4471-b2ce-eb33ee4449e2",
   "metadata": {},
   "source": [
    "##### Check if the number reads the same forward and backward.\n",
    "##### Example: Input: 121 → Output: True, Input: 123 → Output: False"
   ]
  },
  {
   "cell_type": "markdown",
   "id": "ad8a1ca2-8e54-4538-9f88-223f708b21b9",
   "metadata": {},
   "source": [
    "#### Q5. Find the Largest Digit"
   ]
  },
  {
   "cell_type": "markdown",
   "id": "635f71b0-2f73-41e3-b6fe-20a402815e1c",
   "metadata": {},
   "source": [
    "##### Return the largest digit in a number.\n",
    "##### Example: Input: 4723 → Output: 7"
   ]
  },
  {
   "cell_type": "markdown",
   "id": "0e1101cd-b551-43b2-a1fc-299233137c33",
   "metadata": {},
   "source": [
    "#### Q6. Sum of Even Digits"
   ]
  },
  {
   "cell_type": "markdown",
   "id": "70b30599-5c10-4995-a294-35841f389f30",
   "metadata": {},
   "source": [
    "##### Take a number and return the sum of only the even digits.\n",
    "##### Example: Input: 123456 → Output: 2 + 4 + 6 = 12"
   ]
  },
  {
   "cell_type": "markdown",
   "id": "4d341125-946b-4cb5-ac88-1b8d29d8c52c",
   "metadata": {},
   "source": [
    "#### Q7. Check if Number is Armstrong"
   ]
  },
  {
   "cell_type": "markdown",
   "id": "26b25470-0086-4e71-8e90-e35a704c92ba",
   "metadata": {},
   "source": [
    "##### Check if a 3-digit number is an Armstrong number.\n",
    "##### (Armstrong = sum of cubes of digits equals the number)\n",
    "##### Example: Input: 153 → Output: True (1³ + 5³ + 3³ = 153)"
   ]
  },
  {
   "cell_type": "markdown",
   "id": "2e2001bb-b536-4ac7-abc7-74630af92850",
   "metadata": {},
   "source": [
    "#### Q8. Count Occurrences of a Digit"
   ]
  },
  {
   "cell_type": "markdown",
   "id": "c9e17003-cdd6-4054-af62-808f3c85c2d5",
   "metadata": {},
   "source": [
    "##### Count how many times a digit (say 5) appears in a number.\n",
    "##### Example: Input: 15525, Digit: 5 → Output: 3"
   ]
  },
  {
   "cell_type": "markdown",
   "id": "cbbe0a4a-15b3-4618-963c-15ce23a38526",
   "metadata": {},
   "source": [
    "#### Q9. Print All Digits (One Per Line)"
   ]
  },
  {
   "cell_type": "markdown",
   "id": "4b6aa823-2c22-4edd-a351-d7e06ffb4f04",
   "metadata": {},
   "source": [
    "##### Print each digit of the number on a separate line.\n",
    "##### Example: Input: 123 → Output:\n",
    "##### 1\n",
    "##### 2\n",
    "##### 3"
   ]
  },
  {
   "cell_type": "markdown",
   "id": "d3086381-3591-4ba1-bc34-616ea7df2e56",
   "metadata": {},
   "source": [
    "#### Q10. Product of Digits"
   ]
  },
  {
   "cell_type": "markdown",
   "id": "3a117a11-1c74-4504-8b51-256aafdf6251",
   "metadata": {},
   "source": [
    "##### Multiply all digits in a number.\n",
    "##### Example: Input: 1234 → Output: 1 × 2 × 3 × 4 = 24"
   ]
  },
  {
   "cell_type": "markdown",
   "id": "556de7ec-f087-40f4-8934-def8aba4a9d9",
   "metadata": {},
   "source": [
    "#### Q11. Count Even and Odd Digits"
   ]
  },
  {
   "cell_type": "markdown",
   "id": "2ea69f15-2bfa-471e-bfbd-fa3cd532fcce",
   "metadata": {},
   "source": [
    "##### Count how many even and odd digits are in the given number.\n",
    "##### Example: Input: 12345 → Output: Even=2, Odd=3."
   ]
  },
  {
   "cell_type": "markdown",
   "id": "9eeb412a-5cee-46ea-bc9f-ae2d1e6d22b3",
   "metadata": {},
   "source": [
    "#### Q12. Check if Number is Prime"
   ]
  },
  {
   "cell_type": "markdown",
   "id": "c77ccbff-8a03-41c7-8431-59c70f8ec36f",
   "metadata": {},
   "source": [
    "##### Check if the given number is a prime number.\n",
    "##### Example: Input: 13 → Output: True , Input: 12 → Output: False"
   ]
  },
  {
   "cell_type": "markdown",
   "id": "aaa0ce67-5240-44a1-97b6-3de4153f6e96",
   "metadata": {},
   "source": [
    "#### Q13. Find GCD of Two Numbers"
   ]
  },
  {
   "cell_type": "markdown",
   "id": "d1b6f58b-1ffb-4b20-ad67-402a86fb36ae",
   "metadata": {},
   "source": [
    "##### Find the Greatest Common Divisor (GCD) of two numbers.\n",
    "##### Example: Input: 12, 18 → Output: 6"
   ]
  },
  {
   "cell_type": "markdown",
   "id": "6617230e-0595-4334-b601-3ef2b1c33c36",
   "metadata": {},
   "source": [
    "#### Q14. Find LCM of Two Numbers"
   ]
  },
  {
   "cell_type": "markdown",
   "id": "10e1d61b-31fe-4db4-a196-7f0599a41f48",
   "metadata": {},
   "source": [
    "##### Find the Least Common Multiple (LCM) of two numbers.\n",
    "##### Example: Input: 4, 5 → Output: 20"
   ]
  },
  {
   "cell_type": "markdown",
   "id": "2b721c75-dbcc-439f-8b9c-53ab7b432bf0",
   "metadata": {},
   "source": [
    "#### Q15. Check if Number is Perfect"
   ]
  },
  {
   "cell_type": "markdown",
   "id": "8928d642-53aa-4f48-83b1-bab73bc0ff57",
   "metadata": {},
   "source": [
    "##### Check if the number is a perfect number (sum of proper divisors equals the number).\n",
    "##### Example: Input: 28 → Output: True (1+2+4+7+14=28)"
   ]
  },
  {
   "cell_type": "markdown",
   "id": "65d91c75-d5ac-4289-ba4b-1c16afd0c197",
   "metadata": {},
   "source": [
    "#### Q16. Count Total Factors of a Number"
   ]
  },
  {
   "cell_type": "markdown",
   "id": "0e320f5a-ea52-4a69-864e-602224639708",
   "metadata": {},
   "source": [
    "##### Count how many factors (including 1 and itself) the number has.\n",
    "##### Example: Input: 6 → Output: 4 (1, 2, 3, 6)"
   ]
  },
  {
   "cell_type": "markdown",
   "id": "9b37dd1a-b9ac-431b-84d0-92011bb458cd",
   "metadata": {},
   "source": [
    "#### Q17. Generate Fibonacci Series (n terms)"
   ]
  },
  {
   "cell_type": "markdown",
   "id": "2805ff58-c059-4b79-a8d2-02335145f64c",
   "metadata": {},
   "source": [
    "##### Print the first n terms of the Fibonacci series.\n",
    "##### Example: Input: 5 → Output: 0 1 1 2 3"
   ]
  },
  {
   "cell_type": "markdown",
   "id": "932d0a7c-cbfa-445a-9d6f-412f8001a4e4",
   "metadata": {},
   "source": [
    "#### Q18. Check if Number is Strong"
   ]
  },
  {
   "cell_type": "markdown",
   "id": "0991b7a4-f6c1-462c-aee8-e3aaf865c809",
   "metadata": {},
   "source": [
    "##### Check if the number is a strong number (sum of factorial of digits equals the number).\n",
    "##### Example: Input: 145 → Output: True (1! + 4! + 5! = 145)"
   ]
  },
  {
   "cell_type": "markdown",
   "id": "dd856933-899b-49d2-a049-0960648aab73",
   "metadata": {},
   "source": [
    "#### Q19. Sum of Digits Until Single Digit"
   ]
  },
  {
   "cell_type": "markdown",
   "id": "f895b697-afdb-4d2a-89ed-dffb6117c31c",
   "metadata": {},
   "source": [
    "##### Keep summing the digits until a single digit is left.\n",
    "##### Example: Input: 9875 → 9+8+7+5=29 → 2+9=11 → 1+1=2 → Output: 2"
   ]
  },
  {
   "cell_type": "markdown",
   "id": "72332c22-1439-4ca4-af2c-193d5d7c2172",
   "metadata": {},
   "source": [
    "#### Q20. Swap Two Numbers (Without Third Variable)"
   ]
  },
  {
   "cell_type": "markdown",
   "id": "84876ad9-71a8-488b-aebe-ee83301a241b",
   "metadata": {},
   "source": [
    "##### Swap two numbers without using a third variable.\n",
    "##### Example: Input: 4, 5 → Output: 5, 4"
   ]
  },
  {
   "cell_type": "markdown",
   "id": "8cd809fb-1396-4c2d-b1fc-8ec264049f48",
   "metadata": {},
   "source": [
    "#### Q21. Check if Number is Harshad"
   ]
  },
  {
   "cell_type": "markdown",
   "id": "ff418c12-ac86-4a32-836d-4f9faa324d07",
   "metadata": {},
   "source": [
    "##### Check if the number is divisible by the sum of its digits.\n",
    "##### Example: Input: 18 → Output: True (18 % (1+8) == 0)"
   ]
  },
  {
   "cell_type": "markdown",
   "id": "30b34d0e-08c5-4206-89c4-bff633a7f9a3",
   "metadata": {},
   "source": [
    "#### Q22. Check if Number is Automorphic"
   ]
  },
  {
   "cell_type": "markdown",
   "id": "2f6c6d62-f6d3-4f08-95eb-6e397c3b5423",
   "metadata": {},
   "source": [
    "##### Check if the square of the number ends with the number itself.\n",
    "##### Example: Input: 76 → 76² = 5776 → Output: True"
   ]
  },
  {
   "cell_type": "markdown",
   "id": "1934f081-d3a5-403e-b236-820d2770c262",
   "metadata": {},
   "source": [
    "#### Q23. Find First Digit of a Number"
   ]
  },
  {
   "cell_type": "markdown",
   "id": "5c82afcc-b024-4c13-8f19-66dde750ebe0",
   "metadata": {},
   "source": [
    "##### Return the first digit of the number.\n",
    "##### Example: Input: 9321 → Output: 9"
   ]
  },
  {
   "cell_type": "markdown",
   "id": "953e86c4-c77e-46cb-a296-05a3633efa65",
   "metadata": {},
   "source": [
    "#### Q24. Find Last Digit of a Number"
   ]
  },
  {
   "cell_type": "markdown",
   "id": "5f307910-fac1-4a5b-84f6-1ae6d3be1978",
   "metadata": {},
   "source": [
    "##### Return the last digit of the number.\n",
    "##### Example: Input: 9321 → Output: 1"
   ]
  },
  {
   "cell_type": "markdown",
   "id": "7c3f823a-cfe3-40dc-b8c8-7a538821c33f",
   "metadata": {},
   "source": [
    "#### Q25. Reverse Only the Digits of a Number (Keep sign)"
   ]
  },
  {
   "cell_type": "markdown",
   "id": "f3554dcc-f27e-47a6-b59d-ca3581a19d31",
   "metadata": {},
   "source": [
    "##### Reverse the digits of the number but preserve its sign.\n",
    "##### Example: Input: -123 → Output: -321"
   ]
  },
  {
   "cell_type": "markdown",
   "id": "d7f0b959-985a-4be8-a204-48f5e5aa63cd",
   "metadata": {},
   "source": [
    "#### Q26. Count Zeros in a Number"
   ]
  },
  {
   "cell_type": "markdown",
   "id": "c3201118-8a39-4f5c-905d-3ebb0fcec82d",
   "metadata": {},
   "source": [
    "##### Count how many zeros are present in the number.\n",
    "##### Example: Input: 10500 → Output: 3"
   ]
  },
  {
   "cell_type": "markdown",
   "id": "f1e23dde-d8fb-4249-9224-ae787c667bf4",
   "metadata": {},
   "source": [
    "#### Q27. Print Number in Words"
   ]
  },
  {
   "cell_type": "markdown",
   "id": "c3fbbbdc-e9ee-494e-9bdb-714c683e4a12",
   "metadata": {},
   "source": [
    "##### Print each digit of the number in words.\n",
    "##### Example: Input: 123 → Output: One Two Three"
   ]
  },
  {
   "cell_type": "markdown",
   "id": "3c194f25-9190-448f-9463-53b69729fda1",
   "metadata": {},
   "source": [
    "#### Q28. Find Power Without Using ** or pow()"
   ]
  },
  {
   "cell_type": "markdown",
   "id": "cdc07564-2084-439f-9ee3-78d389ca3e2c",
   "metadata": {},
   "source": [
    "##### Calculate the power of a number without using ** or pow().\n",
    "##### Example: Input: 2, 3 → Output: 8"
   ]
  },
  {
   "cell_type": "markdown",
   "id": "9311a3ad-e547-4ace-8530-2859528e5f40",
   "metadata": {},
   "source": [
    "#### Q29. Print All Prime Numbers Up to N"
   ]
  },
  {
   "cell_type": "markdown",
   "id": "53a97bf1-3f18-47da-b10c-3869cabc2446",
   "metadata": {},
   "source": [
    "##### Print all prime numbers up to a given number N.\n",
    "##### Example: Input: 10 → Output: 2, 3, 5, 7"
   ]
  },
  {
   "cell_type": "markdown",
   "id": "2bc6e0ad-4862-4bf3-a61a-40e917f53b24",
   "metadata": {},
   "source": [
    "#### Q30. Check if Digits Are in Increasing Order"
   ]
  },
  {
   "cell_type": "markdown",
   "id": "fd35ed82-1f12-4627-b456-8f30173177cb",
   "metadata": {},
   "source": [
    "##### Check if the digits of the number are in strictly increasing order.\n",
    "##### Example: Input: 1234 → Output: True; Input: 1324 → Output: False"
   ]
  },
  {
   "cell_type": "markdown",
   "id": "7acdc88c-fbbe-4024-ad01-1382a6ddbbb8",
   "metadata": {},
   "source": [
    "#### Q31. Find Product of Digits"
   ]
  },
  {
   "cell_type": "markdown",
   "id": "1b1728a9-d0a4-4985-b64f-6b6fac4536b4",
   "metadata": {},
   "source": [
    "##### Return the product of all digits in a number.\n",
    "##### Example: Input: 1234 → Output: 24 (1*2*3*4)"
   ]
  },
  {
   "cell_type": "markdown",
   "id": "495487f6-7216-46d9-b00c-630b348e81bf",
   "metadata": {},
   "source": [
    "#### Q32. Count Frequency of Each Digit"
   ]
  },
  {
   "cell_type": "markdown",
   "id": "e901d8f1-4793-493a-90f5-8c8d839cf8d6",
   "metadata": {},
   "source": [
    "##### Count how many times each digit appears in the number.\n",
    "##### Example: Input: 112232 → Output: 1=2, 2=3, 3=1"
   ]
  },
  {
   "cell_type": "markdown",
   "id": "d3a646b4-1bb2-45fd-9e2d-c6603cd14b65",
   "metadata": {},
   "source": [
    "#### Q33. Check if Number is Armstrong"
   ]
  },
  {
   "cell_type": "markdown",
   "id": "e5581f7f-f792-4c38-88ba-1a74929b71df",
   "metadata": {},
   "source": [
    "##### Check if a number is equal to the sum of the cubes of its digits.\n",
    "##### Example: Input: 153 → Output: True (1³ + 5³ + 3³ = 153)"
   ]
  },
  {
   "cell_type": "markdown",
   "id": "46b6aa3d-4bb6-4980-8ac8-02c751f349e3",
   "metadata": {},
   "source": [
    "#### Q34. Rotate Digits of a Number (Right Rotation by 2)"
   ]
  },
  {
   "cell_type": "markdown",
   "id": "f5ef7b36-8025-4c35-b759-0517691f491f",
   "metadata": {},
   "source": [
    "##### Rotate the digits of a number to the right by 2 places.\n",
    "##### Example: Input: 12345 → Output: 45123"
   ]
  },
  {
   "cell_type": "markdown",
   "id": "c6cc2644-32a1-4330-9517-3509b549302f",
   "metadata": {},
   "source": [
    "#### Q35. Convert Binary to Decimal"
   ]
  },
  {
   "cell_type": "markdown",
   "id": "ecfbb3fc-25bc-45cc-864b-32362f98f6e9",
   "metadata": {},
   "source": [
    "##### Convert a binary number (as integer input) to its decimal form.\n",
    "##### Example: Input: 1010 → Output: 10"
   ]
  },
  {
   "cell_type": "markdown",
   "id": "2d6c1e6d-04e8-461f-a401-60ec16e3cb2c",
   "metadata": {},
   "source": [
    "#### Q36. Convert Decimal to Binary"
   ]
  },
  {
   "cell_type": "markdown",
   "id": "179802bf-cd97-473c-8da1-36ddaf66cdb6",
   "metadata": {},
   "source": [
    "##### Convert a decimal number to binary (without using bin()).\n",
    "##### Example: Input: 10 → Output: 1010"
   ]
  },
  {
   "cell_type": "markdown",
   "id": "c10751ec-cdb1-4dc2-b047-8c65f93b8328",
   "metadata": {},
   "source": [
    "#### Q37. Reverse Binary Representation"
   ]
  },
  {
   "cell_type": "markdown",
   "id": "381733c5-2e81-4a95-b1dd-696b692f0b80",
   "metadata": {},
   "source": [
    "##### Reverse the binary digits of a number.\n",
    "##### Example: Input: 6 (110) → Output: 011 → 3"
   ]
  },
  {
   "cell_type": "markdown",
   "id": "500d6d1d-e7d1-496a-9305-dda2af88f17f",
   "metadata": {},
   "source": [
    "#### Q38. Find Second Largest Digit in a Number"
   ]
  },
  {
   "cell_type": "markdown",
   "id": "ee3de28e-4dcf-47fa-b56a-39acd4ab7b43",
   "metadata": {},
   "source": [
    "##### Return the second largest digit from the number.\n",
    "##### Example: Input: 4723 → Output: 4"
   ]
  },
  {
   "cell_type": "markdown",
   "id": "ea364727-e489-45ae-b515-3e12b3be276c",
   "metadata": {},
   "source": [
    "#### Q39. Sum of All Prime Digits"
   ]
  },
  {
   "cell_type": "markdown",
   "id": "4d40a7bb-3809-4800-b353-bb350b25ebe0",
   "metadata": {},
   "source": [
    "##### Add only the prime digits in the number.\n",
    "##### Example: Input: 2379 → Output: 2+3+7 = 12"
   ]
  },
  {
   "cell_type": "markdown",
   "id": "ec438f2e-0b90-42ea-b86e-57f18143d575",
   "metadata": {},
   "source": [
    "#### Q40. Check if Number is Duck Number"
   ]
  },
  {
   "cell_type": "markdown",
   "id": "360762c3-e6b5-4491-a6da-bfc333b48e49",
   "metadata": {},
   "source": [
    "##### Check if a number contains at least one zero but does not begin with zero.\n",
    "##### Example: Input: 1023 → Output: True; Input: 0123 → Output: False"
   ]
  },
  {
   "cell_type": "markdown",
   "id": "ab71e9c6-245b-4472-bc6e-ca7a28e9fe8d",
   "metadata": {},
   "source": [
    "#### Q41. Check if Number is Magic Number"
   ]
  },
  {
   "cell_type": "markdown",
   "id": "b01fd487-cc75-4e5c-95b6-8a592d24d0a6",
   "metadata": {},
   "source": [
    "##### Magic number = recursively add digits until you get 1.\n",
    "##### Example: Input: 199 → 1+9+9=19 → 1+9=10 → 1+0=1 → Output: True"
   ]
  },
  {
   "cell_type": "markdown",
   "id": "809f3b74-c6ec-417c-ba65-27eea0dbb08b",
   "metadata": {},
   "source": [
    "#### Q42. Print All Divisors of a Number in Sorted Order"
   ]
  },
  {
   "cell_type": "markdown",
   "id": "19dae776-8e2d-41d9-ba0c-0bdcab1f70f3",
   "metadata": {},
   "source": [
    "##### List all divisors of the given number.\n",
    "##### Example: Input: 12 → Output: 1 2 3 4 6 12"
   ]
  },
  {
   "cell_type": "markdown",
   "id": "1c634c33-1524-43b8-95be-48d666bcbe17",
   "metadata": {},
   "source": [
    "#### Q43. Find the Sum of Factorials of Even Digits Only"
   ]
  },
  {
   "cell_type": "markdown",
   "id": "f8e4934e-42b9-4437-9c61-7d3e370c806c",
   "metadata": {},
   "source": [
    "##### Only add factorials of even digits.\n",
    "##### Example: Input: 2483 → Output: 2! + 4! + 8! = 2 + 24 + 40320 = 40346"
   ]
  },
  {
   "cell_type": "markdown",
   "id": "f42b6c0f-4e8b-44ce-9a03-0b8038108a2d",
   "metadata": {},
   "source": [
    "#### Q44. Reverse a Number Without Converting to String"
   ]
  },
  {
   "cell_type": "markdown",
   "id": "3b1ab91d-9ba2-4361-a1af-c97cb705aa72",
   "metadata": {},
   "source": [
    "##### Reverse the digits using only math operations.\n",
    "##### Example: Input: 1234 → Output: 4321"
   ]
  },
  {
   "cell_type": "markdown",
   "id": "29a4e4a8-d8fa-491e-af0b-2e34c8ee5c2c",
   "metadata": {},
   "source": [
    "#### Q45. Replace All Zeros with Fives"
   ]
  },
  {
   "cell_type": "markdown",
   "id": "ba10a9e3-ffad-4d83-8e3c-b927b2ae6a7a",
   "metadata": {},
   "source": [
    "##### Convert every 0 in a number to 5.\n",
    "##### Example: Input: 1020 → Output: 1525"
   ]
  },
  {
   "cell_type": "markdown",
   "id": "9393cf70-0ba9-4133-9d55-b1fe2631e6d0",
   "metadata": {},
   "source": [
    "#### Q46. Find the Smallest Prime Factor"
   ]
  },
  {
   "cell_type": "markdown",
   "id": "ddfc6d12-264b-4aaa-a4b1-5185b64f3df8",
   "metadata": {},
   "source": [
    "##### Return the smallest prime factor of the number.\n",
    "##### Example: Input: 91 → Output: 7"
   ]
  },
  {
   "cell_type": "markdown",
   "id": "7e9a5885-14be-4eee-afab-9a0c99f29d82",
   "metadata": {},
   "source": [
    "#### Q47. Sum of Digits at Even and Odd Positions Separately"
   ]
  },
  {
   "cell_type": "markdown",
   "id": "b9afde76-8031-4cd4-9c98-f3e01cf73192",
   "metadata": {},
   "source": [
    "##### Return separate sums for digits at even and odd indices (0-based).\n",
    "##### Example: Input: 123456 → Output: EvenPosSum=1+3+5=9, OddPosSum=2+4+6=12"
   ]
  },
  {
   "cell_type": "markdown",
   "id": "c0a718c1-5b56-4317-869c-4c32ae78fe39",
   "metadata": {},
   "source": [
    "#### Q48. Calculate HCF and LCM Together"
   ]
  },
  {
   "cell_type": "markdown",
   "id": "6e410322-487f-41f3-b3e0-415c2ca3a68f",
   "metadata": {},
   "source": [
    "##### Return both HCF and LCM of two numbers.\n",
    "##### Example: Input: 12, 18 → Output: HCF=6, LCM=36"
   ]
  },
  {
   "cell_type": "markdown",
   "id": "df42f38d-fbe4-45d2-9606-bf788468669b",
   "metadata": {},
   "source": [
    "#### Q49. Count Palindromic Numbers in a Range"
   ]
  },
  {
   "cell_type": "markdown",
   "id": "f2f743ad-2c0a-4ad7-b7cf-c6e834368f69",
   "metadata": {},
   "source": [
    "##### Given a range from a to b, count how many palindromes exist.\n",
    "##### Example: Input: 10, 100 → Output: 9 (11, 22, ..., 99)"
   ]
  },
  {
   "cell_type": "markdown",
   "id": "d3d8863e-9d83-4db3-8075-602af0c7edbc",
   "metadata": {},
   "source": [
    "#### Q50. Add Digits in Alternating Fashion (Odd - Even + Odd - Even...)"
   ]
  },
  {
   "cell_type": "markdown",
   "id": "20c3927d-2ca2-4b54-b7cb-bf9eaec1e020",
   "metadata": {},
   "source": [
    "##### Alternate between adding and subtracting digits from left to right.\n",
    "##### Example: Input: 12345 → Output: 1-2+3-4+5 = 3"
   ]
  },
  {
   "cell_type": "code",
   "execution_count": null,
   "id": "5ec781a0-6eef-493f-88a7-9ac0b60325c2",
   "metadata": {},
   "outputs": [],
   "source": []
  }
 ],
 "metadata": {
  "kernelspec": {
   "display_name": "Python 3 (ipykernel)",
   "language": "python",
   "name": "python3"
  },
  "language_info": {
   "codemirror_mode": {
    "name": "ipython",
    "version": 3
   },
   "file_extension": ".py",
   "mimetype": "text/x-python",
   "name": "python",
   "nbconvert_exporter": "python",
   "pygments_lexer": "ipython3",
   "version": "3.13.0"
  }
 },
 "nbformat": 4,
 "nbformat_minor": 5
}
