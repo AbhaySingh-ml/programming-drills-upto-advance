{
 "cells": [
  {
   "cell_type": "markdown",
   "id": "91b5d211-4893-4702-afa2-9392cb2c51fd",
   "metadata": {},
   "source": [
    "# 🧠 Understanding __init__ in Python"
   ]
  },
  {
   "cell_type": "markdown",
   "id": "ac32ce3d-249b-445f-bdee-307a2ea285e6",
   "metadata": {},
   "source": [
    "#### 📌 What is __init__?\n",
    "##### __init__ is a special method in Python classes. It is automatically called when a new object of the class is created."
   ]
  },
  {
   "cell_type": "markdown",
   "id": "08acc1f2-887f-437b-9f44-b4fc00557322",
   "metadata": {},
   "source": [
    "## 🔹 Syntax"
   ]
  },
  {
   "cell_type": "code",
   "execution_count": null,
   "id": "ae196450-04f6-4575-98ca-0d851bd1d3c9",
   "metadata": {},
   "outputs": [],
   "source": [
    "class ClassName:\n",
    "    def __init__(self, parameters):\n",
    "        # initialization code\n",
    "        self.attribute = value"
   ]
  },
  {
   "cell_type": "markdown",
   "id": "d4bea00d-8e03-4c2a-b05d-115e06bdce57",
   "metadata": {},
   "source": [
    "## 🔹 Key Points"
   ]
  },
  {
   "cell_type": "markdown",
   "id": "ae36e63b-7c15-4a21-92a2-04ddfb1cd373",
   "metadata": {},
   "source": [
    "- __init__ is also called the constructor.\n",
    "- Used to initialize attributes (variables) of an object.\n",
    "- It is automatically called when an object is created.\n",
    "- It does not return anything (not even None).\n",
    "- The name must be spelled exactly as __init__ (with double underscores on both sides)."
   ]
  },
  {
   "cell_type": "code",
   "execution_count": null,
   "id": "c0f27d92-b397-4d7f-b6b5-05f519b1fd96",
   "metadata": {},
   "outputs": [],
   "source": [
    "class Student:\n",
    "    def __init__(self, name, age):\n",
    "        self.name = name\n",
    "        self.age = age\n",
    "\n",
    "# Creating an object\n",
    "s1 = Student(\"Abhay\", 25)\n",
    "\n",
    "print(s1.name)  # Output: Abhay\n",
    "print(s1.age)   # Output: 25"
   ]
  },
  {
   "cell_type": "markdown",
   "id": "a2c9c3ab-1136-4b19-9cf5-69639c28aa0d",
   "metadata": {},
   "source": []
  }
 ],
 "metadata": {
  "kernelspec": {
   "display_name": "Python 3 (ipykernel)",
   "language": "python",
   "name": "python3"
  },
  "language_info": {
   "codemirror_mode": {
    "name": "ipython",
    "version": 3
   },
   "file_extension": ".py",
   "mimetype": "text/x-python",
   "name": "python",
   "nbconvert_exporter": "python",
   "pygments_lexer": "ipython3",
   "version": "3.13.0"
  }
 },
 "nbformat": 4,
 "nbformat_minor": 5
}
