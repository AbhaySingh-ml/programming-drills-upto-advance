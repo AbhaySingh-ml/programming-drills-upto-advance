{
 "cells": [
  {
   "cell_type": "markdown",
   "id": "4590aec6-6f87-4bbe-bf3e-1af09b92156e",
   "metadata": {},
   "source": [
    "#### Custom Logic Drill Set (Q1 – Q100) for LeetCode Readiness"
   ]
  },
  {
   "cell_type": "markdown",
   "id": "fe53dbfd-2250-4fae-9047-1d35b17b9016",
   "metadata": {},
   "source": [
    "##### Each question is crafted based on your unsolved LeetCode list, gradually increasing in difficulty (Level 3 to near-LeetCode Easy/Medium), with a blend of concepts: prefix sums, hashing, recursion, bit logic, etc. All questions are new and non-repetitive. Many include edge/test-case scenarios to build intuition like real platforms."
   ]
  },
  {
   "cell_type": "markdown",
   "id": "5f69ec28-d52b-46ce-a74f-7233ffb75963",
   "metadata": {},
   "source": [
    "#### Q1. Count Pairs with Given Sum"
   ]
  },
  {
   "cell_type": "markdown",
   "id": "547469c9-f21b-4e78-bfb7-a34330ae4204",
   "metadata": {},
   "source": [
    "##### Find the number of unique pairs in an array that sum to a target.\n",
    "##### Example: Input: [1, 2, 3, 4], target=5 → Output: 2 (pairs: 1+4, 2+3)"
   ]
  },
  {
   "cell_type": "markdown",
   "id": "8d36691f-f418-481a-8086-e5a39ca57d80",
   "metadata": {},
   "source": [
    "#### "
   ]
  },
  {
   "cell_type": "markdown",
   "id": "a12ccec0-8e12-4ffd-9955-4c749ff12fd2",
   "metadata": {},
   "source": [
    "##### "
   ]
  },
  {
   "cell_type": "markdown",
   "id": "f4bb91e7-cec0-4d1d-8720-94fc90715079",
   "metadata": {},
   "source": [
    "#### "
   ]
  },
  {
   "cell_type": "markdown",
   "id": "1b351c10-7e48-4c46-aa49-e81caf09b801",
   "metadata": {},
   "source": [
    "##### "
   ]
  },
  {
   "cell_type": "markdown",
   "id": "5f82205c-cb50-4e1f-aed4-facaca5e84b1",
   "metadata": {},
   "source": [
    "#### "
   ]
  },
  {
   "cell_type": "markdown",
   "id": "d3f6dffb-0d43-438d-94e1-2f3164ee71f7",
   "metadata": {},
   "source": [
    "##### "
   ]
  },
  {
   "cell_type": "markdown",
   "id": "5a4ea094-dbcc-433e-80a8-17f015bbbd22",
   "metadata": {},
   "source": [
    "#### "
   ]
  },
  {
   "cell_type": "markdown",
   "id": "4393e546-0915-4df9-8330-a6edf6e06504",
   "metadata": {},
   "source": [
    "##### "
   ]
  },
  {
   "cell_type": "markdown",
   "id": "9086be53-6890-4474-a8e6-ba66f9e009d2",
   "metadata": {},
   "source": [
    "#### "
   ]
  },
  {
   "cell_type": "markdown",
   "id": "d89a0487-6219-494a-a095-b3b1d8ff1e47",
   "metadata": {},
   "source": [
    "##### "
   ]
  },
  {
   "cell_type": "markdown",
   "id": "f970d8ae-fc7c-4def-b9a6-9c15a8f0ef1f",
   "metadata": {},
   "source": [
    "#### "
   ]
  },
  {
   "cell_type": "markdown",
   "id": "0ce90db0-5d76-4414-8343-24658ae41292",
   "metadata": {},
   "source": [
    "##### "
   ]
  },
  {
   "cell_type": "markdown",
   "id": "6f00bf09-1f42-435a-bc50-5722325c08a4",
   "metadata": {},
   "source": [
    "#### "
   ]
  },
  {
   "cell_type": "markdown",
   "id": "2cca1774-968e-4a8f-83a0-d4513bd8da58",
   "metadata": {},
   "source": [
    "##### "
   ]
  },
  {
   "cell_type": "markdown",
   "id": "42be4cfb-36ad-43ed-b3b7-082c60aa7c0d",
   "metadata": {},
   "source": [
    "#### "
   ]
  },
  {
   "cell_type": "markdown",
   "id": "46ee3307-cda4-46f4-b344-11068373a44d",
   "metadata": {},
   "source": [
    "##### "
   ]
  },
  {
   "cell_type": "markdown",
   "id": "c20b3cfc-ae03-47da-a598-bd0d400e09e9",
   "metadata": {},
   "source": [
    "#### "
   ]
  },
  {
   "cell_type": "markdown",
   "id": "6107e564-e966-4673-9031-442fd039a358",
   "metadata": {},
   "source": [
    "##### "
   ]
  },
  {
   "cell_type": "markdown",
   "id": "0d4cdeba-5d85-416b-a0a3-672b3f408b45",
   "metadata": {},
   "source": [
    "#### "
   ]
  },
  {
   "cell_type": "markdown",
   "id": "c925eb15-2373-435d-a5ad-718ea07660f2",
   "metadata": {},
   "source": [
    "##### "
   ]
  },
  {
   "cell_type": "markdown",
   "id": "3e35ba65-cff0-4eb8-8ef5-3dc345c21ad8",
   "metadata": {},
   "source": [
    "#### "
   ]
  },
  {
   "cell_type": "markdown",
   "id": "4eff2c58-b2fc-48c5-97c2-c396514e5639",
   "metadata": {},
   "source": [
    "##### "
   ]
  },
  {
   "cell_type": "markdown",
   "id": "1d8b6989-067f-4f70-afd2-d8fb89337851",
   "metadata": {},
   "source": [
    "#### "
   ]
  },
  {
   "cell_type": "markdown",
   "id": "c4b59f7e-f1e8-4195-b50e-b1c6de7cbf22",
   "metadata": {},
   "source": [
    "##### "
   ]
  },
  {
   "cell_type": "markdown",
   "id": "b57b1bd4-1ea5-4bd2-8c78-f7b779daa10a",
   "metadata": {},
   "source": [
    "#### "
   ]
  },
  {
   "cell_type": "markdown",
   "id": "438e0300-dfc0-49f8-9862-32321e539700",
   "metadata": {},
   "source": [
    "##### "
   ]
  },
  {
   "cell_type": "markdown",
   "id": "4e2aff61-53b0-4c3e-bc3a-0bfc756b636f",
   "metadata": {},
   "source": [
    "#### "
   ]
  },
  {
   "cell_type": "markdown",
   "id": "cd199852-6fbd-4afc-b481-06e70b7c098b",
   "metadata": {},
   "source": [
    "##### "
   ]
  },
  {
   "cell_type": "markdown",
   "id": "107f781d-4bb3-498d-b6ad-83e8ee0425a5",
   "metadata": {},
   "source": [
    "#### "
   ]
  },
  {
   "cell_type": "markdown",
   "id": "42760a94-284b-461a-9fd3-c19cc7386895",
   "metadata": {},
   "source": [
    "##### "
   ]
  },
  {
   "cell_type": "markdown",
   "id": "5a44e591-e5a6-42a0-94cd-e946d1e43b1b",
   "metadata": {},
   "source": [
    "#### "
   ]
  },
  {
   "cell_type": "markdown",
   "id": "a2987c63-bd35-4eed-b7ed-b6b68b928994",
   "metadata": {},
   "source": [
    "##### "
   ]
  },
  {
   "cell_type": "markdown",
   "id": "1c13709e-16c4-43a2-8987-00ceb6b88b83",
   "metadata": {},
   "source": [
    "#### "
   ]
  },
  {
   "cell_type": "markdown",
   "id": "18253442-1536-449a-94ed-fc3b84fa11f4",
   "metadata": {},
   "source": [
    "##### "
   ]
  },
  {
   "cell_type": "markdown",
   "id": "29b90c04-cbde-443e-a040-6dda766b0c6e",
   "metadata": {},
   "source": [
    "#### "
   ]
  },
  {
   "cell_type": "markdown",
   "id": "4a3b5902-17d3-443b-ac50-5e62da825786",
   "metadata": {},
   "source": [
    "##### "
   ]
  },
  {
   "cell_type": "markdown",
   "id": "60c80f24-e845-4fac-8814-389654a6d22c",
   "metadata": {},
   "source": [
    "#### "
   ]
  },
  {
   "cell_type": "markdown",
   "id": "dd0437ca-75f2-4016-a69f-cceb99cedfb8",
   "metadata": {},
   "source": [
    "##### "
   ]
  },
  {
   "cell_type": "markdown",
   "id": "f6b19ff0-b40d-4cee-af0d-152ecf147ec4",
   "metadata": {},
   "source": [
    "#### "
   ]
  },
  {
   "cell_type": "markdown",
   "id": "d23a9380-499c-4876-a25b-867363bf9ff6",
   "metadata": {},
   "source": [
    "##### "
   ]
  },
  {
   "cell_type": "markdown",
   "id": "8b0f2f39-82d0-4e61-8aa8-f5d3d80f3ec4",
   "metadata": {},
   "source": [
    "#### "
   ]
  },
  {
   "cell_type": "markdown",
   "id": "94d1b343-59b1-4624-8421-bf46bcad07c7",
   "metadata": {},
   "source": [
    "##### "
   ]
  },
  {
   "cell_type": "markdown",
   "id": "068211db-5e23-4ea6-9673-0518062f6e9f",
   "metadata": {},
   "source": [
    "#### "
   ]
  },
  {
   "cell_type": "markdown",
   "id": "f91cc5e1-ac0f-4fdd-800a-ff097aa8de1c",
   "metadata": {},
   "source": [
    "##### "
   ]
  },
  {
   "cell_type": "markdown",
   "id": "8f1e8e55-14ad-4476-a07d-7fafd3fc11fa",
   "metadata": {},
   "source": [
    "#### "
   ]
  },
  {
   "cell_type": "markdown",
   "id": "3e890c8e-bd9e-437e-81eb-71bf9789763d",
   "metadata": {},
   "source": [
    "##### "
   ]
  },
  {
   "cell_type": "markdown",
   "id": "fdb9353e-3882-4f87-8f28-66f4f809f5df",
   "metadata": {},
   "source": [
    "#### "
   ]
  },
  {
   "cell_type": "markdown",
   "id": "d6efa11c-348e-40a2-8566-b2a014a0f827",
   "metadata": {},
   "source": [
    "##### "
   ]
  },
  {
   "cell_type": "markdown",
   "id": "7c3c1fba-2d1d-4eb2-8654-e081c84f9ca2",
   "metadata": {},
   "source": [
    "#### "
   ]
  },
  {
   "cell_type": "markdown",
   "id": "d5d5924c-58bf-4ce1-9afd-3fad8a6cde67",
   "metadata": {},
   "source": [
    "##### "
   ]
  },
  {
   "cell_type": "markdown",
   "id": "d5bca44e-2bbf-4ea4-9cdb-edb5a6dc6193",
   "metadata": {},
   "source": [
    "#### "
   ]
  },
  {
   "cell_type": "markdown",
   "id": "a24ca254-ccbc-4aef-887e-934b798a255c",
   "metadata": {},
   "source": [
    "##### "
   ]
  },
  {
   "cell_type": "markdown",
   "id": "f54cf085-74ba-46be-9e33-f6476bbd79f9",
   "metadata": {},
   "source": [
    "#### "
   ]
  },
  {
   "cell_type": "markdown",
   "id": "0d070bc1-da4e-46f6-94b0-6715e5e6600c",
   "metadata": {},
   "source": [
    "##### "
   ]
  },
  {
   "cell_type": "markdown",
   "id": "8fd81f54-04c5-453a-8d9e-ccfb651dc0c1",
   "metadata": {},
   "source": [
    "#### "
   ]
  },
  {
   "cell_type": "markdown",
   "id": "817fc926-b67e-4c65-a90b-a6350c30c199",
   "metadata": {},
   "source": [
    "##### "
   ]
  },
  {
   "cell_type": "markdown",
   "id": "eaeb45c5-f50d-4d14-95b0-6fef7463ef20",
   "metadata": {},
   "source": [
    "#### "
   ]
  },
  {
   "cell_type": "markdown",
   "id": "8dcecc49-c6ac-4fe1-bc8e-c600cfbaec3e",
   "metadata": {},
   "source": [
    "##### "
   ]
  },
  {
   "cell_type": "markdown",
   "id": "37e4d6f2-dddb-4eed-b0ac-8f7449a380eb",
   "metadata": {},
   "source": [
    "#### "
   ]
  },
  {
   "cell_type": "markdown",
   "id": "7d7a96d5-0be7-475e-814f-1cf6658da8df",
   "metadata": {},
   "source": [
    "##### "
   ]
  },
  {
   "cell_type": "markdown",
   "id": "73411c6c-b04d-45ec-af2f-d9c928928306",
   "metadata": {},
   "source": [
    "#### "
   ]
  },
  {
   "cell_type": "markdown",
   "id": "daa43deb-3ec8-49c5-a58a-a01bac1c0adb",
   "metadata": {},
   "source": [
    "##### "
   ]
  },
  {
   "cell_type": "markdown",
   "id": "2850a3f5-51f3-4a90-b689-dd7091869543",
   "metadata": {},
   "source": [
    "#### "
   ]
  },
  {
   "cell_type": "markdown",
   "id": "b2d25177-ad08-4fe8-96c9-78e3673e426e",
   "metadata": {},
   "source": [
    "##### "
   ]
  },
  {
   "cell_type": "markdown",
   "id": "47322c6e-f733-4711-b96f-f6c19e21dc90",
   "metadata": {},
   "source": [
    "#### "
   ]
  },
  {
   "cell_type": "markdown",
   "id": "90617b8e-af76-4000-8f68-78578c5cdfe9",
   "metadata": {},
   "source": [
    "##### "
   ]
  },
  {
   "cell_type": "markdown",
   "id": "de724914-bd9e-4921-8487-5b4ed2e95ebd",
   "metadata": {},
   "source": [
    "#### "
   ]
  },
  {
   "cell_type": "markdown",
   "id": "35fd216d-d803-4b86-8a50-1ad87ca8772e",
   "metadata": {},
   "source": [
    "##### "
   ]
  },
  {
   "cell_type": "markdown",
   "id": "a90e4597-c386-43ed-9a45-6f3f38b6b2f6",
   "metadata": {},
   "source": [
    "#### "
   ]
  },
  {
   "cell_type": "markdown",
   "id": "d5ac3240-5653-433e-9540-7715cee9d667",
   "metadata": {},
   "source": [
    "##### "
   ]
  },
  {
   "cell_type": "markdown",
   "id": "d4d1e7c8-d216-401a-bf4e-5bc7b533ee7f",
   "metadata": {},
   "source": [
    "#### "
   ]
  },
  {
   "cell_type": "markdown",
   "id": "e74e23a3-8ec4-4361-93d6-0fe992b089c5",
   "metadata": {},
   "source": [
    "##### "
   ]
  },
  {
   "cell_type": "markdown",
   "id": "69ace4c1-2560-4576-aac6-618ebb59c32c",
   "metadata": {},
   "source": [
    "#### "
   ]
  },
  {
   "cell_type": "markdown",
   "id": "fb282d31-984f-4668-a5b0-e80ccb6d22b4",
   "metadata": {},
   "source": [
    "##### "
   ]
  },
  {
   "cell_type": "markdown",
   "id": "94169cd6-cf52-4303-892c-c6683a4e1081",
   "metadata": {},
   "source": [
    "#### "
   ]
  },
  {
   "cell_type": "markdown",
   "id": "ed8d478f-0ba2-4c72-b9b9-3960c815b2b9",
   "metadata": {},
   "source": [
    "##### "
   ]
  },
  {
   "cell_type": "markdown",
   "id": "a2f9e878-bea7-475e-8603-1256e4d6e7da",
   "metadata": {},
   "source": [
    "#### "
   ]
  },
  {
   "cell_type": "markdown",
   "id": "23269e98-e6e3-4413-9740-234216a48675",
   "metadata": {},
   "source": [
    "##### "
   ]
  },
  {
   "cell_type": "markdown",
   "id": "35bad561-6fc4-42e7-8bc0-64bf2d4042e9",
   "metadata": {},
   "source": [
    "#### "
   ]
  },
  {
   "cell_type": "markdown",
   "id": "f1fc8f5e-eef6-4130-b7c2-f1ab033d6935",
   "metadata": {},
   "source": [
    "##### "
   ]
  },
  {
   "cell_type": "markdown",
   "id": "de6d7327-4d78-4929-80cc-dbf35cc88578",
   "metadata": {},
   "source": [
    "#### "
   ]
  },
  {
   "cell_type": "markdown",
   "id": "9fc2847a-8a2f-46cb-8bfa-d38f5b94af2a",
   "metadata": {},
   "source": [
    "##### "
   ]
  },
  {
   "cell_type": "markdown",
   "id": "0b65732b-fcf3-45eb-b9bc-dfe79369f7c8",
   "metadata": {},
   "source": [
    "#### "
   ]
  },
  {
   "cell_type": "markdown",
   "id": "da8da95c-f77b-4d30-a4bb-1f535cff186d",
   "metadata": {},
   "source": [
    "##### "
   ]
  },
  {
   "cell_type": "markdown",
   "id": "5d20e276-6f53-469e-ba34-f36561d58d87",
   "metadata": {},
   "source": [
    "#### "
   ]
  },
  {
   "cell_type": "markdown",
   "id": "39005a0a-061c-44e7-a030-7e6b75293ae0",
   "metadata": {},
   "source": [
    "##### "
   ]
  },
  {
   "cell_type": "markdown",
   "id": "46e5d076-068a-474f-bc29-a23dfee00363",
   "metadata": {},
   "source": [
    "#### "
   ]
  },
  {
   "cell_type": "markdown",
   "id": "e400536d-d596-4e28-8320-7bc70b872bf8",
   "metadata": {},
   "source": [
    "##### "
   ]
  },
  {
   "cell_type": "markdown",
   "id": "1e02b180-12b1-478c-84b7-77ee2ccd17c2",
   "metadata": {},
   "source": [
    "#### "
   ]
  },
  {
   "cell_type": "markdown",
   "id": "68163193-5b8d-4557-9b71-cb3ca03976e0",
   "metadata": {},
   "source": [
    "##### "
   ]
  },
  {
   "cell_type": "markdown",
   "id": "b89d4574-2ed1-44cb-a9c1-8353eba8f6b7",
   "metadata": {},
   "source": [
    "#### "
   ]
  },
  {
   "cell_type": "markdown",
   "id": "af97480a-1005-4b3c-91e2-b0f0b78a9097",
   "metadata": {},
   "source": [
    "##### "
   ]
  },
  {
   "cell_type": "markdown",
   "id": "5d7fbed1-dc04-4ede-b71a-c5084e3ae20f",
   "metadata": {},
   "source": [
    "#### "
   ]
  },
  {
   "cell_type": "markdown",
   "id": "1353ccf5-0c4a-49ca-9223-d5f16397cd30",
   "metadata": {},
   "source": [
    "##### "
   ]
  },
  {
   "cell_type": "markdown",
   "id": "84616a94-eae4-4a02-819b-1418b1d4411c",
   "metadata": {},
   "source": [
    "#### "
   ]
  },
  {
   "cell_type": "markdown",
   "id": "d4ac336c-fc2e-4a92-ba69-094a05f3d10d",
   "metadata": {},
   "source": [
    "##### "
   ]
  },
  {
   "cell_type": "markdown",
   "id": "358a13b2-cb83-43b2-8b5d-0cedbe8def53",
   "metadata": {},
   "source": [
    "#### "
   ]
  },
  {
   "cell_type": "markdown",
   "id": "1024dbac-ffbf-4873-8c84-931513075d6a",
   "metadata": {},
   "source": [
    "##### "
   ]
  },
  {
   "cell_type": "markdown",
   "id": "1e1cad50-cc5b-4854-ac51-ee57aa0759ad",
   "metadata": {},
   "source": [
    "#### "
   ]
  },
  {
   "cell_type": "markdown",
   "id": "d00d60b3-32ae-46b6-b72a-687635807567",
   "metadata": {},
   "source": [
    "##### "
   ]
  },
  {
   "cell_type": "markdown",
   "id": "078a3562-ea97-4045-aaa0-0b833c4119de",
   "metadata": {},
   "source": [
    "#### "
   ]
  },
  {
   "cell_type": "markdown",
   "id": "da0faefd-a167-476f-afff-edd4bb9bd57b",
   "metadata": {},
   "source": [
    "##### "
   ]
  },
  {
   "cell_type": "markdown",
   "id": "a97261bd-15de-4ece-9437-81087114c528",
   "metadata": {},
   "source": [
    "#### "
   ]
  },
  {
   "cell_type": "markdown",
   "id": "d564fbab-db8d-414d-9811-52c80950aff2",
   "metadata": {},
   "source": [
    "##### "
   ]
  },
  {
   "cell_type": "markdown",
   "id": "ac657b12-a652-4342-9d43-2304da895947",
   "metadata": {},
   "source": [
    "#### "
   ]
  },
  {
   "cell_type": "markdown",
   "id": "fb668c1b-dd49-44ed-b949-8b635195f10d",
   "metadata": {},
   "source": [
    "##### "
   ]
  },
  {
   "cell_type": "markdown",
   "id": "578c6436-5b55-4357-ad85-05ebe6273c1e",
   "metadata": {},
   "source": [
    "#### "
   ]
  },
  {
   "cell_type": "markdown",
   "id": "6d1c64d7-4ab2-4629-a538-bbbedef2ae7d",
   "metadata": {},
   "source": [
    "##### "
   ]
  },
  {
   "cell_type": "markdown",
   "id": "a90b19a9-1c4a-4b60-898b-33740b245483",
   "metadata": {},
   "source": [
    "#### "
   ]
  },
  {
   "cell_type": "markdown",
   "id": "925f2629-6156-4bb9-a60d-7d39f0da8d0c",
   "metadata": {},
   "source": [
    "##### "
   ]
  },
  {
   "cell_type": "markdown",
   "id": "eb787901-f344-43df-8cf8-ae7eda700124",
   "metadata": {},
   "source": [
    "#### "
   ]
  },
  {
   "cell_type": "markdown",
   "id": "e3933d18-cb17-44ca-8c66-7e5e1d9f2877",
   "metadata": {},
   "source": [
    "##### "
   ]
  },
  {
   "cell_type": "markdown",
   "id": "9582662c-00e0-4d30-a501-3c6af9ab8505",
   "metadata": {},
   "source": [
    "#### "
   ]
  },
  {
   "cell_type": "markdown",
   "id": "9aaeb20b-f309-4df1-a072-37dda5c40490",
   "metadata": {},
   "source": [
    "##### "
   ]
  },
  {
   "cell_type": "markdown",
   "id": "e6e00bde-dea8-4c62-a819-1e08eb1bb46a",
   "metadata": {},
   "source": [
    "#### "
   ]
  },
  {
   "cell_type": "markdown",
   "id": "4adc8749-0365-46ba-8455-4ba5e03078b6",
   "metadata": {},
   "source": [
    "##### "
   ]
  },
  {
   "cell_type": "markdown",
   "id": "ce73f803-b312-460f-831e-9c3fcc8d69ce",
   "metadata": {},
   "source": []
  },
  {
   "cell_type": "markdown",
   "id": "6cea582c-37f6-4175-9979-5317cad117b7",
   "metadata": {},
   "source": []
  },
  {
   "cell_type": "markdown",
   "id": "81a3a889-8b85-438d-8b17-62524f345291",
   "metadata": {},
   "source": []
  },
  {
   "cell_type": "markdown",
   "id": "b2ff8b35-9bcc-4742-b3ce-07c0d88bb56d",
   "metadata": {},
   "source": []
  },
  {
   "cell_type": "markdown",
   "id": "372f567e-fb3e-4e59-a8de-1cacce4bd0eb",
   "metadata": {},
   "source": []
  },
  {
   "cell_type": "markdown",
   "id": "c79c6972-64fc-4c5c-b417-e0821f53dd72",
   "metadata": {},
   "source": []
  },
  {
   "cell_type": "markdown",
   "id": "a2a10a44-4156-4fd2-b244-8972422cdc16",
   "metadata": {},
   "source": []
  },
  {
   "cell_type": "markdown",
   "id": "e18a665c-b073-44a4-8047-26d31a47d752",
   "metadata": {},
   "source": []
  },
  {
   "cell_type": "markdown",
   "id": "244d05bc-9947-4d7c-8302-4a556c92cf6e",
   "metadata": {},
   "source": []
  },
  {
   "cell_type": "markdown",
   "id": "b99e1b5a-a61c-4522-8a76-86ec1b7e2e20",
   "metadata": {},
   "source": []
  },
  {
   "cell_type": "markdown",
   "id": "b32e6961-86d7-4737-8e63-9fe0e1671740",
   "metadata": {},
   "source": []
  },
  {
   "cell_type": "markdown",
   "id": "eb37603f-2f0d-410b-98d9-06400971f486",
   "metadata": {},
   "source": []
  },
  {
   "cell_type": "markdown",
   "id": "9a9e08a7-4be2-4b08-823f-88502daea342",
   "metadata": {},
   "source": []
  },
  {
   "cell_type": "markdown",
   "id": "ab927a4a-cf6c-4667-a6fc-371957abd791",
   "metadata": {},
   "source": []
  },
  {
   "cell_type": "markdown",
   "id": "ddecc172-0422-45b8-b43f-17ac3fcd2eed",
   "metadata": {},
   "source": []
  },
  {
   "cell_type": "markdown",
   "id": "e2519a47-f0e0-40ec-81f1-8d7b47e39b2b",
   "metadata": {},
   "source": []
  },
  {
   "cell_type": "markdown",
   "id": "9f3aa9bb-c2c4-468b-bb84-1c8452cab350",
   "metadata": {},
   "source": []
  },
  {
   "cell_type": "markdown",
   "id": "b3c346bd-6011-444d-8ec9-b1c1f1ec351a",
   "metadata": {},
   "source": []
  },
  {
   "cell_type": "markdown",
   "id": "045c0a16-f1c3-4d83-9df3-8e7fd0726e00",
   "metadata": {},
   "source": []
  },
  {
   "cell_type": "markdown",
   "id": "3dfd9a68-2329-47e3-b9ee-61a0edef93c1",
   "metadata": {},
   "source": []
  },
  {
   "cell_type": "markdown",
   "id": "8c762af4-c024-428f-a4a4-5ba0bab87dd9",
   "metadata": {},
   "source": []
  },
  {
   "cell_type": "markdown",
   "id": "b3a3fedf-44ae-45ef-8753-818f9f117f53",
   "metadata": {},
   "source": []
  },
  {
   "cell_type": "markdown",
   "id": "cf4f7a3e-1de3-4907-8900-a60d0363077c",
   "metadata": {},
   "source": []
  },
  {
   "cell_type": "markdown",
   "id": "c1e8c82f-565e-4a26-824b-50935cc31b5d",
   "metadata": {},
   "source": []
  },
  {
   "cell_type": "markdown",
   "id": "477fd72d-7f35-4b12-a0d7-c6e1b6e409bf",
   "metadata": {},
   "source": []
  },
  {
   "cell_type": "markdown",
   "id": "4c643cee-8298-401f-9ca1-4a5bf592e105",
   "metadata": {},
   "source": []
  },
  {
   "cell_type": "markdown",
   "id": "379c9273-3102-4bc3-bb62-1886f079aa1c",
   "metadata": {},
   "source": []
  },
  {
   "cell_type": "markdown",
   "id": "c4b1c929-d5ac-4cec-86c8-6b8449fec038",
   "metadata": {},
   "source": []
  },
  {
   "cell_type": "markdown",
   "id": "4fcb7a14-8b83-4720-a19e-9f3b6e5ee8c8",
   "metadata": {},
   "source": []
  },
  {
   "cell_type": "markdown",
   "id": "a1afb4a9-005d-4f94-884a-06d4538e086d",
   "metadata": {},
   "source": []
  },
  {
   "cell_type": "markdown",
   "id": "0c95fa56-8f64-47fc-8f8c-5744aeaba7b8",
   "metadata": {},
   "source": []
  },
  {
   "cell_type": "markdown",
   "id": "46c08803-7227-4f02-8512-4101c7085471",
   "metadata": {},
   "source": []
  },
  {
   "cell_type": "markdown",
   "id": "703e3983-f99b-4907-acb5-e306f6c993fc",
   "metadata": {},
   "source": []
  },
  {
   "cell_type": "markdown",
   "id": "f8b4f390-7452-4d7d-a385-f287139ca37b",
   "metadata": {},
   "source": []
  },
  {
   "cell_type": "markdown",
   "id": "78c1334d-5cec-4393-8c70-eef755524f33",
   "metadata": {},
   "source": []
  },
  {
   "cell_type": "markdown",
   "id": "945329f5-cd3e-462c-be75-5b935a6e169b",
   "metadata": {},
   "source": []
  },
  {
   "cell_type": "markdown",
   "id": "4704dade-5768-4182-9845-9692ef9da805",
   "metadata": {},
   "source": []
  },
  {
   "cell_type": "markdown",
   "id": "6adce4c0-40ba-4111-b505-03b9f762e88f",
   "metadata": {},
   "source": []
  },
  {
   "cell_type": "markdown",
   "id": "1a3314e9-ae41-405d-b365-11dc928d8bcf",
   "metadata": {},
   "source": []
  },
  {
   "cell_type": "markdown",
   "id": "9fd8fa5f-0c25-404e-b590-9d622e36d389",
   "metadata": {},
   "source": []
  },
  {
   "cell_type": "markdown",
   "id": "d9fd5f6a-baab-46be-9755-b8e1b7f92d7f",
   "metadata": {},
   "source": []
  },
  {
   "cell_type": "markdown",
   "id": "a1f9e151-38e1-4f9b-8e52-1ea10a29c6f1",
   "metadata": {},
   "source": []
  },
  {
   "cell_type": "markdown",
   "id": "3d9ec0d3-0ca2-4f2e-90a9-2489553ca7f8",
   "metadata": {},
   "source": []
  },
  {
   "cell_type": "markdown",
   "id": "ebb8756e-df06-469a-b287-060f72ef7132",
   "metadata": {},
   "source": []
  },
  {
   "cell_type": "markdown",
   "id": "e4a8865a-4f4d-406c-8c4e-b9ebf49eea51",
   "metadata": {},
   "source": []
  },
  {
   "cell_type": "markdown",
   "id": "0a075dd3-55ac-449a-a666-4e60823095fa",
   "metadata": {},
   "source": []
  },
  {
   "cell_type": "markdown",
   "id": "2b3189d1-30c2-4637-866f-3420aa7a5d15",
   "metadata": {},
   "source": []
  },
  {
   "cell_type": "markdown",
   "id": "9d0d9d48-ef21-4bcd-9eba-110b2ba209b8",
   "metadata": {},
   "source": []
  },
  {
   "cell_type": "markdown",
   "id": "c85227b3-b794-4e91-8c88-41dc1d490393",
   "metadata": {},
   "source": []
  },
  {
   "cell_type": "markdown",
   "id": "1b812368-522c-4479-a4b8-54208c5cbe53",
   "metadata": {},
   "source": []
  },
  {
   "cell_type": "markdown",
   "id": "efd28b68-7faf-486c-9983-d837f016d9c3",
   "metadata": {},
   "source": []
  },
  {
   "cell_type": "markdown",
   "id": "55c8c141-04ad-4808-9860-a81e2e725086",
   "metadata": {},
   "source": []
  },
  {
   "cell_type": "markdown",
   "id": "0d1a4bbb-084f-4948-8222-a26a90d46e2c",
   "metadata": {},
   "source": []
  },
  {
   "cell_type": "markdown",
   "id": "097c7eba-fb3b-4558-b44a-ae705876f022",
   "metadata": {},
   "source": []
  },
  {
   "cell_type": "markdown",
   "id": "f51c8fa6-456a-4c96-bcfe-ec6342666eff",
   "metadata": {},
   "source": []
  },
  {
   "cell_type": "markdown",
   "id": "d6267ce5-7461-47a4-be0d-9431bedd3778",
   "metadata": {},
   "source": []
  },
  {
   "cell_type": "markdown",
   "id": "e45b1729-8e83-49e9-8c32-5273986dfb66",
   "metadata": {},
   "source": []
  },
  {
   "cell_type": "markdown",
   "id": "ed668f57-d6f2-4b07-a4d1-1b0d99703fe4",
   "metadata": {},
   "source": []
  },
  {
   "cell_type": "markdown",
   "id": "1adb1792-b879-4009-9acb-47f28745d615",
   "metadata": {},
   "source": []
  },
  {
   "cell_type": "markdown",
   "id": "2f11179d-1950-4f9d-98ad-afe41b4340d0",
   "metadata": {},
   "source": []
  },
  {
   "cell_type": "markdown",
   "id": "48092ec4-8011-4154-a30b-3e2190f36f9f",
   "metadata": {},
   "source": []
  },
  {
   "cell_type": "markdown",
   "id": "439dbbf3-5c11-46d0-90cf-3243e96c8058",
   "metadata": {},
   "source": []
  },
  {
   "cell_type": "markdown",
   "id": "7a5fd9bb-2dbb-4989-9adf-d18f1b12d662",
   "metadata": {},
   "source": []
  },
  {
   "cell_type": "markdown",
   "id": "0ed29ae4-993f-4662-b69a-51466ac4d463",
   "metadata": {},
   "source": []
  },
  {
   "cell_type": "markdown",
   "id": "121cc504-0b36-41b2-a1e1-66874f920f10",
   "metadata": {},
   "source": []
  },
  {
   "cell_type": "markdown",
   "id": "ccc052b6-7930-49e4-9b70-a5f86d4ba03f",
   "metadata": {},
   "source": []
  },
  {
   "cell_type": "markdown",
   "id": "883c6623-1700-4f48-90b8-4b51f870c15c",
   "metadata": {},
   "source": []
  },
  {
   "cell_type": "markdown",
   "id": "96f88513-26b2-463d-9bdb-c49cc99fa4f0",
   "metadata": {},
   "source": []
  },
  {
   "cell_type": "markdown",
   "id": "13bcc7e9-fc54-4112-b41c-6d901a38c593",
   "metadata": {},
   "source": []
  },
  {
   "cell_type": "markdown",
   "id": "dd9cf18f-dd2f-4bac-b5ed-83a12c18381e",
   "metadata": {},
   "source": []
  },
  {
   "cell_type": "markdown",
   "id": "46d84691-09d8-41f9-90eb-bcbc004c0222",
   "metadata": {},
   "source": []
  },
  {
   "cell_type": "markdown",
   "id": "542c9691-8a74-4d67-a6ca-21f94f99c28b",
   "metadata": {},
   "source": []
  },
  {
   "cell_type": "markdown",
   "id": "25be37ff-1476-49b3-8914-d223b5857055",
   "metadata": {},
   "source": []
  },
  {
   "cell_type": "markdown",
   "id": "1e2754da-2312-46d7-bfbb-92ae3113faf4",
   "metadata": {},
   "source": []
  },
  {
   "cell_type": "markdown",
   "id": "3f78d8d2-a2c1-4753-8e40-26c1eda71a1a",
   "metadata": {},
   "source": []
  },
  {
   "cell_type": "markdown",
   "id": "7e6112f3-c08c-4318-a1b8-296d1a0dfa3b",
   "metadata": {},
   "source": []
  },
  {
   "cell_type": "markdown",
   "id": "b4783dc3-5683-40bb-9245-0eab39dc9809",
   "metadata": {},
   "source": []
  },
  {
   "cell_type": "markdown",
   "id": "67d43633-d08c-4df1-997f-2592f1d7630a",
   "metadata": {},
   "source": []
  },
  {
   "cell_type": "markdown",
   "id": "e02a489e-b509-402f-8130-052f4abe0303",
   "metadata": {},
   "source": []
  },
  {
   "cell_type": "markdown",
   "id": "4d8a66b1-d66b-4c03-be54-e8e55372355a",
   "metadata": {},
   "source": []
  },
  {
   "cell_type": "markdown",
   "id": "a49e72c0-76a0-4bd7-897a-79abcd97c186",
   "metadata": {},
   "source": []
  },
  {
   "cell_type": "markdown",
   "id": "b3fb7499-f985-483c-9f90-0032e2e7bd6f",
   "metadata": {},
   "source": []
  },
  {
   "cell_type": "markdown",
   "id": "04af74eb-438f-4b30-8786-a8de2d354e07",
   "metadata": {},
   "source": []
  },
  {
   "cell_type": "markdown",
   "id": "de2ecf2a-feae-4772-87df-3cedd430f3c6",
   "metadata": {},
   "source": []
  },
  {
   "cell_type": "markdown",
   "id": "7d6c8279-3252-4e90-8f74-5ca0c02f4d12",
   "metadata": {},
   "source": []
  },
  {
   "cell_type": "markdown",
   "id": "2aba0bde-88cf-4717-856e-6a5dae57ad1c",
   "metadata": {},
   "source": []
  },
  {
   "cell_type": "markdown",
   "id": "3aadc3d8-533c-4ff3-b46b-00adbb17371f",
   "metadata": {},
   "source": []
  },
  {
   "cell_type": "markdown",
   "id": "f6ad10a5-a25b-46ee-8124-6937aa715794",
   "metadata": {},
   "source": []
  },
  {
   "cell_type": "markdown",
   "id": "eead51bc-81ba-4b75-9466-47dcd948bbb8",
   "metadata": {},
   "source": []
  },
  {
   "cell_type": "markdown",
   "id": "a4c5224d-f350-45e6-9935-d4945e9f4fb1",
   "metadata": {},
   "source": []
  },
  {
   "cell_type": "markdown",
   "id": "9d8a9d06-ec99-4e7c-97da-25e8faabe666",
   "metadata": {},
   "source": []
  },
  {
   "cell_type": "markdown",
   "id": "9650daa8-9a75-4be7-a971-ff8198c702ce",
   "metadata": {},
   "source": []
  }
 ],
 "metadata": {
  "kernelspec": {
   "display_name": "Python 3 (ipykernel)",
   "language": "python",
   "name": "python3"
  },
  "language_info": {
   "codemirror_mode": {
    "name": "ipython",
    "version": 3
   },
   "file_extension": ".py",
   "mimetype": "text/x-python",
   "name": "python",
   "nbconvert_exporter": "python",
   "pygments_lexer": "ipython3",
   "version": "3.13.0"
  }
 },
 "nbformat": 4,
 "nbformat_minor": 5
}
