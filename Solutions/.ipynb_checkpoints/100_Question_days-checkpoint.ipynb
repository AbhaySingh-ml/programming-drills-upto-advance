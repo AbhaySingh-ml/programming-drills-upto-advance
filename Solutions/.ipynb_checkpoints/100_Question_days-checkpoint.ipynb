{
 "cells": [
  {
   "cell_type": "markdown",
   "id": "a4c7672e-7058-4d4f-b6c0-858e689bd964",
   "metadata": {},
   "source": [
    "# Custom Logic Drill Set (Q1 – Q100) for LeetCode Readiness"
   ]
  },
  {
   "cell_type": "markdown",
   "id": "079185f2-32aa-43e1-ba7c-ba819bc91279",
   "metadata": {},
   "source": [
    "#### Each question is crafted based on your unsolved LeetCode list, gradually increasing in difficulty (Level 3 to near-LeetCode Easy/Medium), with a blend of concepts: prefix sums, hashing, recursion, bit logic, etc. All questions are new and non-repetitive. Many include edge/test-case scenarios to build intuition like real platforms."
   ]
  },
  {
   "cell_type": "markdown",
   "id": "f2f1f62a-3eb5-420c-a33b-baf693fab95f",
   "metadata": {},
   "source": [
    "#### Q1. Count Pairs with Given Sum"
   ]
  },
  {
   "cell_type": "markdown",
   "id": "97a25c5e-0dd2-4958-b8d2-45e868c670a8",
   "metadata": {},
   "source": [
    "##### Find the number of unique pairs in an array that sum to a target.\n",
    "##### Example: Input: [1, 2, 3, 4], target=5 → Output: 2 (pairs: 1+4, 2+3)"
   ]
  },
  {
   "cell_type": "markdown",
   "id": "00b02184-f093-4870-8270-bc40a685c164",
   "metadata": {},
   "source": [
    "#### Q2. Maximum Difference Between Prefix and Suffix Sum"
   ]
  },
  {
   "cell_type": "markdown",
   "id": "3c66fac4-43c1-49ba-92e8-098b4173a30d",
   "metadata": {},
   "source": [
    "##### Example: Input: [4, 2, 1, 10] → Prefix: [4,6,7,17], Suffix: [17,13,11,10] → Max Difference: 17-4 = 13"
   ]
  },
  {
   "cell_type": "markdown",
   "id": "da84a2b1-ba26-4910-bb99-7de106aa7e22",
   "metadata": {},
   "source": [
    "#### Q3. Smallest Subarray with Sum > X"
   ]
  },
  {
   "cell_type": "markdown",
   "id": "6855afec-5831-469d-8f97-b3cb67755906",
   "metadata": {},
   "source": [
    "##### Return the smallest length of a subarray whose sum is greater than X.\n",
    "##### Example: Input: [1, 4, 45, 6], X=51 → Output: 3 (45+6+1)"
   ]
  },
  {
   "cell_type": "markdown",
   "id": "b2e7a123-a257-48bf-a052-5fa486bd35a1",
   "metadata": {},
   "source": [
    "#### Q4. Check if Subarray Sum is Divisible by K"
   ]
  },
  {
   "cell_type": "markdown",
   "id": "9e048cda-92f7-49c0-ac24-ef2b452cd880",
   "metadata": {},
   "source": [
    "##### Return True if there exists a subarray of at least size 2 whose sum is divisible by K.\n",
    "##### Example: Input: [23,2,4,6,7], K = 6 → Output: True"
   ]
  },
  {
   "cell_type": "markdown",
   "id": "6d66b0a0-850b-40e2-8b0f-a1a62cc0180b",
   "metadata": {},
   "source": [
    "#### Q5. Maximum Sum Subarray of Size K"
   ]
  },
  {
   "cell_type": "markdown",
   "id": "9aaf7997-680e-4207-806f-4b6edbb72657",
   "metadata": {},
   "source": [
    "##### Example: Input: [2,1,5,1,3,2], K=3 → Output: 9"
   ]
  },
  {
   "cell_type": "markdown",
   "id": "5e0a4bb5-1e2b-44f8-83e4-366df71ac610",
   "metadata": {},
   "source": [
    "#### Q6. Count Number of Distinct Elements in Every Window of Size K"
   ]
  },
  {
   "cell_type": "markdown",
   "id": "d96fd769-f65d-4779-b53a-44ed0cbef133",
   "metadata": {},
   "source": [
    "##### Example: Input: [1,2,1,3,4,2,3], K=4 → Output: [3,4,4,3]"
   ]
  },
  {
   "cell_type": "markdown",
   "id": "6425b2e5-1679-4356-a8c1-cec9b67eeff8",
   "metadata": {},
   "source": [
    "#### Q7. Count Pairs With Equal XOR"
   ]
  },
  {
   "cell_type": "markdown",
   "id": "cccd0e97-7b8c-4bf2-aaaf-c838084a8406",
   "metadata": {},
   "source": [
    "##### Count number of index pairs (i, j) where i < j and a[i] ^ a[j] == target.\n",
    "##### Example: Input: [5, 4, 10, 15], target = 5 → Output: 1"
   ]
  },
  {
   "cell_type": "markdown",
   "id": "16b6afbe-0106-4c3b-9841-39f60e1d93e9",
   "metadata": {},
   "source": [
    "#### Q8. Product of Array Except at Index"
   ]
  },
  {
   "cell_type": "markdown",
   "id": "7ef4e52d-f54d-4d26-9034-ff0e786a0d05",
   "metadata": {},
   "source": [
    "##### Return an array where each element is the product of all elements except itself.\n",
    "##### Example: Input: [1, 2, 3, 4] → Output: [24,12,8,6]"
   ]
  },
  {
   "cell_type": "markdown",
   "id": "3ea181e3-fb45-4886-8993-f57e480270a2",
   "metadata": {},
   "source": [
    "#### Q9. Count Subarrays With Sum Equals Target Using HashMap"
   ]
  },
  {
   "cell_type": "markdown",
   "id": "d0d8a1d2-abc5-4774-9f55-e6a9c1ff4dfd",
   "metadata": {},
   "source": [
    "##### Example: Input: [1,2,3], target=3 → Output: 2 ([1,2] and [3])"
   ]
  },
  {
   "cell_type": "markdown",
   "id": "c0413990-c7e0-4f2f-bc95-357f814d4410",
   "metadata": {},
   "source": [
    "#### Q10. Count Index Pairs with Equal Prefix XOR"
   ]
  },
  {
   "cell_type": "markdown",
   "id": "3dae5628-ee51-4aac-95e1-b862754afeeb",
   "metadata": {},
   "source": [
    "##### Example: Input: [1,2,3,0,3], Output: number of pairs where prefix XOR is same"
   ]
  },
  {
   "cell_type": "markdown",
   "id": "d78fca45-4a7f-4842-b629-26f23eb05f98",
   "metadata": {},
   "source": [
    "#### Q11. Smallest Missing Positive Integer"
   ]
  },
  {
   "cell_type": "markdown",
   "id": "6e0eb682-f682-49c7-920b-c27f4172721f",
   "metadata": {},
   "source": [
    "##### Return the first missing positive integer from an unsorted array.\n",
    "##### Example: Input: [3,4,-1,1] → Output: 2"
   ]
  },
  {
   "cell_type": "markdown",
   "id": "4e0e40df-9ba9-4b54-9c4f-250385b0cb1a",
   "metadata": {},
   "source": [
    "#### Q12. Minimum Swaps to Group All 1s Together"
   ]
  },
  {
   "cell_type": "markdown",
   "id": "d4456132-e8a3-4b79-bfe1-62aa91aa6fdb",
   "metadata": {},
   "source": [
    "##### Example: Input: [1,0,1,0,1] → Output: 1"
   ]
  },
  {
   "cell_type": "markdown",
   "id": "b5b2a75f-6b3f-4e62-95c8-3063cefb3b53",
   "metadata": {},
   "source": [
    "#### Q13. Check if String is Isomorphic"
   ]
  },
  {
   "cell_type": "markdown",
   "id": "7bd4bc2b-9cc6-4e2b-80a0-2c0b8dceab93",
   "metadata": {},
   "source": [
    "##### Return True if characters from one string can be replaced to get another.\n",
    "##### Example: Input: s = \"egg\", t = \"add\" → Output: True"
   ]
  },
  {
   "cell_type": "markdown",
   "id": "29c294c3-c316-4a28-bbc5-4c573c246773",
   "metadata": {},
   "source": [
    "#### Q14. Longest Palindromic Substring in a Given String"
   ]
  },
  {
   "cell_type": "markdown",
   "id": "3e3642ed-6a6e-4cd6-9a0f-b69533552c04",
   "metadata": {},
   "source": [
    "##### Example: Input: \"babad\" → Output: \"bab\" or \"aba\""
   ]
  },
  {
   "cell_type": "markdown",
   "id": "56e0efaf-329b-442d-b8e9-f8c338638ce4",
   "metadata": {},
   "source": [
    "#### Q15. Count Anagram Occurrences of Pattern in Text"
   ]
  },
  {
   "cell_type": "markdown",
   "id": "474018b1-9573-4b82-b0b7-25a845a8e35b",
   "metadata": {},
   "source": [
    "##### Example: Input: text = \"cbaebabacd\", pattern = \"abc\" → Output: 2"
   ]
  },
  {
   "cell_type": "markdown",
   "id": "50619404-dd1d-459f-b68f-08fca71723f0",
   "metadata": {},
   "source": [
    "#### Q16. Longest Consecutive Sequence in Array"
   ]
  },
  {
   "cell_type": "markdown",
   "id": "86a10f36-d3d5-4e11-ab82-30210c31030e",
   "metadata": {},
   "source": [
    "##### Example: Input: [100,4,200,1,3,2] → Output: 4 (sequence: 1,2,3,4)"
   ]
  },
  {
   "cell_type": "markdown",
   "id": "3f44a0eb-e4b1-401a-92f7-bbdea1ebe8ea",
   "metadata": {},
   "source": [
    "#### Q17. Check if Two Strings Follow the Same Pattern"
   ]
  },
  {
   "cell_type": "markdown",
   "id": "9acc5c32-bf4f-444f-b9a6-a64165042490",
   "metadata": {},
   "source": [
    "##### Example: Input: pattern = \"abba\", s = \"dog cat cat dog\" → Output: True"
   ]
  },
  {
   "cell_type": "markdown",
   "id": "2bead55c-2ff8-4462-b180-799829b8eb98",
   "metadata": {},
   "source": [
    "#### Q18. Group Words That Are Anagrams"
   ]
  },
  {
   "cell_type": "markdown",
   "id": "1edfac15-2c66-4a47-8928-1c83a82cc8f8",
   "metadata": {},
   "source": [
    "##### Group all anagrams together in a list.\n",
    "##### Example: Input: [\"eat\",\"tea\",\"tan\",\"ate\",\"nat\",\"bat\"] → Output: [[\"eat\",\"tea\",\"ate\"],[\"tan\",\"nat\"],[\"bat\"]]"
   ]
  },
  {
   "cell_type": "markdown",
   "id": "9b51296f-bebc-4c5b-803c-a1d622e7ebf9",
   "metadata": {},
   "source": [
    "#### Q19. Maximum Length of Substring Without Repeating Characters"
   ]
  },
  {
   "cell_type": "markdown",
   "id": "f1b5635a-03ff-4e79-a793-81377c42f66b",
   "metadata": {},
   "source": [
    "##### Example: Input: \"abcabcbb\" → Output: 3"
   ]
  },
  {
   "cell_type": "markdown",
   "id": "ab9296be-1b20-4108-ad97-0a21dea01888",
   "metadata": {},
   "source": [
    "#### Q20. Longest Substring With At Most K Unique Characters"
   ]
  },
  {
   "cell_type": "markdown",
   "id": "cbb927f4-7e07-46e4-9e82-420319c629a5",
   "metadata": {},
   "source": [
    "##### Example: Input: \"aabacbebebe\", K=3 → Output: 7 (substring: \"cbebebe\")"
   ]
  },
  {
   "cell_type": "markdown",
   "id": "52f9072f-c9ad-4814-bde3-e5e9b9938030",
   "metadata": {},
   "source": [
    "#### Q21. Maximum Sum of Hourglass in Matrix"
   ]
  },
  {
   "cell_type": "markdown",
   "id": "d9cad86d-566c-420b-8d1d-1cfcf75b4f02",
   "metadata": {},
   "source": [
    "##### Find the maximum hourglass sum in a 2D grid.\n",
    "##### Example: For a 6x6 grid, an hourglass is a pattern of 7 cells."
   ]
  },
  {
   "cell_type": "markdown",
   "id": "546e9046-7fd3-4270-81ac-4883b04cf301",
   "metadata": {},
   "source": [
    "#### Q22. Find the Difference of Two Strings"
   ]
  },
  {
   "cell_type": "markdown",
   "id": "4893c3e2-d6a7-4336-9185-dc25902bba1a",
   "metadata": {},
   "source": [
    "##### Given two strings s and t, where t is generated by random shuffling of s and then adding one letter. Find the added letter.\n",
    "##### Example: s = \"abcd\", t = \"abcde\" → Output: \"e\""
   ]
  },
  {
   "cell_type": "markdown",
   "id": "ae0f8023-bf0a-4b79-9bdc-a9ccb0e3afa4",
   "metadata": {},
   "source": [
    "#### Q23. Sum of All Odd Length Subarrays"
   ]
  },
  {
   "cell_type": "markdown",
   "id": "8960eec8-5d72-419e-b30a-135b405a62ea",
   "metadata": {},
   "source": [
    "##### Example: Input: [1,4,2,5,3] → Output: 58"
   ]
  },
  {
   "cell_type": "markdown",
   "id": "74406ac7-68f2-4fef-a08f-288d73556797",
   "metadata": {},
   "source": [
    "#### Q24. Longest Substring After At Most K Character Replacements"
   ]
  },
  {
   "cell_type": "markdown",
   "id": "7d901382-b299-4ead-b531-0de62586c0a5",
   "metadata": {},
   "source": [
    "##### Example: s = \"AABABBA\", k = 1 → Output: 4 (change one 'B' to 'A')"
   ]
  },
  {
   "cell_type": "markdown",
   "id": "abf77911-da58-4bb3-9abe-8e3114be6141",
   "metadata": {},
   "source": [
    "#### Q25. Check If a String Can Be Partitioned into Two Palindromes"
   ]
  },
  {
   "cell_type": "markdown",
   "id": "005d1dfe-f8a3-4e06-9df8-682fde853194",
   "metadata": {},
   "source": [
    "##### Example: Input: \"abcbdd\" → Output: True (\"abc\" + \"bdd\")"
   ]
  },
  {
   "cell_type": "markdown",
   "id": "3c87eafb-b957-433d-9131-fb4a50172027",
   "metadata": {},
   "source": [
    "#### Q26. Find All Duplicates in an Array"
   ]
  },
  {
   "cell_type": "markdown",
   "id": "6add1308-e474-4119-b901-e3b60bf00a90",
   "metadata": {},
   "source": [
    "##### Example: Input: [4,3,2,7,8,2,3,1] → Output: [2,3]"
   ]
  },
  {
   "cell_type": "markdown",
   "id": "d5ed3d36-40de-4e00-b223-82196189b874",
   "metadata": {},
   "source": [
    "#### Q27. Find Longest Common Prefix Among Words"
   ]
  },
  {
   "cell_type": "markdown",
   "id": "fb406365-08bc-4064-a1b9-a3d50ccf5a1b",
   "metadata": {},
   "source": [
    "##### Example: Input: [\"flower\",\"flow\",\"flight\"] → Output: \"fl\""
   ]
  },
  {
   "cell_type": "markdown",
   "id": "c7dd599c-718d-4efb-a49e-f3eb509ce877",
   "metadata": {},
   "source": [
    "#### Q28. Diagonal Traverse of 2D Matrix"
   ]
  },
  {
   "cell_type": "markdown",
   "id": "eda7801e-13e3-4efe-9af0-1233af66e7ea",
   "metadata": {},
   "source": [
    "##### Traverse the 2D array in a zigzag diagonal fashion.\n",
    "##### Example: Input: [[1,2,3],[4,5,6],[7,8,9]] → Output: [1,2,4,7,5,3,6,8,9]"
   ]
  },
  {
   "cell_type": "markdown",
   "id": "4bb2da71-3c6e-41ac-8b53-83273b09cca1",
   "metadata": {},
   "source": [
    "#### Q29. Find Kth Largest Element Using Min-Heap"
   ]
  },
  {
   "cell_type": "markdown",
   "id": "9d1ff7bf-8821-4ff9-a8c0-c4f8da890f92",
   "metadata": {},
   "source": [
    "##### Example: Input: [3,2,1,5,6,4], k = 2 → Output: 5"
   ]
  },
  {
   "cell_type": "markdown",
   "id": "b210c361-a3b8-48c3-8a8a-a18af19a2fcf",
   "metadata": {},
   "source": [
    "#### Q30. Find Pivot Index of Array"
   ]
  },
  {
   "cell_type": "markdown",
   "id": "9bd6b3ee-b465-4968-ba9c-022c59df4195",
   "metadata": {},
   "source": [
    "##### Return the index where the sum of elements on the left = right.\n",
    "##### Example: Input: [1,7,3,6,5,6] → Output: 3"
   ]
  },
  {
   "cell_type": "markdown",
   "id": "adda6acf-a235-49f9-848f-932e4e830779",
   "metadata": {},
   "source": [
    "#### Q31. Count Subarrays With Bounded Maximum"
   ]
  },
  {
   "cell_type": "markdown",
   "id": "01ca8b24-e7ab-49a9-ba3e-a01943a7f6c3",
   "metadata": {},
   "source": [
    "##### Example: Input: nums = [2,1,4,3], left = 2, right = 3 → Output: 3"
   ]
  },
  {
   "cell_type": "markdown",
   "id": "3e09b16b-a1b0-4e41-af25-4fd7a4f682c2",
   "metadata": {},
   "source": [
    "#### Q32. Rearrange Characters So No Two Adjacent Are Same"
   ]
  },
  {
   "cell_type": "markdown",
   "id": "0a3f4c7b-9441-4c7e-a31e-04c70e4f0c60",
   "metadata": {},
   "source": [
    "##### Example: Input: \"aaabbc\" → Output: \"ababac\""
   ]
  },
  {
   "cell_type": "markdown",
   "id": "51185c45-72e5-49d7-8dfb-ae87efbf4291",
   "metadata": {},
   "source": [
    "#### Q33. Convert Binary String to Integer Without Built-in"
   ]
  },
  {
   "cell_type": "markdown",
   "id": "375fd833-fb31-47b2-b6a9-12601712deaa",
   "metadata": {},
   "source": [
    "##### Example: Input: \"1011\" → Output: 11"
   ]
  },
  {
   "cell_type": "markdown",
   "id": "a9267009-ea01-47aa-a1f4-3686806eb413",
   "metadata": {},
   "source": [
    "#### Q34. Find All Indices Where Target Occurs After Sorting"
   ]
  },
  {
   "cell_type": "markdown",
   "id": "bfbd1615-e9c1-4c8a-a5f5-b211bcd4cb66",
   "metadata": {},
   "source": [
    "##### Example: Input: nums = [1,2,5,2,3], target = 2 → Output: [1,2]"
   ]
  },
  {
   "cell_type": "markdown",
   "id": "e4122dd2-f7eb-4433-b93e-c579fed96944",
   "metadata": {},
   "source": [
    "#### Q35. Count the Number of Good Pairs"
   ]
  },
  {
   "cell_type": "markdown",
   "id": "cee6739a-fd60-48ab-aebd-b87b8d59773e",
   "metadata": {},
   "source": [
    "##### A pair (i, j) is good if nums[i] == nums[j] and i < j.\n",
    "##### Example: Input: [1,2,3,1,1,3] → Output: 4"
   ]
  },
  {
   "cell_type": "markdown",
   "id": "20c1d313-d6bf-4bee-9da9-47e4d75067a1",
   "metadata": {},
   "source": [
    "#### Q36. Find Peak Element"
   ]
  },
  {
   "cell_type": "markdown",
   "id": "9b27025a-a4c4-42ea-9237-0f04703f3925",
   "metadata": {},
   "source": [
    "##### Return index of any peak element (greater than both neighbors).\n",
    "##### Example: Input: [1,2,3,1] → Output: 2"
   ]
  },
  {
   "cell_type": "markdown",
   "id": "37f7c898-a273-4442-b250-143a2eb141fa",
   "metadata": {},
   "source": [
    "#### Q37. Check If a Word Equals Its Reversal With One Removal"
   ]
  },
  {
   "cell_type": "markdown",
   "id": "1816b5fc-3fca-4845-a480-373912845025",
   "metadata": {},
   "source": [
    "##### Example: \"abca\" → True (remove 'c')"
   ]
  },
  {
   "cell_type": "markdown",
   "id": "ff61bce5-8d8e-4181-8f1b-19ffd4e8795a",
   "metadata": {},
   "source": [
    "#### Q38. Count Palindromic Substrings in a String"
   ]
  },
  {
   "cell_type": "markdown",
   "id": "7925671b-71d3-4148-82a2-9a9f724b0ab1",
   "metadata": {},
   "source": [
    "##### Example: Input: \"aaa\" → Output: 6"
   ]
  },
  {
   "cell_type": "markdown",
   "id": "1d881993-3a42-4737-9482-1b7da2de00b0",
   "metadata": {},
   "source": [
    "#### Q39. Find Elements Appearing More Than N/3 Times"
   ]
  },
  {
   "cell_type": "markdown",
   "id": "da3db592-cae7-4f69-92b1-a6799da8d515",
   "metadata": {},
   "source": [
    "##### Example: Input: [3,2,3] → Output: [3]"
   ]
  },
  {
   "cell_type": "markdown",
   "id": "4913b22e-29d8-4a76-ab8b-81aff57ddb88",
   "metadata": {},
   "source": [
    "#### Q40. Sort Integers by The Number of 1 Bits in Binary"
   ]
  },
  {
   "cell_type": "markdown",
   "id": "9f9691c8-65ed-40df-ba76-274b8605b4f0",
   "metadata": {},
   "source": [
    "##### Example: Input: [0,1,2,3,4,5,6,7,8] → Output: [0,1,2,4,8,3,5,6,7]"
   ]
  },
  {
   "cell_type": "markdown",
   "id": "5db2b3b8-a527-4bfc-be40-a30f63b63c1f",
   "metadata": {},
   "source": [
    "#### Q41. Maximum Product of Three Numbers"
   ]
  },
  {
   "cell_type": "markdown",
   "id": "0e43e3d0-98bc-4dcf-8fe3-241f216e0c43",
   "metadata": {},
   "source": [
    "##### Example: Input: [1,2,3,4] → Output: 24"
   ]
  },
  {
   "cell_type": "markdown",
   "id": "2e345a08-7313-421d-8337-971a2da840d5",
   "metadata": {},
   "source": [
    "#### Q42. Reverse Words in a Sentence Without Using Built-in Split"
   ]
  },
  {
   "cell_type": "markdown",
   "id": "069eb646-2f7e-45c3-b49f-e2f121c7b7c4",
   "metadata": {},
   "source": [
    "##### Example: Input: \"the sky is blue\" → Output: \"blue is sky the\""
   ]
  },
  {
   "cell_type": "markdown",
   "id": "a699abd2-856a-47f1-b752-ed802436ebe8",
   "metadata": {},
   "source": [
    "#### Q43. Find the Duplicate Number Using Cycle Detection"
   ]
  },
  {
   "cell_type": "markdown",
   "id": "fc0994df-d58e-4286-8bc7-8b6dd6c62d3e",
   "metadata": {},
   "source": [
    "##### Example: Input: [1,3,4,2,2] → Output: 2 "
   ]
  },
  {
   "cell_type": "markdown",
   "id": "6ea6b519-d80e-4c74-93c8-0bd477d30a98",
   "metadata": {},
   "source": [
    "#### Q44. Find Longest Mountain in Array"
   ]
  },
  {
   "cell_type": "markdown",
   "id": "eb1a0baa-3826-4551-a129-afd906f697fa",
   "metadata": {},
   "source": [
    "##### Example: Input: [2,1,4,7,3,2,5] → Output: 5"
   ]
  },
  {
   "cell_type": "markdown",
   "id": "cadf1788-6fd1-4cc4-adeb-e7a142a2b1ee",
   "metadata": {},
   "source": [
    "#### Q45. Remove K Digits to Make the Smallest Number"
   ]
  },
  {
   "cell_type": "markdown",
   "id": "1de8c98c-db66-4f16-9645-f0894791b37c",
   "metadata": {},
   "source": [
    "##### Example: Input: num = \"1432219\", k = 3 → Output: \"1219\""
   ]
  },
  {
   "cell_type": "markdown",
   "id": "e4b48c0d-b9c2-4402-bb5e-1a2aa625ddfb",
   "metadata": {},
   "source": [
    "#### Q46. Find All Missing Numbers in Array"
   ]
  },
  {
   "cell_type": "markdown",
   "id": "f70cf0b0-21d0-4246-9585-93dafd88168c",
   "metadata": {},
   "source": [
    "##### Example: Input: [4,3,2,7,8,2,3,1] → Output: [5,6]"
   ]
  },
  {
   "cell_type": "markdown",
   "id": "0dffc354-39f3-4a06-92a0-895eb5016204",
   "metadata": {},
   "source": [
    "#### Q47. Generate All Subsets With Duplicates"
   ]
  },
  {
   "cell_type": "markdown",
   "id": "6801d1c1-c462-4361-9fb7-01e3cf715679",
   "metadata": {},
   "source": [
    "##### Example: Input: [1,2,2] → Output: [[],[1],[2],[1,2],[2,2],[1,2,2]]"
   ]
  },
  {
   "cell_type": "markdown",
   "id": "77d58300-5ad9-4aae-a75c-2881f8c37ee9",
   "metadata": {},
   "source": [
    "#### Q48. Remove All Adjacent Duplicates in String"
   ]
  },
  {
   "cell_type": "markdown",
   "id": "d23b2991-3659-49e5-83b7-3c16475764f8",
   "metadata": {},
   "source": [
    "##### Example: Input: \"abbaca\" → Output: \"ca\"##### "
   ]
  },
  {
   "cell_type": "markdown",
   "id": "b4db322f-bc09-443b-8d61-8565e459d075",
   "metadata": {},
   "source": [
    "#### Q49. Binary Search to Find Square Root"
   ]
  },
  {
   "cell_type": "markdown",
   "id": "3be6eda3-ffa3-42d8-8ac4-8f3dd99504a7",
   "metadata": {},
   "source": [
    "##### Example: Input: 8 → Output: 2"
   ]
  },
  {
   "cell_type": "markdown",
   "id": "a3676378-5c7f-4603-926f-96b93079f2d4",
   "metadata": {},
   "source": [
    "#### Q50. Find All Unique Quadruplets That Sum to Target"
   ]
  },
  {
   "cell_type": "markdown",
   "id": "2097c150-4db0-42ba-a4c0-a1f6629cfe27",
   "metadata": {},
   "source": [
    "##### Example: Input: [1,0,-1,0,-2,2], target=0 → Output: [[-2,-1,1,2],[-2,0,0,2],[-1,0,0,1]]"
   ]
  },
  {
   "cell_type": "markdown",
   "id": "ff6adef5-d2dd-4b5d-a794-30682a3eeb23",
   "metadata": {},
   "source": [
    "#### Q51. Maximum Sum Rectangle in 2D Matrix"
   ]
  },
  {
   "cell_type": "markdown",
   "id": "f015f3bd-ed1e-45d0-abbf-4da371d0fbca",
   "metadata": {},
   "source": [
    "##### Find the submatrix with the maximum sum.\n",
    "##### Example: Input: [[1,2,-1],[-3,4,5],[-2,3,4]] → Output: 18"
   ]
  },
  {
   "cell_type": "markdown",
   "id": "efddb0c8-cbe9-4d16-a46b-00deb06e966e",
   "metadata": {},
   "source": [
    "#### Q52. Longest Subarray with Sum Less Than or Equal to K"
   ]
  },
  {
   "cell_type": "markdown",
   "id": "d3a5f65e-0360-4e93-8f1f-ec2ff7bb6e6c",
   "metadata": {},
   "source": [
    "##### Example: Input: [10, 5, 2, 7, 1, 9], K = 15 → Output: 4 (subarray: [5,2,7,1])"
   ]
  },
  {
   "cell_type": "markdown",
   "id": "5abc10b3-3998-497d-b129-3c7d61fb9dc0",
   "metadata": {},
   "source": [
    "#### Q53. Check for Palindromic Permutation"
   ]
  },
  {
   "cell_type": "markdown",
   "id": "0446499c-1aa5-4229-9368-513f5b8c7036",
   "metadata": {},
   "source": [
    "##### Return True if any permutation of the string is a palindrome.\n",
    "##### Example: Input: \"carrace\" → Output: True"
   ]
  },
  {
   "cell_type": "markdown",
   "id": "ccde606c-2b07-4449-bc3e-a4b2773a2639",
   "metadata": {},
   "source": [
    "#### Q54. Split Array into Consecutive Subsequences"
   ]
  },
  {
   "cell_type": "markdown",
   "id": "758491df-75be-4c11-8843-4ad925deda45",
   "metadata": {},
   "source": [
    "##### Example: Input: [1,2,3,3,4,5] → Output: True"
   ]
  },
  {
   "cell_type": "markdown",
   "id": "d49f306b-34d0-43ad-9407-e26a5320df41",
   "metadata": {},
   "source": [
    "#### Q55. Number of Subarrays with Product Less Than K"
   ]
  },
  {
   "cell_type": "markdown",
   "id": "df5bf7a1-a976-485d-812a-ea6abb7341f7",
   "metadata": {},
   "source": [
    "##### Example: Input: [10, 5, 2, 6], K=100 → Output: 8"
   ]
  },
  {
   "cell_type": "markdown",
   "id": "64b3d63d-0457-4921-93dc-a2a6c4f260b2",
   "metadata": {},
   "source": [
    "#### Q56. Find All Triplets That Sum to Target Without Duplicates"
   ]
  },
  {
   "cell_type": "markdown",
   "id": "1da260ec-448f-4ca1-a318-8c14e7e63519",
   "metadata": {},
   "source": [
    "##### Example: Input: [1,0,-1,2,-1,-4], target=0 → Output: [[-1,-1,2],[-1,0,1]]"
   ]
  },
  {
   "cell_type": "markdown",
   "id": "25cc9f61-56d6-40f8-ad4d-bca5a156492b",
   "metadata": {},
   "source": [
    "#### Q57. Find the First Missing Even Number"
   ]
  },
  {
   "cell_type": "markdown",
   "id": "626e622b-176f-479f-9f32-1096602b2d40",
   "metadata": {},
   "source": [
    "##### Example: Input: [0, 2, 4, 6] → Output: 8"
   ]
  },
  {
   "cell_type": "markdown",
   "id": "97f61db1-dd81-4948-8022-3bc7cb0d28ef",
   "metadata": {},
   "source": [
    "#### Q58. Maximum Sum of Non-Adjacent Elements"
   ]
  },
  {
   "cell_type": "markdown",
   "id": "7f03eedf-8829-4f6a-a765-bbf159488971",
   "metadata": {},
   "source": [
    "##### Example: Input: [3,2,5,10,7] → Output: 15 (3+10 or 2+10)"
   ]
  },
  {
   "cell_type": "markdown",
   "id": "0b27363a-da5b-469b-b09a-c77a0c3eb4dd",
   "metadata": {},
   "source": [
    "#### Q59. Count Unique Emails"
   ]
  },
  {
   "cell_type": "markdown",
   "id": "b02339dd-c533-456f-8f6a-2eb03e1b5db4",
   "metadata": {},
   "source": [
    "##### Example: Input: [\"test.email+alex@leetcode.com\", \"test.e.mail+bob@leetcode.com\"] → Output: 1"
   ]
  },
  {
   "cell_type": "markdown",
   "id": "cf1a77b2-d073-4a55-8fe8-1322ff90d739",
   "metadata": {},
   "source": [
    "#### Q60. Longest Harmonious Subsequence"
   ]
  },
  {
   "cell_type": "markdown",
   "id": "22785bf0-55ed-4209-b4b4-cbb56ea062eb",
   "metadata": {},
   "source": [
    "##### Find the length of the longest subsequence where the difference between max and min is exactly 1.\n",
    "##### Example: Input: [1,3,2,2,5,2,3,7] → Output: 5"
   ]
  },
  {
   "cell_type": "markdown",
   "id": "f9169be6-7e3b-4af9-ba5a-d3d335eb6150",
   "metadata": {},
   "source": [
    "#### Q61. Longest Repeating Substring"
   ]
  },
  {
   "cell_type": "markdown",
   "id": "2ae8bfa8-42c0-4e5a-98da-a7fd26b6de35",
   "metadata": {},
   "source": [
    "##### Example: Input: \"abcdabc\" → Output: 3 (substring: \"abc\")"
   ]
  },
  {
   "cell_type": "markdown",
   "id": "45bd024f-51c0-4880-b5f8-91eb2e02b4e3",
   "metadata": {},
   "source": [
    "#### Q62. Remove All Occurrences of a Substring"
   ]
  },
  {
   "cell_type": "markdown",
   "id": "7261cfc4-8343-40a2-8ac7-05be02c45c72",
   "metadata": {},
   "source": [
    "##### Example: Input: s = \"daabcbaabcbc\", part = \"abc\" → Output: \"dab\""
   ]
  },
  {
   "cell_type": "markdown",
   "id": "321b7505-9abb-402a-838a-ffd5d1ae3549",
   "metadata": {},
   "source": [
    "#### Q63. Maximum Length of Balanced Subarray"
   ]
  },
  {
   "cell_type": "markdown",
   "id": "26df0ecb-4c34-4db2-baa9-2372f04253bc",
   "metadata": {},
   "source": [
    "##### Find the length of the longest subarray with equal number of 0s and 1s.\n",
    "##### Example: Input: [0,1,0] → Output: 2"
   ]
  },
  {
   "cell_type": "markdown",
   "id": "3546df55-877a-4d3c-8186-6e70db22639e",
   "metadata": {},
   "source": [
    "#### Q64. Kth Missing Positive Number"
   ]
  },
  {
   "cell_type": "markdown",
   "id": "538de80f-8af0-4e2a-ada0-f48e968cfd86",
   "metadata": {},
   "source": [
    "##### Example: Input: [2,3,4,7,11], k=5 → Output: 9"
   ]
  },
  {
   "cell_type": "markdown",
   "id": "a588076b-0b51-4538-a59b-b52802839089",
   "metadata": {},
   "source": [
    "#### Q65. Maximum Area of a Piece of Cake After Cuts"
   ]
  },
  {
   "cell_type": "markdown",
   "id": "c0a69b56-943b-4162-aedf-2c2e658bd0b5",
   "metadata": {},
   "source": [
    "##### Example: h = 5, w = 4, horizontalCuts = [1,2,4], verticalCuts = [1,3] → Output: 4"
   ]
  },
  {
   "cell_type": "markdown",
   "id": "b85ca9f5-f571-482f-82ab-d7f0bfa9e2bc",
   "metadata": {},
   "source": [
    "#### Q66. Check If Repeated Substring Pattern"
   ]
  },
  {
   "cell_type": "markdown",
   "id": "7f60b8a5-356b-4445-88ef-ac13cbc3589a",
   "metadata": {},
   "source": [
    "##### Example: Input: \"abab\" → Output: True"
   ]
  },
  {
   "cell_type": "markdown",
   "id": "3aa52b1e-d15c-40b2-88a0-5f992eb9e648",
   "metadata": {},
   "source": [
    "#### Q67. Longest Increasing Subsequence"
   ]
  },
  {
   "cell_type": "markdown",
   "id": "54d26b84-bb48-4831-94ca-79773a5e5437",
   "metadata": {},
   "source": [
    "##### Example: Input: [10,9,2,5,3,7,101,18] → Output: 4 ([2,3,7,101])"
   ]
  },
  {
   "cell_type": "markdown",
   "id": "24e409df-e4fe-4b67-84cd-7bff42a63f8d",
   "metadata": {},
   "source": [
    "#### Q68. Word Ladder – Minimum Transformations"
   ]
  },
  {
   "cell_type": "markdown",
   "id": "210de8a3-0adb-4817-8ffd-22403eee34ee",
   "metadata": {},
   "source": [
    "##### Example: begin = \"hit\", end = \"cog\", dict = [\"hot\",\"dot\",\"dog\",\"lot\",\"log\",\"cog\"] → Output: 5"
   ]
  },
  {
   "cell_type": "markdown",
   "id": "de58c154-decd-4e11-a0cc-d7c1b01a3015",
   "metadata": {},
   "source": [
    "#### Q69. Number of Provinces (Connected Components)"
   ]
  },
  {
   "cell_type": "markdown",
   "id": "7ab536a2-b8c0-4ddf-a601-504d1477f692",
   "metadata": {},
   "source": [
    "##### Example: Input: [[1,1,0],[1,1,0],[0,0,1]] → Output: 2"
   ]
  },
  {
   "cell_type": "markdown",
   "id": "7c90907b-333b-40cc-91ec-582e0d110680",
   "metadata": {},
   "source": [
    "#### Q70. Detect Cycle in a Directed Graph"
   ]
  },
  {
   "cell_type": "markdown",
   "id": "919d20e6-f02a-4a2a-84a7-0676802f6867",
   "metadata": {},
   "source": [
    "##### Example: Input: edges = [[0,1],[1,2],[2,0]] → Output: True"
   ]
  },
  {
   "cell_type": "markdown",
   "id": "f6baf28a-32fe-4618-b065-ccc88dea9260",
   "metadata": {},
   "source": [
    "#### Q71. Maximum Path Sum in Binary Tree"
   ]
  },
  {
   "cell_type": "markdown",
   "id": "9a1aac79-b112-4c23-8181-63cc96d300b3",
   "metadata": {},
   "source": [
    "##### Example: Input: Binary tree with nodes [-10,9,20,null,null,15,7] → Output: 42"
   ]
  },
  {
   "cell_type": "markdown",
   "id": "751f3e24-d622-4df8-9088-81a93785f91c",
   "metadata": {},
   "source": [
    "#### Q72. Flatten Nested List Iterator"
   ]
  },
  {
   "cell_type": "markdown",
   "id": "003e18f8-2e36-4e7f-bc8b-537d7df2c09e",
   "metadata": {},
   "source": [
    "##### Implement an iterator to flatten a nested list.\n",
    "##### Example: Input: [[1,1],2,[1,1]] → Output: [1,1,2,1,1]"
   ]
  },
  {
   "cell_type": "markdown",
   "id": "84f3f896-d9a3-482e-bf63-f8400c6decdb",
   "metadata": {},
   "source": [
    "#### Q73. Evaluate Reverse Polish Notation"
   ]
  },
  {
   "cell_type": "markdown",
   "id": "4166e188-1f67-47d5-8ba6-2af0ab551715",
   "metadata": {},
   "source": [
    "##### Example: Input: [\"2\", \"1\", \"+\", \"3\", \"*\"] → Output: 9"
   ]
  },
  {
   "cell_type": "markdown",
   "id": "6df16861-8ed1-49a8-8e28-69a3b9d7719e",
   "metadata": {},
   "source": [
    "#### Q74. Decode String with Nested Patterns"
   ]
  },
  {
   "cell_type": "markdown",
   "id": "de33a156-989f-41f8-9544-560cbbaa7d9d",
   "metadata": {},
   "source": [
    "##### Example: Input: \"3[a2[c]]\" → Output: \"accaccacc\""
   ]
  },
  {
   "cell_type": "markdown",
   "id": "d35dac4e-c9b6-4adf-b87f-630eab6e565f",
   "metadata": {},
   "source": [
    "#### Q75. Check If Tree is Symmetric"
   ]
  },
  {
   "cell_type": "markdown",
   "id": "e2ce41d0-00fd-4935-be53-5931bccced49",
   "metadata": {},
   "source": [
    "##### Example: Input: [1,2,2,3,4,4,3] → Output: True"
   ]
  },
  {
   "cell_type": "markdown",
   "id": "8013f130-11d8-4a28-8a05-8d2512676513",
   "metadata": {},
   "source": [
    "#### Q76. Sum Root to Leaf Numbers"
   ]
  },
  {
   "cell_type": "markdown",
   "id": "e5232fbf-ed28-4556-9859-b614ea459646",
   "metadata": {},
   "source": [
    "##### Example: Input: [1,2,3] → Output: 25 (paths 12 + 13)"
   ]
  },
  {
   "cell_type": "markdown",
   "id": "556b2094-fb16-46ed-bc64-3a95af5b36c1",
   "metadata": {},
   "source": [
    "#### Q77. Serialize and Deserialize Binary Tree"
   ]
  },
  {
   "cell_type": "markdown",
   "id": "71029bde-2e23-4937-9e1e-38c593b7adda",
   "metadata": {},
   "source": [
    "##### Design an encoder/decoder for trees."
   ]
  },
  {
   "cell_type": "markdown",
   "id": "2eaf30b3-c535-4b2c-8663-468b81a3ec3a",
   "metadata": {},
   "source": [
    "#### Q78. Path Sum in Binary Tree"
   ]
  },
  {
   "cell_type": "markdown",
   "id": "dbe003b7-1e93-478b-aa69-94bed97c0a64",
   "metadata": {},
   "source": [
    "##### Example: Input: root = [5,4,8,11,null,13,4,7,2,null,null,null,1], target = 22 → Output: True"
   ]
  },
  {
   "cell_type": "markdown",
   "id": "a919d1c4-cdf8-4837-84d1-3bf5b002cdc1",
   "metadata": {},
   "source": [
    "#### Q79. Clone Graph"
   ]
  },
  {
   "cell_type": "markdown",
   "id": "ebfd5e39-103f-4f77-999b-23205e819d59",
   "metadata": {},
   "source": [
    "##### Example: Input: Undirected graph as adjacency list → Output: Deep copy"
   ]
  },
  {
   "cell_type": "markdown",
   "id": "d98700ef-da41-40b4-bc69-40a93ab61ea6",
   "metadata": {},
   "source": [
    "#### Q80. Merge Intervals"
   ]
  },
  {
   "cell_type": "markdown",
   "id": "4acce952-ffe5-4a11-b288-611844cbfe5a",
   "metadata": {},
   "source": [
    "##### Example: Input: [[1,3],[2,6],[8,10],[15,18]] → Output: [[1,6],[8,10],[15,18]]"
   ]
  },
  {
   "cell_type": "markdown",
   "id": "077c8953-15ea-4de8-b9a2-44b22d5545d0",
   "metadata": {},
   "source": [
    "#### Q81. Maximum Product of Three Numbers"
   ]
  },
  {
   "cell_type": "markdown",
   "id": "187b0edf-be54-4be5-bf94-a6620757a175",
   "metadata": {},
   "source": [
    "##### Example: Input: [1,2,3,4] → Output: 24"
   ]
  },
  {
   "cell_type": "markdown",
   "id": "26552c8d-c25a-44e4-9aa7-adb096213d83",
   "metadata": {},
   "source": [
    "#### Q82. Reverse Words in a Sentence Without Using Built-in Split"
   ]
  },
  {
   "cell_type": "markdown",
   "id": "17491665-afdb-415d-a316-80fc9d0d8367",
   "metadata": {},
   "source": [
    "##### Example: Input: \"the sky is blue\" → Output: \"blue is sky the\""
   ]
  },
  {
   "cell_type": "markdown",
   "id": "7b50e879-33eb-4a3b-a120-c1b5e92396bc",
   "metadata": {},
   "source": [
    "#### Q83. Find the Duplicate Number Using Cycle Detection"
   ]
  },
  {
   "cell_type": "markdown",
   "id": "2d500a36-2cfc-45f8-bf9e-9e9765e80bed",
   "metadata": {},
   "source": [
    "##### Example: Input: [1,3,4,2,2] → Output: 2"
   ]
  },
  {
   "cell_type": "markdown",
   "id": "ae795353-512e-4118-8346-2e5269bc3eb9",
   "metadata": {},
   "source": [
    "#### Q84. Find Longest Mountain in Array"
   ]
  },
  {
   "cell_type": "markdown",
   "id": "65e6aea1-4622-49ff-83cb-8610832cc194",
   "metadata": {},
   "source": [
    "##### Example: Input: [2,1,4,7,3,2,5] → Output: 5"
   ]
  },
  {
   "cell_type": "markdown",
   "id": "0077d62f-fce9-4fc5-af97-89578153d93b",
   "metadata": {},
   "source": [
    "#### Q85. Remove K Digits to Make the Smallest Number"
   ]
  },
  {
   "cell_type": "markdown",
   "id": "a71a73fb-947d-4aee-b7d0-9a496483afd1",
   "metadata": {},
   "source": [
    "##### Example: Input: num = \"1432219\", k = 3 → Output: \"1219\""
   ]
  },
  {
   "cell_type": "markdown",
   "id": "cd42e387-a07e-48f8-ac48-bbd93fbe06b2",
   "metadata": {},
   "source": [
    "#### Q86. Find All Missing Numbers in Array"
   ]
  },
  {
   "cell_type": "markdown",
   "id": "023ad631-d4c7-445a-89e1-85fcb63856d8",
   "metadata": {},
   "source": [
    "##### Example: Input: [4,3,2,7,8,2,3,1] → Output: [5,6]"
   ]
  },
  {
   "cell_type": "markdown",
   "id": "a792c45b-dfdf-44ab-acab-d49ca8a1919d",
   "metadata": {},
   "source": [
    "#### Q87. Generate All Subsets With Duplicates"
   ]
  },
  {
   "cell_type": "markdown",
   "id": "bc99bcf7-fa4d-4067-b02c-bde9e37e87f3",
   "metadata": {},
   "source": [
    "##### Example: Input: [1,2,2] → Output: [[],[1],[2],[1,2],[2,2],[1,2,2]]"
   ]
  },
  {
   "cell_type": "markdown",
   "id": "184470da-83fd-404c-a8f6-76a681b5485e",
   "metadata": {},
   "source": [
    "#### Q88. Remove All Adjacent Duplicates in String"
   ]
  },
  {
   "cell_type": "markdown",
   "id": "403550af-f66d-4d40-8833-071f25150ab2",
   "metadata": {},
   "source": [
    "##### Example: Input: \"abbaca\" → Output: \"ca\""
   ]
  },
  {
   "cell_type": "markdown",
   "id": "fc7d2c64-1f9e-432d-bc95-1379aeffd88d",
   "metadata": {},
   "source": [
    "#### Q89. Binary Search to Find Square Root"
   ]
  },
  {
   "cell_type": "markdown",
   "id": "afb6c852-7f29-4dbb-8e48-20d371cd679f",
   "metadata": {},
   "source": [
    "##### Example: Input: 8 → Output: 2"
   ]
  },
  {
   "cell_type": "markdown",
   "id": "89916122-d141-4849-9212-e673f0cb9915",
   "metadata": {},
   "source": [
    "#### Q90. Find All Unique Quadruplets That Sum to Target"
   ]
  },
  {
   "cell_type": "markdown",
   "id": "9b21fcf0-0a08-40a5-840f-5d71da9701bc",
   "metadata": {},
   "source": [
    "##### Example: Input: [1,0,-1,0,-2,2], target=0 → Output: [[-2,-1,1,2],[-2,0,0,2],[-1,0,0,1]]"
   ]
  },
  {
   "cell_type": "markdown",
   "id": "c60949dd-36ad-42ce-b3d0-dcbafb566f3e",
   "metadata": {},
   "source": [
    "#### Q91. Minimum Moves to Equal Array Elements"
   ]
  },
  {
   "cell_type": "markdown",
   "id": "7e86b7b1-3f72-4ac0-af48-eba4ab2f03f5",
   "metadata": {},
   "source": [
    "##### Example: Input: [1,2,3] → Output: 3"
   ]
  },
  {
   "cell_type": "markdown",
   "id": "06f65797-11ea-415b-b2f4-85b2a8b156dd",
   "metadata": {},
   "source": [
    "#### Q92. Find Longest Repeating Character Replacement"
   ]
  },
  {
   "cell_type": "markdown",
   "id": "42dd68dc-21c8-4d49-a480-b955a61475b2",
   "metadata": {},
   "source": [
    "##### Example: Input: s = \"ABAB\", k = 2 → Output: 4"
   ]
  },
  {
   "cell_type": "markdown",
   "id": "47a740ab-2fac-46fe-9bc0-8d6ffdfb6c09",
   "metadata": {},
   "source": [
    "#### Q93. Check If Word is Constructible from Magazine"
   ]
  },
  {
   "cell_type": "markdown",
   "id": "9d489abf-25cd-43d9-a810-b46738f134d1",
   "metadata": {},
   "source": [
    "##### Example: ransomNote = \"aab\", magazine = \"baa\" → Output: True"
   ]
  },
  {
   "cell_type": "markdown",
   "id": "31b81fc0-68ac-41cd-ba70-b577c097cd25",
   "metadata": {},
   "source": [
    "#### Q94. Replace Elements with Greatest on Right"
   ]
  },
  {
   "cell_type": "markdown",
   "id": "4e9694f5-c90a-4819-a27d-50b16a511c58",
   "metadata": {},
   "source": [
    "##### Example: Input: [17,18,5,4,6,1] → Output: [18,6,6,6,1,-1]"
   ]
  },
  {
   "cell_type": "markdown",
   "id": "52b8c684-27dc-44b5-8e8f-38344b66c81b",
   "metadata": {},
   "source": [
    "#### Q95. Find All Unique Characters in a String"
   ]
  },
  {
   "cell_type": "markdown",
   "id": "35829124-69bd-405b-9187-bfb294e31bfd",
   "metadata": {},
   "source": [
    "##### Example: Input: \"leetcode\" → Output: ['l', 't', 'c', 'd']"
   ]
  },
  {
   "cell_type": "markdown",
   "id": "93f23775-3b88-4977-a241-4051810a2c50",
   "metadata": {},
   "source": [
    "#### Q96. Find Single Element Using Binary Search (Sorted Array)"
   ]
  },
  {
   "cell_type": "markdown",
   "id": "cdae2995-1366-449e-9bdd-1060f1ed7586",
   "metadata": {},
   "source": [
    "##### Example: Input: [1,1,2,3,3,4,4,8,8] → Output: 2"
   ]
  },
  {
   "cell_type": "markdown",
   "id": "09098514-ed07-4223-90c5-e3bacc0e807b",
   "metadata": {},
   "source": [
    "#### Q97. Find All Combinations That Add to Target (No Duplicates)"
   ]
  },
  {
   "cell_type": "markdown",
   "id": "358b74b0-e943-4cb4-9f18-384974c600d9",
   "metadata": {},
   "source": [
    "##### Example: Input: candidates = [2,3,6,7], target = 7 → Output: [[7],[2,2,3]]"
   ]
  },
  {
   "cell_type": "markdown",
   "id": "4b5a34ed-0643-4866-964b-b17bd29f6c86",
   "metadata": {},
   "source": [
    "#### Q98. Matrix Rotation by 90 Degrees"
   ]
  },
  {
   "cell_type": "markdown",
   "id": "7e454064-e55c-474d-a5e9-a4f222b531a1",
   "metadata": {},
   "source": [
    "##### Example: Input: 2D matrix → Output: Rotated matrix"
   ]
  },
  {
   "cell_type": "markdown",
   "id": "6c79956b-fba7-4797-a92d-f8c941400d40",
   "metadata": {},
   "source": [
    "#### Q99. Trapping Rain Water (Logic Setup, No Optimized Code)"
   ]
  },
  {
   "cell_type": "markdown",
   "id": "82333a46-278f-4803-95da-9302ddff3d2d",
   "metadata": {},
   "source": [
    "##### Example: Input: [0,1,0,2,1,0,1,3] → Output: 6"
   ]
  },
  {
   "cell_type": "markdown",
   "id": "434fac48-fdd0-4afa-bc03-71284d73ee18",
   "metadata": {},
   "source": [
    "#### Q100. Count Unique Paths in a Grid (Combinatorics + DP Setup)"
   ]
  },
  {
   "cell_type": "markdown",
   "id": "42646c22-d301-4a0a-8875-407cb2afff25",
   "metadata": {},
   "source": [
    "##### Example: Input: m = 3, n = 2 → Output: 3\n",
    "\n",
    "##### --- Find All Unique Quadruplets That Sum to Target\n",
    "##### Example: Input: [1,0,-1,0,-2,2], target=0 → Output: [[-2,-1,1,2],[-2,0,0,2],[-1,0,0,1]]"
   ]
  }
 ],
 "metadata": {
  "kernelspec": {
   "display_name": "Python 3 (ipykernel)",
   "language": "python",
   "name": "python3"
  },
  "language_info": {
   "codemirror_mode": {
    "name": "ipython",
    "version": 3
   },
   "file_extension": ".py",
   "mimetype": "text/x-python",
   "name": "python",
   "nbconvert_exporter": "python",
   "pygments_lexer": "ipython3",
   "version": "3.13.0"
  }
 },
 "nbformat": 4,
 "nbformat_minor": 5
}
