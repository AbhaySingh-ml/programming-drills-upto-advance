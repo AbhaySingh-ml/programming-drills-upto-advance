{
 "cells": [
  {
   "cell_type": "markdown",
   "id": "317ad63c-4a4d-4290-baf4-1ff8c468f802",
   "metadata": {},
   "source": [
    "##  1. Array Basics (1D Array)"
   ]
  },
  {
   "cell_type": "code",
   "execution_count": 1,
   "id": "ff837dc9-037d-4c55-ab45-b187227f56e7",
   "metadata": {},
   "outputs": [
    {
     "name": "stdout",
     "output_type": "stream",
     "text": [
      "1\n",
      "5\n",
      "5\n",
      "[2, 99, 4]\n"
     ]
    }
   ],
   "source": [
    "# Create an array\n",
    "arr = [1, 2, 3, 4, 5]\n",
    "\n",
    "# Access elements\n",
    "print(arr[0])     # First element → 1\n",
    "print(arr[-1])    # Last element  → 5\n",
    "\n",
    "# Modify elements\n",
    "arr[2] = 99       # arr becomes [1, 2, 99, 4, 5]\n",
    "\n",
    "# Length of array\n",
    "print(len(arr))   # 5\n",
    "\n",
    "# Slice array\n",
    "print(arr[1:4])   # [2, 99, 4]\n"
   ]
  },
  {
   "cell_type": "markdown",
   "id": "723d98cd-7d7a-41aa-8de8-b9ba53672311",
   "metadata": {},
   "source": [
    "##  2. Looping Through Array (Traversal)"
   ]
  },
  {
   "cell_type": "code",
   "execution_count": 2,
   "id": "e5977d2e-2c51-42d4-963a-ac50f9fb4bb3",
   "metadata": {},
   "outputs": [
    {
     "name": "stdout",
     "output_type": "stream",
     "text": [
      "3\n",
      "1\n",
      "4\n",
      "2\n",
      "Index 0 has value 3\n",
      "Index 1 has value 1\n",
      "Index 2 has value 4\n",
      "Index 3 has value 2\n"
     ]
    }
   ],
   "source": [
    "arr = [3, 1, 4, 2]\n",
    "\n",
    "# Using for-loop\n",
    "for num in arr:\n",
    "    print(num)\n",
    "\n",
    "# Using index\n",
    "for i in range(len(arr)):\n",
    "    print(f\"Index {i} has value {arr[i]}\")\n"
   ]
  },
  {
   "cell_type": "markdown",
   "id": "dbe4a528-2558-447c-8bb1-bd2786d53652",
   "metadata": {},
   "source": [
    "## 3. Common LeetCode Patterns"
   ]
  },
  {
   "cell_type": "markdown",
   "id": "e46bf364-cd01-465a-96c6-bdc026364ecc",
   "metadata": {},
   "source": [
    "### ➤ 3.1. Sum of Elements"
   ]
  },
  {
   "cell_type": "code",
   "execution_count": 3,
   "id": "b2ba3622-4f75-4753-9859-30b63b49414c",
   "metadata": {},
   "outputs": [
    {
     "name": "stdout",
     "output_type": "stream",
     "text": [
      "Total sum: 10\n"
     ]
    }
   ],
   "source": [
    "arr = [1, 2, 3, 4]\n",
    "total = 0\n",
    "for num in arr:\n",
    "    total += num\n",
    "print(\"Total sum:\", total)\n"
   ]
  },
  {
   "cell_type": "markdown",
   "id": "400a7234-c381-49f6-8c23-aaa3616bcfb5",
   "metadata": {},
   "source": [
    "### ➤ 3.2. Maximum Element### "
   ]
  },
  {
   "cell_type": "code",
   "execution_count": 4,
   "id": "6cf67652-c9e1-40a6-8bed-78ca84f5d7ac",
   "metadata": {},
   "outputs": [
    {
     "name": "stdout",
     "output_type": "stream",
     "text": [
      "Max: 8\n"
     ]
    }
   ],
   "source": [
    "arr = [3, 7, 2, 8, 4]\n",
    "max_val = arr[0]\n",
    "for num in arr:\n",
    "    if num > max_val:\n",
    "        max_val = num\n",
    "print(\"Max:\", max_val)\n"
   ]
  },
  {
   "cell_type": "markdown",
   "id": "c2ea7d2f-bd8d-4de9-92e4-bf181b801b7a",
   "metadata": {},
   "source": [
    "### ➤ 3.3. Find a Target (Linear Search)"
   ]
  },
  {
   "cell_type": "code",
   "execution_count": 5,
   "id": "2c14dc6b-cbdb-47bc-966f-350b218278bf",
   "metadata": {},
   "outputs": [
    {
     "name": "stdout",
     "output_type": "stream",
     "text": [
      "2\n"
     ]
    }
   ],
   "source": [
    "def find_target(arr, target):\n",
    "    for i in range(len(arr)):\n",
    "        if arr[i] == target:\n",
    "            return i\n",
    "    return -1\n",
    "\n",
    "print(find_target([5, 6, 7, 8], 7))  # Output: 2\n"
   ]
  },
  {
   "cell_type": "markdown",
   "id": "3c712f40-3063-4f99-9dbe-c9e5531868bb",
   "metadata": {},
   "source": [
    "## 🔄 4. Two Pointers Pattern"
   ]
  },
  {
   "cell_type": "markdown",
   "id": "6108210a-27b2-4823-adc2-e640d01be84c",
   "metadata": {},
   "source": [
    "### ➤ 4.1. Check if Array is Palindrome"
   ]
  },
  {
   "cell_type": "code",
   "execution_count": 6,
   "id": "439e4e9e-ccd8-45a9-a8af-30b463c510f7",
   "metadata": {},
   "outputs": [
    {
     "name": "stdout",
     "output_type": "stream",
     "text": [
      "True\n"
     ]
    }
   ],
   "source": [
    "def is_palindrome(arr):\n",
    "    left = 0\n",
    "    right = len(arr) - 1\n",
    "\n",
    "    while left < right:\n",
    "        if arr[left] != arr[right]:\n",
    "            return False\n",
    "        left += 1\n",
    "        right -= 1\n",
    "    return True\n",
    "\n",
    "print(is_palindrome([1, 2, 3, 2, 1]))  # True\n"
   ]
  },
  {
   "cell_type": "markdown",
   "id": "e32b3774-2a8d-41c9-9f2c-5bfc5eedc205",
   "metadata": {},
   "source": [
    "## 🔁 5. Sliding Window Pattern (Fixed Size)"
   ]
  },
  {
   "cell_type": "code",
   "execution_count": 7,
   "id": "3ff39478-78e8-4147-b54f-738f5ddff272",
   "metadata": {},
   "outputs": [
    {
     "name": "stdout",
     "output_type": "stream",
     "text": [
      "10\n"
     ]
    }
   ],
   "source": [
    "def max_sum_subarray(arr, k):\n",
    "    max_sum = 0\n",
    "    window_sum = sum(arr[:k])\n",
    "    max_sum = window_sum\n",
    "\n",
    "    for i in range(k, len(arr)):\n",
    "        window_sum = window_sum - arr[i - k] + arr[i]\n",
    "        max_sum = max(max_sum, window_sum)\n",
    "\n",
    "    return max_sum\n",
    "\n",
    "print(max_sum_subarray([1, 3, 2, 5, 1, 1, 2], 3))  # Output: 8\n"
   ]
  }
 ],
 "metadata": {
  "kernelspec": {
   "display_name": "Python 3 (ipykernel)",
   "language": "python",
   "name": "python3"
  },
  "language_info": {
   "codemirror_mode": {
    "name": "ipython",
    "version": 3
   },
   "file_extension": ".py",
   "mimetype": "text/x-python",
   "name": "python",
   "nbconvert_exporter": "python",
   "pygments_lexer": "ipython3",
   "version": "3.13.0"
  }
 },
 "nbformat": 4,
 "nbformat_minor": 5
}
