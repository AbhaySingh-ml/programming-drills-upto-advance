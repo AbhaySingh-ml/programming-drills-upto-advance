{
 "cells": [
  {
   "cell_type": "code",
   "execution_count": null,
   "id": "ffd9efae-9be2-46a4-8bed-1ec27c492ca3",
   "metadata": {},
   "outputs": [],
   "source": [
    "# ✅ 1D Array (Linear Array)\n",
    "\n",
    "# Creating a 1D array\n",
    "arr1d = np.array([1, 2, 3, 4, 5])\n",
    "print(\"1D Array:\", arr1d)\n",
    "\n",
    "# Basic operations on 1D array\n",
    "print(\"Shape:\", arr1d.shape)              # (5,)\n",
    "print(\"Size:\", arr1d.size)                # 5\n",
    "print(\"Data Type:\", arr1d.dtype)          # int64\n",
    "print(\"Access element at index 2:\", arr1d[2])  # 3\n",
    "print(\"Slicing:\", arr1d[1:4])             # [2 3 4]\n"
   ]
  },
  {
   "cell_type": "code",
   "execution_count": null,
   "id": "0c3606f2-1fd8-44b3-ab70-f8285ac630b6",
   "metadata": {},
   "outputs": [],
   "source": [
    "# ✅ 2D Array (Matrix)\n",
    "\n",
    "# Creating a 2D array\n",
    "arr2d = np.array([[1, 2, 3],\n",
    "                  [4, 5, 6]])\n",
    "print(\"2D Array:\\n\", arr2d)\n",
    "\n",
    "# Operations on 2D array\n",
    "print(\"Shape:\", arr2d.shape)              # (2, 3)\n",
    "print(\"Access row 1:\", arr2d[1])          # [4 5 6]\n",
    "print(\"Access element at (0,2):\", arr2d[0, 2])  # 3\n",
    "print(\"Transpose:\\n\", arr2d.T)            # Flip rows and columns\n",
    "print(\"Flattened:\", arr2d.flatten())      # [1 2 3 4 5 6]\n"
   ]
  },
  {
   "cell_type": "code",
   "execution_count": null,
   "id": "6d073425-cd10-4c9f-839e-33c7771f9071",
   "metadata": {},
   "outputs": [],
   "source": [
    "# ✅ 3D Array (Tensor-like)\n",
    "\n",
    "# Creating a 3D array\n",
    "arr3d = np.array([\n",
    "    [[1, 2], [3, 4]],   # First 2x2 matrix\n",
    "    [[5, 6], [7, 8]]    # Second 2x2 matrix\n",
    "])\n",
    "print(\"3D Array:\\n\", arr3d)\n",
    "\n",
    "# Operations on 3D array\n",
    "print(\"Shape:\", arr3d.shape)              # (2, 2, 2)\n",
    "print(\"Access matrix 0:\\n\", arr3d[0])     # [[1 2], [3 4]]\n",
    "print(\"Access element at (1,0,1):\", arr3d[1, 0, 1])  # 6\n"
   ]
  },
  {
   "cell_type": "code",
   "execution_count": null,
   "id": "db073121-b10f-456b-98f3-0a137077aed6",
   "metadata": {},
   "outputs": [],
   "source": [
    "# 🔄 Common Array Operations\n",
    "\n",
    "# ➤ Mathematical\n",
    "print(\"Sum of arr2d:\", np.sum(arr2d))\n",
    "print(\"Row-wise sum:\", np.sum(arr2d, axis=1))\n",
    "print(\"Column-wise mean:\", np.mean(arr2d, axis=0))\n"
   ]
  },
  {
   "cell_type": "code",
   "execution_count": null,
   "id": "737ffa0c-6e75-4187-bb91-d9aa20ac3c71",
   "metadata": {},
   "outputs": [],
   "source": [
    "# ➤ Reshaping Arrays\n",
    "\n",
    "# Reshape 1D to 2D\n",
    "reshaped = arr1d.reshape((5, 1))\n",
    "print(\"Reshaped 1D to 2D:\\n\", reshaped)\n"
   ]
  },
  {
   "cell_type": "code",
   "execution_count": null,
   "id": "562c8115-2618-4725-9424-0f26ff29f73d",
   "metadata": {},
   "outputs": [],
   "source": [
    "# ➤ Stacking Arrays\n",
    "\n",
    "a = np.array([1, 2, 3])\n",
    "b = np.array([4, 5, 6])\n",
    "\n",
    "# Vertical stacking (2 rows)\n",
    "print(\"Vertical Stack:\\n\", np.vstack((a, b)))\n",
    "\n",
    "# Horizontal stacking (6 elements in a row)\n",
    "print(\"Horizontal Stack:\\n\", np.hstack((a, b)))\n"
   ]
  },
  {
   "cell_type": "markdown",
   "id": "7b70ee9e-a83a-475b-96a1-3bc93cab3e08",
   "metadata": {},
   "source": [
    "# 📌 Summary Table of Key NumPy Array Operations\n",
    "\n",
    "| Operation             | Description                             | Syntax / Example                    |\n",
    "|-----------------------|-----------------------------------------|-------------------------------------|\n",
    "| `np.array()`          | Create array                            | `np.array([1,2,3])`                 |\n",
    "| `arr.shape`           | Get dimensions                          | `arr.shape`                         |\n",
    "| `arr[0,1]`            | Access element at row 0, column 1       | `arr[0,1]`                          |\n",
    "| `arr.T`               | Transpose matrix                        | `arr.T`                             |\n",
    "| `arr.flatten()`       | Convert multi-D to 1D                   | `arr.flatten()`                     |\n",
    "| `arr.reshape((3, 2))` | Change shape of array                   | `arr.reshape((3,2))`                |\n",
    "| `np.sum(arr, axis=1)` | Row-wise sum                            | `axis=0` for column, `axis=1` row   |\n",
    "| `np.vstack((a,b))`    | Stack vertically                        | `np.vstack((a,b))`                  |\n",
    "| `np.hstack((a,b))`    | Stack horizontally                      | `np.hstack((a,b))`                  |\n"
   ]
  }
 ],
 "metadata": {
  "kernelspec": {
   "display_name": "Python 3 (ipykernel)",
   "language": "python",
   "name": "python3"
  },
  "language_info": {
   "codemirror_mode": {
    "name": "ipython",
    "version": 3
   },
   "file_extension": ".py",
   "mimetype": "text/x-python",
   "name": "python",
   "nbconvert_exporter": "python",
   "pygments_lexer": "ipython3",
   "version": "3.13.0"
  }
 },
 "nbformat": 4,
 "nbformat_minor": 5
}
