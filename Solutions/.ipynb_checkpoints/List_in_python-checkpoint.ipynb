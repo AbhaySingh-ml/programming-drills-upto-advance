{
 "cells": [
  {
   "cell_type": "markdown",
   "id": "bbe58346-8c29-4aae-b7b0-83208a644d5c",
   "metadata": {},
   "source": [
    "# 📘 Python List - Basic Operations\n",
    "\n",
    "## ✅ Creating a List\n",
    "\n",
    "```python\n",
    "# Empty list\n",
    "my_list = []\n",
    "\n",
    "# List of integers\n",
    "numbers = [1, 2, 3, 4, 5]\n",
    "\n",
    "# Mixed data types\n",
    "mixed = [1, \"Hello\", 3.14, True]\n",
    "\n",
    "# Nested list\n",
    "nested = [[1, 2], [3, 4]]\n",
    "\n",
    "# Using list() constructor\n",
    "chars = list(\"Python\")  # ['P', 'y', 't', 'h', 'o', 'n']\n"
   ]
  },
  {
   "cell_type": "markdown",
   "id": "b84b1019-79ae-4317-acc1-a651d98b9186",
   "metadata": {},
   "source": [
    "| Operation          | Syntax                      | Example                  | Result / Description                  |\n",
    "| ------------------ | --------------------------- | ------------------------ | ------------------------------------- |\n",
    "| Access element     | `list[index]`               | `numbers[0]`             | Access first element: `1`             |\n",
    "| Slice list         | `list[start:end]`           | `numbers[1:4]`           | Slice list: `[2, 3, 4]`               |\n",
    "| Update item        | `list[index] = value`       | `numbers[0] = 10`        | Update first element to `10`          |\n",
    "| Add item at end    | `list.append(value)`        | `numbers.append(6)`      | Adds `6` at the end                   |\n",
    "| Insert at position | `list.insert(index, value)` | `numbers.insert(1, 100)` | Inserts `100` at index `1`            |\n",
    "| Remove by value    | `list.remove(value)`        | `numbers.remove(3)`      | Removes first occurrence of value `3` |\n",
    "| Remove by index    | `list.pop(index)`           | `numbers.pop(2)`         | Removes and returns item at index `2` |\n",
    "| List length        | `len(list)`                 | `len(numbers)`           | Returns number of items in the list   |\n"
   ]
  },
  {
   "cell_type": "code",
   "execution_count": null,
   "id": "d6a65991-3355-4027-b816-ec69e14b9bef",
   "metadata": {},
   "outputs": [],
   "source": []
  }
 ],
 "metadata": {
  "kernelspec": {
   "display_name": "Python 3 (ipykernel)",
   "language": "python",
   "name": "python3"
  },
  "language_info": {
   "codemirror_mode": {
    "name": "ipython",
    "version": 3
   },
   "file_extension": ".py",
   "mimetype": "text/x-python",
   "name": "python",
   "nbconvert_exporter": "python",
   "pygments_lexer": "ipython3",
   "version": "3.13.0"
  }
 },
 "nbformat": 4,
 "nbformat_minor": 5
}
