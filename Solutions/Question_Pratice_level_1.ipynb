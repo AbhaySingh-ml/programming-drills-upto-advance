{
 "cells": [
  {
   "cell_type": "markdown",
   "id": "44c62dfe-a786-4d58-b541-2e3414679a74",
   "metadata": {},
   "source": [
    "# Problems to solve \n",
    "---"
   ]
  },
  {
   "cell_type": "markdown",
   "id": "50c43f4b-6af3-471e-9d3b-cbf5a409cde7",
   "metadata": {},
   "source": [
    "#### Re_visit these question \n",
    "1. Question 17 related to Fibonacci Series\n",
    "2. Question 12,29 related to prime numbers\n",
    "3. Question 34 digit rotation DO it again\n",
    "4. Covert binary into decimal and vice versa Questions 35 36 37\n",
    "5. question 38\n",
    "   "
   ]
  },
  {
   "cell_type": "markdown",
   "id": "adf064d5-4d85-41fc-b59c-5baa101b84ea",
   "metadata": {},
   "source": [
    "#### Q1. Sum of Digits"
   ]
  },
  {
   "cell_type": "markdown",
   "id": "0da7035e-b03e-4207-93f9-f90eee791b00",
   "metadata": {},
   "source": [
    "##### Take a number and return the sum of its digits.\n",
    "##### Example: Input: 1234 → Output: 10"
   ]
  },
  {
   "cell_type": "code",
   "execution_count": 5,
   "id": "fb90aa32-c0af-4dac-97eb-b5803c52bba6",
   "metadata": {},
   "outputs": [],
   "source": [
    "class Solution:\n",
    "    def sum_of_digit(self, num: int) -> int:\n",
    "        total = 0\n",
    "        while num > 0:\n",
    "            total += num % 10   # Extract the last digit and add it to total\n",
    "            num //= 10          # Remove the last digit from the number\n",
    "        return total"
   ]
  },
  {
   "cell_type": "code",
   "execution_count": null,
   "id": "68a6570b-a5c9-491f-b99d-dc3b00adcd4b",
   "metadata": {},
   "outputs": [],
   "source": [
    "# total = solution()\n",
    "# print(total.sum_of_digit(1234))  # Expected output: 6"
   ]
  },
  {
   "cell_type": "markdown",
   "id": "d1237dbc-0e5b-4da9-b306-fc98028994ee",
   "metadata": {},
   "source": [
    "#### Q2. Reverse the integer"
   ]
  },
  {
   "cell_type": "markdown",
   "id": "eb6d043b-9ad6-4fd0-b6f9-8cc0a8f2fbff",
   "metadata": {},
   "source": [
    "##### Take a number and return the number reversed.\n",
    "##### Example: Input: 1234 → Output: 4321"
   ]
  },
  {
   "cell_type": "markdown",
   "id": "2c16de68-f13c-41a2-ace2-c004d45ff430",
   "metadata": {},
   "source": [
    "##### solved with for loop"
   ]
  },
  {
   "cell_type": "code",
   "execution_count": 6,
   "id": "a988ece9-8a12-4e17-863b-3242bbe9b575",
   "metadata": {},
   "outputs": [],
   "source": [
    "# class solution:\n",
    "#     def reverse_digit(self, num: int) ->int\n",
    "#     for i in range(num):\n",
    "#         reverse = num % 10\n",
    "#         return reverse"
   ]
  },
  {
   "cell_type": "code",
   "execution_count": 1,
   "id": "e3e0881d-538e-4b73-b641-b63375cf384d",
   "metadata": {},
   "outputs": [
    {
     "name": "stdout",
     "output_type": "stream",
     "text": [
      "4321\n"
     ]
    }
   ],
   "source": [
    "class Solution:\n",
    "    def reverse(self, num: int) -> int:\n",
    "        reversed_num = 0\n",
    "        while num > 0:\n",
    "            digit = num % 10\n",
    "            reversed_num = reversed_num * 10 + digit\n",
    "            num = num // 10\n",
    "        return reversed_num\n",
    "\n",
    "sol = Solution()\n",
    "print(sol.reverse(1234))  # Output: 4321"
   ]
  },
  {
   "cell_type": "markdown",
   "id": "31fbc4ef-3000-4187-b315-fc39b93cb026",
   "metadata": {},
   "source": [
    "##### Step 1:\n",
    "- num = 1234\n",
    "- digit = num % 10 = 4\n",
    "- reversed_num = 0 * 10 + 4 = 4\n",
    "\n",
    "##### Step 2:\n",
    "- num = 123\n",
    "- digit = 3\n",
    "- reversed_num = 4 * 10 + 3 = 43\n",
    "\n",
    "##### Step 3:\n",
    "- num = 12\n",
    "- digit = 2\n",
    "- reversed_num = 43 * 10 + 2 = 432\n",
    "\n",
    "##### Step 4:\n",
    "- num = 1\n",
    "- digit = 1\n",
    "- reversed_num = 432 * 10 + 1 = 4321"
   ]
  },
  {
   "cell_type": "markdown",
   "id": "f1fbc730-81b1-4701-b1a0-a4b6ca277a51",
   "metadata": {},
   "source": [
    "- num % 10 gives the last digit.\n",
    "- reverse = reverse * 10 + digit shifts existing digits and adds the new one.\n",
    "- num //= 10 removes the last digit from original number."
   ]
  },
  {
   "cell_type": "markdown",
   "id": "ce137d3a-0710-45b5-aec8-8ba4cec2bf3f",
   "metadata": {},
   "source": [
    "#### Q3. Count the Digits"
   ]
  },
  {
   "cell_type": "markdown",
   "id": "92459c96-de26-461b-8092-34da20acc43c",
   "metadata": {},
   "source": [
    "##### Count how many digits are in the given number.\n",
    "##### Example: Input: 786 → Output: 3"
   ]
  },
  {
   "cell_type": "code",
   "execution_count": 9,
   "id": "f90024c3-3a21-43da-8415-5423ee5275ed",
   "metadata": {},
   "outputs": [],
   "source": [
    "class Solution:\n",
    "    def count_digit(self, num: int) -> int:\n",
    "        count = 0\n",
    "        if num == 0:\n",
    "            return 1  # Special case: 0 has 1 digit\n",
    "\n",
    "        while num > 0:\n",
    "            num = num // 10\n",
    "            count += 1\n",
    "        return count"
   ]
  },
  {
   "cell_type": "code",
   "execution_count": null,
   "id": "539a224b-8219-4fff-a52b-95084cb6821d",
   "metadata": {},
   "outputs": [],
   "source": [
    "# count = solution()\n",
    "# print(count.count_digit(1234))"
   ]
  },
  {
   "cell_type": "markdown",
   "id": "d0d2b452-2945-4151-bcc3-6b4972ba8860",
   "metadata": {},
   "source": [
    "##### O(log₁₀(n)), or simply O(d) — where d is the number of digits in the number."
   ]
  },
  {
   "cell_type": "markdown",
   "id": "bd41f697-d866-4706-ad3d-c25425e6b78c",
   "metadata": {},
   "source": [
    "### __Q4. Check for Palindrome Number__"
   ]
  },
  {
   "cell_type": "markdown",
   "id": "30b8866f-474a-4471-b2ce-eb33ee4449e2",
   "metadata": {},
   "source": [
    "##### Check if the number reads the same forward and backward.\n",
    "##### Example: Input: 121 → Output: True, Input: 123 → Output: False"
   ]
  },
  {
   "cell_type": "code",
   "execution_count": 10,
   "id": "292a6be3-5554-44a7-b247-9f58d857b856",
   "metadata": {},
   "outputs": [],
   "source": [
    "class Solution:\n",
    "    def palindrome(self, num: int) -> bool:\n",
    "        original_num = num  # Store the original number\n",
    "        reversed_num = 0\n",
    "\n",
    "        while num > 0:\n",
    "            digit = num % 10                     # Extract the last digit\n",
    "            reversed_num = reversed_num * 10 + digit  # Build the reversed number\n",
    "            num //= 10                           # Remove the last digit\n",
    "\n",
    "        return original_num == reversed_num      # Compare original and reversed"
   ]
  },
  {
   "cell_type": "code",
   "execution_count": null,
   "id": "e2b73fbc-f938-4353-9bf5-fa4c37e6a3aa",
   "metadata": {},
   "outputs": [],
   "source": [
    "# check = solution()\n",
    "# print(check.palindrome(121))\n",
    "# print(check.palindrome(123))"
   ]
  },
  {
   "cell_type": "markdown",
   "id": "91f58268-3766-4971-b34a-173f1d79f96b",
   "metadata": {},
   "source": [
    "##### 🔁 1st Iteration:\n",
    "- digit = 123 % 10 = 3\n",
    "- reversed_num = 0 * 10 + 3 = 3\n",
    "- num = 123 // 10 = 12\n",
    "\n",
    "##### 🔁 2nd Iteration:\n",
    "- digit = 12 % 10 = 2\n",
    "- reversed_num = 3 * 10 + 2 = 32\n",
    "- num = 12 // 10 = 1\n",
    "\n",
    "##### 🔁 3rd Iteration:\n",
    "- digit = 1 % 10 = 1\n",
    "- reversed_num = 32 * 10 + 1 = 321\n",
    "- num = 1 // 10 = 0 → done"
   ]
  },
  {
   "cell_type": "markdown",
   "id": "ad8a1ca2-8e54-4538-9f88-223f708b21b9",
   "metadata": {},
   "source": [
    "#### Q5. Find the Largest Digit"
   ]
  },
  {
   "cell_type": "markdown",
   "id": "635f71b0-2f73-41e3-b6fe-20a402815e1c",
   "metadata": {},
   "source": [
    "##### Return the largest digit in a number.\n",
    "##### Example: Input: 4723 → Output: 7"
   ]
  },
  {
   "cell_type": "code",
   "execution_count": 11,
   "id": "313fcc52-d73d-4eba-887b-c297579e4722",
   "metadata": {},
   "outputs": [],
   "source": [
    "class Solution:\n",
    "    def largest_digit(self, num: int) -> int:\n",
    "        max_digit = 0  # Initialize maximum digit to 0\n",
    "\n",
    "        if num == 0:\n",
    "            return 0  # Edge case: only one digit which is 0\n",
    "\n",
    "        while num > 0:\n",
    "            digit = num % 10          # Extract the last digit\n",
    "            if digit > max_digit:     # Compare with current max\n",
    "                max_digit = digit     # Update if this digit is larger\n",
    "            num //= 10                # Remove the last digit\n",
    "\n",
    "        return max_digit"
   ]
  },
  {
   "cell_type": "code",
   "execution_count": null,
   "id": "1cb76d0e-b0af-47d9-9275-26b422266777",
   "metadata": {},
   "outputs": [],
   "source": [
    "# check = solution()\n",
    "# print(check.largest(334569))"
   ]
  },
  {
   "cell_type": "markdown",
   "id": "277eb44f-b848-453b-bfb6-49fa51092d25",
   "metadata": {},
   "source": [
    "#### Time & Space Complexity:\n",
    "- Time Complexity: O(d) where d is the number of digits in num\n",
    "- Space Complexity: O(1) (constant extra space)"
   ]
  },
  {
   "cell_type": "markdown",
   "id": "0e1101cd-b551-43b2-a1fc-299233137c33",
   "metadata": {},
   "source": [
    "#### Q6. Sum of Even Digits"
   ]
  },
  {
   "cell_type": "markdown",
   "id": "70b30599-5c10-4995-a294-35841f389f30",
   "metadata": {},
   "source": [
    "##### Take a number and return the sum of only the even digits.\n",
    "##### Example: Input: 123456 → Output: 2 + 4 + 6 = 12"
   ]
  },
  {
   "cell_type": "code",
   "execution_count": 12,
   "id": "238c6c42-62d8-49d3-ad63-61929325bd1d",
   "metadata": {},
   "outputs": [],
   "source": [
    "class Solution:\n",
    "    def sum_of_even_digit(self, num: int) -> int:\n",
    "        total = 0  # To store the sum of even digits\n",
    "\n",
    "        while num > 0:\n",
    "            digit = num % 10              # Extract last digit\n",
    "            if digit % 2 == 0:            # Check if the digit is even\n",
    "                total += digit            # Add to total if even\n",
    "            num = num // 10               # Remove last digit\n",
    "\n",
    "        return total"
   ]
  },
  {
   "cell_type": "code",
   "execution_count": null,
   "id": "a1223831-c970-468c-93f3-7d3bce4ff767",
   "metadata": {},
   "outputs": [],
   "source": [
    "# check = solution()\n",
    "# print(check.sum_of_even(332))"
   ]
  },
  {
   "cell_type": "markdown",
   "id": "4d341125-946b-4cb5-ac88-1b8d29d8c52c",
   "metadata": {},
   "source": [
    "#### Q7. Check if Number is Armstrong"
   ]
  },
  {
   "cell_type": "markdown",
   "id": "26b25470-0086-4e71-8e90-e35a704c92ba",
   "metadata": {},
   "source": [
    "##### Check if a 3-digit number is an Armstrong number.\n",
    "##### (Armstrong = sum of cubes of digits equals the number)\n",
    "##### Example: Input: 153 → Output: True (1³ + 5³ + 3³ = 153)"
   ]
  },
  {
   "cell_type": "code",
   "execution_count": 13,
   "id": "438fc6d1-dce6-4d01-94a1-b686d477277f",
   "metadata": {},
   "outputs": [],
   "source": [
    "class Solution:\n",
    "    def armstrong(self, num: int) -> bool:\n",
    "        original_num = num  # Save the original number\n",
    "        result = 0\n",
    "\n",
    "        while num > 0:\n",
    "            digit = num % 10           # Extract the last digit\n",
    "            result += digit ** 3       # Add cube of the digit\n",
    "            num = num // 10            # Remove last digit\n",
    "\n",
    "        return result == original_num  # Compare with original"
   ]
  },
  {
   "cell_type": "code",
   "execution_count": null,
   "id": "c9dfcfbc-c692-408f-be41-ef9f940c40a7",
   "metadata": {},
   "outputs": [],
   "source": [
    "# check = solution()\n",
    "# print(check.armstrong(153))"
   ]
  },
  {
   "cell_type": "markdown",
   "id": "2e2001bb-b536-4ac7-abc7-74630af92850",
   "metadata": {},
   "source": [
    "#### Q8. Count Occurrences of a Digit"
   ]
  },
  {
   "cell_type": "markdown",
   "id": "c9e17003-cdd6-4054-af62-808f3c85c2d5",
   "metadata": {},
   "source": [
    "##### Count how many times a digit (say 5) appears in a number.\n",
    "##### Example: Input: 15525, Digit: 5 → Output: 3"
   ]
  },
  {
   "cell_type": "code",
   "execution_count": 14,
   "id": "e0e90f44-d39c-4561-89bc-bc80f42da086",
   "metadata": {},
   "outputs": [],
   "source": [
    "class Solution:\n",
    "    def count_digit_occurrence(self, num: int, target_digit: int) -> int:\n",
    "        count = 0\n",
    "        while num > 0:\n",
    "            digit = num % 10\n",
    "            if digit == target_digit:\n",
    "                count += 1\n",
    "            num = num // 10\n",
    "        return count"
   ]
  },
  {
   "cell_type": "markdown",
   "id": "eeb94540-3c4b-4f6f-b105-edfb7a86163b",
   "metadata": {},
   "source": [
    "##### ⏱ Time Complexity:\n",
    "- O(d), where d is the number of digits in num"
   ]
  },
  {
   "cell_type": "markdown",
   "id": "cbbe0a4a-15b3-4618-963c-15ce23a38526",
   "metadata": {},
   "source": [
    "#### Q9. Print All Digits (One Per Line)"
   ]
  },
  {
   "cell_type": "markdown",
   "id": "4b6aa823-2c22-4edd-a351-d7e06ffb4f04",
   "metadata": {},
   "source": [
    "##### Print each digit of the number on a separate line.\n",
    "##### Example: Input: 123 → Output:\n",
    "##### 1\n",
    "##### 2\n",
    "##### 3"
   ]
  },
  {
   "cell_type": "markdown",
   "id": "4c7cf12f-9d76-4502-a913-8c7302179cff",
   "metadata": {},
   "source": [
    "#### ✅ Option 1: Convert to String (Left to Right)"
   ]
  },
  {
   "cell_type": "code",
   "execution_count": 15,
   "id": "b6e6754c-3296-4ab0-bd80-2313069a8067",
   "metadata": {},
   "outputs": [],
   "source": [
    "class Solution:\n",
    "    def print_digits(self, num: int):\n",
    "        for digit in str(num):\n",
    "            print(digit)"
   ]
  },
  {
   "cell_type": "markdown",
   "id": "b03392b8-a0b0-4899-8b85-91e69ce6f2ca",
   "metadata": {},
   "source": [
    "#### ✅ Option 2: Mathematical Approach (Reverse + Re-extract)"
   ]
  },
  {
   "cell_type": "markdown",
   "id": "a33f8a66-a678-4ab4-b943-bbe46c57ac26",
   "metadata": {},
   "source": [
    "##### If you are required to not use string conversion, then you can:\n",
    "1. Reverse the number first\n",
    "2. Then extract and print digits normally"
   ]
  },
  {
   "cell_type": "code",
   "execution_count": 16,
   "id": "ff286f9c-d800-4b1e-a609-461150ad902f",
   "metadata": {},
   "outputs": [],
   "source": [
    "class Solution:\n",
    "    def print_digits(self, num: int):\n",
    "        reversed_num = 0\n",
    "        while num > 0:\n",
    "            digit = num % 10\n",
    "            reversed_num = reversed_num * 10 + digit\n",
    "            num = num // 10\n",
    "        \n",
    "        while reversed_num > 0:\n",
    "            digit = reversed_num % 10\n",
    "            print(digit)\n",
    "            reversed_num = reversed_num // 10"
   ]
  },
  {
   "cell_type": "markdown",
   "id": "d3086381-3591-4ba1-bc34-616ea7df2e56",
   "metadata": {},
   "source": [
    "#### Q10. Product of Digits"
   ]
  },
  {
   "cell_type": "markdown",
   "id": "3a117a11-1c74-4504-8b51-256aafdf6251",
   "metadata": {},
   "source": [
    "##### Multiply all digits in a number.\n",
    "##### Example: Input: 1234 → Output: 1 × 2 × 3 × 4 = 24"
   ]
  },
  {
   "cell_type": "code",
   "execution_count": 17,
   "id": "d21bafea-2b46-4cc4-b6ba-9e1fd422327a",
   "metadata": {},
   "outputs": [],
   "source": [
    "class Solution:\n",
    "    def digit_multiplication(self, num: int) -> int:\n",
    "        if num == 0:\n",
    "            return 0  # Special case\n",
    "\n",
    "        product = 1\n",
    "        while num > 0:\n",
    "            digit = num % 10\n",
    "            product *= digit\n",
    "            num //= 10\n",
    "        return product"
   ]
  },
  {
   "cell_type": "markdown",
   "id": "556de7ec-f087-40f4-8934-def8aba4a9d9",
   "metadata": {},
   "source": [
    "#### Q11. Count Even and Odd Digits"
   ]
  },
  {
   "cell_type": "markdown",
   "id": "2ea69f15-2bfa-471e-bfbd-fa3cd532fcce",
   "metadata": {},
   "source": [
    "##### Count how many even and odd digits are in the given number.\n",
    "##### Example: Input: 12345 → Output: Even=2, Odd=3."
   ]
  },
  {
   "cell_type": "code",
   "execution_count": 18,
   "id": "3a5b3ab5-2f7b-4092-9492-a55c81ffef54",
   "metadata": {},
   "outputs": [],
   "source": [
    "class Solution:\n",
    "    def count_even_odd_digits(self, num: int) -> tuple:\n",
    "        even = 0\n",
    "        odd = 0\n",
    "\n",
    "        if num == 0:\n",
    "            even = 1  # 0 is considered even\n",
    "            return even, odd\n",
    "\n",
    "        while num > 0:\n",
    "            digit = num % 10\n",
    "            if digit % 2 == 0:\n",
    "                even += 1\n",
    "            else:\n",
    "                odd += 1\n",
    "            num = num // 10\n",
    "\n",
    "        return even, odd"
   ]
  },
  {
   "cell_type": "markdown",
   "id": "9eeb412a-5cee-46ea-bc9f-ae2d1e6d22b3",
   "metadata": {},
   "source": [
    "## Q12. Check if Number is Prime"
   ]
  },
  {
   "cell_type": "markdown",
   "id": "c77ccbff-8a03-41c7-8431-59c70f8ec36f",
   "metadata": {},
   "source": [
    "##### Check if the given number is a prime number.\n",
    "##### Example: Input: 13 → Output: True , Input: 12 → Output: False"
   ]
  },
  {
   "cell_type": "code",
   "execution_count": 19,
   "id": "227a55a8-b745-40ec-8592-a7314985d2b9",
   "metadata": {},
   "outputs": [],
   "source": [
    "import math\n",
    "\n",
    "class Solution:\n",
    "    def is_prime(self, num: int) -> bool:\n",
    "        if num <= 1:\n",
    "            return False  # Numbers <= 1 are not prime\n",
    "        if num == 2:\n",
    "            return True   # 2 is the only even prime number\n",
    "        if num % 2 == 0:\n",
    "            return False  # Other even numbers are not prime\n",
    "\n",
    "        # Loop through odd numbers from 3 to √num\n",
    "        for i in range(3, int(math.sqrt(num)) + 1, 2):\n",
    "            # If any i divides num exactly, it's not prime\n",
    "            if num % i == 0:\n",
    "                return False\n",
    "\n",
    "        # No divisors found, num is prime\n",
    "        return True\n"
   ]
  },
  {
   "cell_type": "markdown",
   "id": "dbdc9e47-2d3e-41cd-a139-107ec77dbc2a",
   "metadata": {},
   "source": [
    "| Line                      | Purpose                                               |\n",
    "| ------------------------- | ----------------------------------------------------- |\n",
    "| `range(3, ..., 2)`        | Loop through **odd numbers only**                     |\n",
    "| `int(math.sqrt(num)) + 1` | Only check up to **square root** of `num`             |\n",
    "| `num % i == 0`            | If any number divides `num`, then it is **not prime** |\n"
   ]
  },
  {
   "cell_type": "markdown",
   "id": "74aaf474-193d-4038-b92b-312723245d0d",
   "metadata": {},
   "source": [
    "### Without using .squrt \n",
    "\n",
    "#### Explanation:\n",
    "\n",
    "- Instead of using int(math.sqrt(num)), the loop condition is i * i <= num.\n",
    "\n",
    "- This achieves the same result because once i * i > num, any further checks are unnecessary.\n",
    "\n",
    "- The code remains efficient and avoids importing math."
   ]
  },
  {
   "cell_type": "code",
   "execution_count": 20,
   "id": "97c22dbf-8170-4e2a-9d53-ecf9d42505f5",
   "metadata": {},
   "outputs": [],
   "source": [
    "class Solution:\n",
    "    def is_prime(self, num: int) -> bool:\n",
    "        if num <= 1:\n",
    "            return False  # Numbers <= 1 are not prime\n",
    "        if num == 2:\n",
    "            return True   # 2 is the only even prime number\n",
    "        if num % 2 == 0:\n",
    "            return False  # Other even numbers are not prime\n",
    "\n",
    "        # Check divisibility from 3 up to the square root of num (using i * i <= num)\n",
    "        i = 3\n",
    "        while i * i <= num:\n",
    "            if num % i == 0:\n",
    "                return False\n",
    "            i += 2  # Only check odd numbers\n",
    "\n",
    "        return True"
   ]
  },
  {
   "cell_type": "markdown",
   "id": "aaa0ce67-5240-44a1-97b6-3de4153f6e96",
   "metadata": {},
   "source": [
    "#### Q13. Find GCD of Two Numbers"
   ]
  },
  {
   "cell_type": "markdown",
   "id": "d1b6f58b-1ffb-4b20-ad67-402a86fb36ae",
   "metadata": {},
   "source": [
    "##### Find the Greatest Common Divisor (GCD) of two numbers.\n",
    "##### Example: Input: 12, 18 → Output: 6"
   ]
  },
  {
   "cell_type": "markdown",
   "id": "501f4d1f-0250-4f45-835d-56d66316db6e",
   "metadata": {},
   "source": [
    "### Euclidean Algorithm"
   ]
  },
  {
   "cell_type": "code",
   "execution_count": 5,
   "id": "d695d686-e981-430a-8412-333e3589cc93",
   "metadata": {},
   "outputs": [],
   "source": [
    "class Solution:\n",
    "    def find_gcd(self, a: int, b: int) -> int:\n",
    "        # Use Euclidean Algorithm: keep replacing (a, b) with (b, a % b)\n",
    "        while b != 0:\n",
    "            a, b = b, a % b\n",
    "        return a  # When b becomes 0, a is the GCD"
   ]
  },
  {
   "cell_type": "markdown",
   "id": "4ce53642-5beb-4c75-a684-104dda152506",
   "metadata": {},
   "source": [
    "#### 💡 Concept: Euclidean Algorithm for GCD\n",
    "\n",
    " The Euclidean Algorithm is based on the principle that:\n",
    "\n",
    "#### GCD(a, b) = GCD(b, a % b)\n",
    "\n",
    "And this continues until b becomes 0. At that point, a is the GCD."
   ]
  },
  {
   "cell_type": "markdown",
   "id": "67c2f32d-2780-4a4c-a093-203b81283c8c",
   "metadata": {},
   "source": [
    "#### 🧠 Step-by-Step Explanation (With Example):\n",
    "Let’s walk through an example:\n",
    "\n",
    "Input: a = 48, b = 18\n",
    "1. First Iteration:\n",
    "\n",
    "a, b = 48, 18\n",
    "\n",
    "Compute a % b = 48 % 18 = 12\n",
    "\n",
    "Update: a = 18, b = 12\n",
    "\n",
    "2. Second Iteration:\n",
    "\n",
    "a, b = 18, 12\n",
    "\n",
    "Compute a % b = 18 % 12 = 6\n",
    "\n",
    "Update: a = 12, b = 6\n",
    "\n",
    "3. Third Iteration:\n",
    "\n",
    "a, b = 12, 6\n",
    "\n",
    "Compute a % b = 12 % 6 = 0\n",
    "\n",
    "Update: a = 6, b = 0\n",
    "\n",
    "Loop ends (since b = 0)\n",
    "\n",
    "Return a = 6 → This is the GCD"
   ]
  },
  {
   "cell_type": "markdown",
   "id": "2d64b47b-07a8-42ee-9906-fb919040fc2a",
   "metadata": {},
   "source": [
    "### Brute force"
   ]
  },
  {
   "cell_type": "code",
   "execution_count": 4,
   "id": "28caa264-1288-489d-91b7-11df463052a4",
   "metadata": {},
   "outputs": [
    {
     "name": "stdout",
     "output_type": "stream",
     "text": [
      "6\n"
     ]
    }
   ],
   "source": [
    "def find_gcd(a, b):\n",
    "    gcd = 1  # start with 1 as every number is divisible by 1\n",
    "    small = min(a, b)\n",
    "    \n",
    "    for i in range(1, small + 1):\n",
    "        if a % i == 0 and b % i == 0:\n",
    "            gcd = i  # update gcd if i divides both\n",
    "    \n",
    "    return gcd\n",
    "\n",
    "# Example\n",
    "print(find_gcd(12, 18))  # Output: 6"
   ]
  },
  {
   "cell_type": "markdown",
   "id": "6617230e-0595-4334-b601-3ef2b1c33c36",
   "metadata": {},
   "source": [
    "#### Q14. Find LCM of Two Numbers"
   ]
  },
  {
   "cell_type": "markdown",
   "id": "10e1d61b-31fe-4db4-a196-7f0599a41f48",
   "metadata": {},
   "source": [
    "##### Find the Least Common Multiple (LCM) of two numbers.\n",
    "##### Example: Input: 4, 5 → Output: 20"
   ]
  },
  {
   "cell_type": "code",
   "execution_count": 22,
   "id": "de25d322-ed85-4fc9-b53d-431e34cfc283",
   "metadata": {},
   "outputs": [],
   "source": [
    "class Solution:\n",
    "    def find_gcd(self, a: int, b: int) -> int:\n",
    "        # GCD using Euclidean Algorithm\n",
    "        while b != 0:\n",
    "            a, b = b, a % b\n",
    "        return a\n",
    "\n",
    "    def find_lcm(self, a: int, b: int) -> int:\n",
    "        # LCM = (a * b) // GCD(a, b)\n",
    "        gcd = self.find_gcd(a, b)\n",
    "        return (a * b) // gcd"
   ]
  },
  {
   "cell_type": "markdown",
   "id": "c5f01b1e-057d-4118-8514-c5261c6708c9",
   "metadata": {},
   "source": [
    "| Term    | Meaning                                 |\n",
    "| ------- | --------------------------------------- |\n",
    "| GCD     | Greatest common divisor (shared factor) |\n",
    "| LCM     | Smallest number divisible by both       |\n",
    "| Formula | `LCM = (a × b) / GCD(a, b)`             |\n"
   ]
  },
  {
   "cell_type": "markdown",
   "id": "2b721c75-dbcc-439f-8b9c-53ab7b432bf0",
   "metadata": {},
   "source": [
    "#### Q15. Check if Number is Perfect"
   ]
  },
  {
   "cell_type": "markdown",
   "id": "8928d642-53aa-4f48-83b1-bab73bc0ff57",
   "metadata": {},
   "source": [
    "##### Check if the number is a perfect number (sum of proper divisors equals the number).\n",
    "##### Example: Input: 28 → Output: True (1+2+4+7+14=28)"
   ]
  },
  {
   "cell_type": "code",
   "execution_count": 3,
   "id": "6fafcbd7-c0d3-4c07-b631-7a9f01ccea5e",
   "metadata": {},
   "outputs": [
    {
     "name": "stdout",
     "output_type": "stream",
     "text": [
      "True\n"
     ]
    }
   ],
   "source": [
    "class solution:\n",
    "    def perfect_num(self, num: int):\n",
    "        if num <= 1:  # 0 and 1 are not perfect numbers\n",
    "            return False\n",
    "\n",
    "        sum_divisor = 0\n",
    "        for i in range(1, num):  # check all numbers less than num\n",
    "            if num % i == 0:\n",
    "                sum_divisor += i\n",
    "\n",
    "        return sum_divisor == num  # True if sum equals the number\n",
    "\n",
    "# Example usage:\n",
    "total = solution()\n",
    "print(total.perfect_num(28))  # Expected output: True"
   ]
  },
  {
   "cell_type": "markdown",
   "id": "65d91c75-d5ac-4289-ba4b-1c16afd0c197",
   "metadata": {},
   "source": [
    "#### Q16. Count Total Factors of a Number"
   ]
  },
  {
   "cell_type": "markdown",
   "id": "0e320f5a-ea52-4a69-864e-602224639708",
   "metadata": {},
   "source": [
    "##### Count how many factors (including 1 and itself) the number has.\n",
    "##### Example: Input: 6 → Output: 4 (1, 2, 3, 6)"
   ]
  },
  {
   "cell_type": "code",
   "execution_count": 24,
   "id": "d08d2517-0312-49d5-868d-06ca5cd25cfe",
   "metadata": {},
   "outputs": [
    {
     "name": "stdout",
     "output_type": "stream",
     "text": [
      "Total number of factors: 4\n"
     ]
    }
   ],
   "source": [
    "def count_factors(n: int) -> int:\n",
    "    count = 0  # To count total number of factors\n",
    "\n",
    "    for i in range(1, n + 1):  # Check all numbers from 1 to n\n",
    "        if n % i == 0:         # If i divides n with no remainder\n",
    "            count += 1         # Then i is a factor, increment count\n",
    "\n",
    "    return count\n",
    "\n",
    "# Example\n",
    "num = 6\n",
    "print(\"Total number of factors:\", count_factors(num))  # Output: 4"
   ]
  },
  {
   "cell_type": "markdown",
   "id": "9b37dd1a-b9ac-431b-84d0-92011bb458cd",
   "metadata": {},
   "source": [
    "#### Q17. Generate Fibonacci Series (n terms)"
   ]
  },
  {
   "cell_type": "markdown",
   "id": "2805ff58-c059-4b79-a8d2-02335145f64c",
   "metadata": {},
   "source": [
    "##### Print the first n terms of the Fibonacci series.\n",
    "##### Example: Input: 5 → Output: 0 1 1 2 3"
   ]
  },
  {
   "cell_type": "code",
   "execution_count": 25,
   "id": "8c5b8597-be81-456c-bbc8-9486f7f9a4ae",
   "metadata": {},
   "outputs": [
    {
     "name": "stdout",
     "output_type": "stream",
     "text": [
      "0 1 1 2 3 "
     ]
    }
   ],
   "source": [
    "class Solution:\n",
    "    def fibonacci_series(self, n: int):\n",
    "        a, b = 0, 1  # First two terms of the series\n",
    "        for _ in range(n):\n",
    "            print(a, end=' ')  # Print the current term\n",
    "            a, b = b, a + b     # Update the terms for next iteration\n",
    "\n",
    "# Example usage\n",
    "s = Solution()\n",
    "s.fibonacci_series(5)  # Output: 0 1 1 2 3"
   ]
  },
  {
   "cell_type": "markdown",
   "id": "404c1396-6527-48b9-8fd1-dd3d4b980219",
   "metadata": {},
   "source": [
    "## Explanation:"
   ]
  },
  {
   "cell_type": "markdown",
   "id": "39f2d1a5-d2d8-4826-b26f-4c743cf88f8c",
   "metadata": {},
   "source": [
    " Start with a = 0, b = 1 → the first two Fibonacci numbers.\n",
    " Loop n times:\n",
    "- Print a (the current number in the series).\n",
    "- Update a and b:\n",
    "- a becomes the previous b\n",
    "- b becomes the sum of previous a + b"
   ]
  },
  {
   "cell_type": "markdown",
   "id": "ed6a0195-62c7-4814-8d8d-5580bb3276b4",
   "metadata": {},
   "source": [
    "### Here’s how the brute-force (recursive) approach looks:"
   ]
  },
  {
   "cell_type": "code",
   "execution_count": 6,
   "id": "e561dcab-d754-4379-84bd-fe6a8ee1ad9b",
   "metadata": {},
   "outputs": [
    {
     "name": "stdout",
     "output_type": "stream",
     "text": [
      "0 1 1 2 3 "
     ]
    }
   ],
   "source": [
    "class Solution:\n",
    "    def fibonacci_recursive(self, n: int):\n",
    "        def fib(k):\n",
    "            if k == 0:\n",
    "                return 0\n",
    "            elif k == 1:\n",
    "                return 1\n",
    "            else:\n",
    "                return fib(k-1) + fib(k-2)  # Recursive call\n",
    "\n",
    "        for i in range(n):\n",
    "            print(fib(i), end=' ')\n",
    "\n",
    "# Example usage\n",
    "s = Solution()\n",
    "s.fibonacci_recursive(5)  # Output: 0 1 1 2 3"
   ]
  },
  {
   "cell_type": "markdown",
   "id": "932d0a7c-cbfa-445a-9d6f-412f8001a4e4",
   "metadata": {},
   "source": [
    "#### Q18. Check if Number is Strong"
   ]
  },
  {
   "cell_type": "markdown",
   "id": "0991b7a4-f6c1-462c-aee8-e3aaf865c809",
   "metadata": {},
   "source": [
    "##### Check if the number is a strong number (sum of factorial of digits equals the number).\n",
    "##### Example: Input: 145 → Output: True (1! + 4! + 5! = 145)"
   ]
  },
  {
   "cell_type": "markdown",
   "id": "6912ed8f-517a-4c4c-b428-1ed7edab7b4f",
   "metadata": {},
   "source": [
    "## Python Code Without math.factorial()"
   ]
  },
  {
   "cell_type": "code",
   "execution_count": 26,
   "id": "0765aef9-8a9f-438e-a117-1744a578b805",
   "metadata": {},
   "outputs": [
    {
     "name": "stdout",
     "output_type": "stream",
     "text": [
      "True\n",
      "False\n"
     ]
    }
   ],
   "source": [
    "class Solution:\n",
    "    # Function to calculate factorial of a number (without using math module)\n",
    "    def factorial(self, n: int) -> int:\n",
    "        result = 1\n",
    "        for i in range(1, n + 1):  # Loop from 1 to n\n",
    "            result *= i           # Multiply result by i in each step\n",
    "        return result             # Return the final factorial value\n",
    "\n",
    "    # Function to check whether a number is a Strong Number\n",
    "    def is_strong_number(self, num: int) -> bool:\n",
    "        original = num            # Store the original number to compare later\n",
    "        total = 0                 # Initialize total sum of factorials of digits\n",
    "\n",
    "        while num > 0:\n",
    "            digit = num % 10             # Extract the last digit of the number\n",
    "            total += self.factorial(digit)  # Add the factorial of the digit to the total\n",
    "            num = num // 10              # Remove the last digit from the number\n",
    "\n",
    "        # If the sum of factorials equals the original number, it's a Strong Number\n",
    "        return total == original\n",
    "\n",
    "# Example usage\n",
    "s = Solution()\n",
    "print(s.is_strong_number(145))  # Output: True (1! + 4! + 5! = 145)\n",
    "print(s.is_strong_number(123))  # Output: False (1! + 2! + 3! ≠ 123)"
   ]
  },
  {
   "cell_type": "markdown",
   "id": "dd856933-899b-49d2-a049-0960648aab73",
   "metadata": {},
   "source": [
    "#### Q19. Sum of Digits Until Single Digit"
   ]
  },
  {
   "cell_type": "markdown",
   "id": "f895b697-afdb-4d2a-89ed-dffb6117c31c",
   "metadata": {},
   "source": [
    "##### Keep summing the digits until a single digit is left.\n",
    "##### Example: Input: 9875 → 9+8+7+5=29 → 2+9=11 → 1+1=2 → Output: 2"
   ]
  },
  {
   "cell_type": "code",
   "execution_count": 27,
   "id": "9117b31b-bd6b-40fd-bf74-76e1e9036dba",
   "metadata": {},
   "outputs": [],
   "source": [
    "# class solution:\n",
    "#     def sum_of_digit(self, num: int):\n",
    "#         total = 0\n",
    "#         if num == 0:\n",
    "#             return 0\n",
    "#         while num >= 10:\n",
    "#             total = num % 10 "
   ]
  },
  {
   "cell_type": "code",
   "execution_count": 28,
   "id": "dd009968-32c1-4acf-93b9-079f90abad5b",
   "metadata": {},
   "outputs": [],
   "source": [
    "class Solution:\n",
    "    def sum_until_single_digit(self, num: int) -> int:\n",
    "        # Repeat the process until num is a single-digit number\n",
    "        while num >= 10:\n",
    "            total = 0\n",
    "            while num > 0:\n",
    "                digit = num % 10        # Extract last digit\n",
    "                total += digit          # Add to total\n",
    "                num = num // 10         # Remove last digit\n",
    "            num = total                 # Update num with the digit sum\n",
    "        return num                      # Final single-digit result"
   ]
  },
  {
   "cell_type": "markdown",
   "id": "f6c50eaf-eb69-4e5a-9c55-896354c9996c",
   "metadata": {},
   "source": [
    "#### Logic Explanation:\n",
    "- Outer while loop: runs until num is a single digit.\n",
    "- Inner while loop: sums all digits of num.\n",
    "- The result of the sum replaces num, and the process repeats."
   ]
  },
  {
   "cell_type": "markdown",
   "id": "72332c22-1439-4ca4-af2c-193d5d7c2172",
   "metadata": {},
   "source": [
    "#### Q20. Swap Two Numbers (Without Third Variable)"
   ]
  },
  {
   "cell_type": "markdown",
   "id": "84876ad9-71a8-488b-aebe-ee83301a241b",
   "metadata": {},
   "source": [
    "##### Swap two numbers without using a third variable.\n",
    "##### Example: Input: 4, 5 → Output: 5, 4"
   ]
  },
  {
   "cell_type": "markdown",
   "id": "41c4510d-3423-4fb2-a3b5-b5ba74951226",
   "metadata": {},
   "source": [
    "#### solution type 1"
   ]
  },
  {
   "cell_type": "code",
   "execution_count": 29,
   "id": "29d82260-d8a5-46e1-9a3d-8594c58bc101",
   "metadata": {},
   "outputs": [],
   "source": [
    "class solution:\n",
    "    def swap(self, a: int, b: int):\n",
    "        a, b = b, a\n",
    "        return a, b"
   ]
  },
  {
   "cell_type": "markdown",
   "id": "db6fc6a8-dcf4-4ade-93f8-163a67d9bc27",
   "metadata": {},
   "source": [
    "#### Evaluation:\n",
    "- This does swap the values of a and b correctly ✅\n",
    "- __However, it uses tuple unpacking (a, b = b, a) which internally creates a temporary tuple   object, acting like a third variable 🔁__"
   ]
  },
  {
   "cell_type": "markdown",
   "id": "15dca80b-dcba-4eb0-b6b8-27d91750e9ec",
   "metadata": {},
   "source": [
    "#### solution type 2"
   ]
  },
  {
   "cell_type": "code",
   "execution_count": 30,
   "id": "3914ce30-bcd5-45a4-b710-945fd088910b",
   "metadata": {},
   "outputs": [],
   "source": [
    "class Solution:\n",
    "    def swap(self, a: int, b: int):\n",
    "        a = a + b  # Step 1: Add both numbers\n",
    "        b = a - b  # Step 2: Subtract new b from a (which is a + b) → gives original a\n",
    "        a = a - b  # Step 3: Subtract new b (original a) from a (a + b) → gives original b\n",
    "        return a, b"
   ]
  },
  {
   "cell_type": "markdown",
   "id": "fcc27ed4-23d6-4e29-8515-5e4f013b211f",
   "metadata": {},
   "source": [
    "#### How It Works:\n",
    "- Initially: a = 4, b = 5\n",
    "- Step 1: a = a + b = 4 + 5 = 9\n",
    "- Step 2: b = a - b = 9 - 5 = 4 (original a)\n",
    "- Step 3: a = a - b = 9 - 4 = 5 (original b)"
   ]
  },
  {
   "cell_type": "markdown",
   "id": "8cd809fb-1396-4c2d-b1fc-8ec264049f48",
   "metadata": {},
   "source": [
    "#### Q21. Check if Number is Harshad"
   ]
  },
  {
   "cell_type": "markdown",
   "id": "ff418c12-ac86-4a32-836d-4f9faa324d07",
   "metadata": {},
   "source": [
    "##### Check if the number is divisible by the sum of its digits.\n",
    "##### Example: Input: 18 → Output: True (18 % (1+8) == 0)"
   ]
  },
  {
   "cell_type": "markdown",
   "id": "04f4dc28-8de2-4afd-9dc2-78a98de56333",
   "metadata": {},
   "source": [
    "#### My solution"
   ]
  },
  {
   "cell_type": "code",
   "execution_count": 31,
   "id": "f2e663b6-110f-430a-bc18-95ad1512ea4b",
   "metadata": {},
   "outputs": [],
   "source": [
    "class solution:\n",
    "    def divisible(self, num: int):\n",
    "        while num > 0:\n",
    "            digit = num % 10\n",
    "            num = num // 10\n",
    "            if num + digit == 0:\n",
    "                return True\n",
    "            else: \n",
    "                return False"
   ]
  },
  {
   "cell_type": "markdown",
   "id": "6eca12b8-02f1-4c98-a052-f440752c95ec",
   "metadata": {},
   "source": [
    "#### Correct solution"
   ]
  },
  {
   "cell_type": "code",
   "execution_count": 32,
   "id": "ec28682d-5438-46a9-b670-5e4bddf7fd26",
   "metadata": {},
   "outputs": [],
   "source": [
    "class Solution:\n",
    "    def is_harshad(self, num: int) -> bool:\n",
    "        original = num\n",
    "        total = 0\n",
    "\n",
    "        while num > 0:\n",
    "            digit = num % 10\n",
    "            total += digit\n",
    "            num = num // 10\n",
    "\n",
    "        return original % total == 0"
   ]
  },
  {
   "cell_type": "markdown",
   "id": "53796bd2-7edc-40c7-b8d3-429301e26f3f",
   "metadata": {},
   "source": [
    "#### ✅ Correct Logic:\n",
    "- Store the original number\n",
    "- Find the sum of its digits\n",
    "- Check: original_number % sum_of_digits == 0"
   ]
  },
  {
   "cell_type": "code",
   "execution_count": null,
   "id": "b7f08d2a-e879-4fc1-821c-142f43b7c9f1",
   "metadata": {},
   "outputs": [],
   "source": [
    "class solution:\n",
    "    def is_harshad(self, num: int):\n",
    "        if num == 0:  # Edge case\n",
    "            return False\n",
    "\n",
    "        total = 0\n",
    "        temp = num\n",
    "        while temp > 0:\n",
    "            digit = temp % 10\n",
    "            temp = temp // 10\n",
    "            total += digit\n",
    "\n",
    "        return num % total == 0  # Check divisibility after sum is computed\n",
    "# Example usage\n",
    "check = solution()\n",
    "print(check.is_harshad(18))  # Expected output: True"
   ]
  },
  {
   "cell_type": "markdown",
   "id": "5672bae1-0b07-48a6-981e-73cd54733b79",
   "metadata": {},
   "source": [
    "Use a temporary variable temp so the original num is preserved for the divisibility check."
   ]
  },
  {
   "cell_type": "markdown",
   "id": "30b34d0e-08c5-4206-89c4-bff633a7f9a3",
   "metadata": {},
   "source": [
    "#### Q22. Check if Number is Automorphic"
   ]
  },
  {
   "cell_type": "markdown",
   "id": "2f6c6d62-f6d3-4f08-95eb-6e397c3b5423",
   "metadata": {},
   "source": [
    "##### Check if the square of the number ends with the number itself.\n",
    "##### Example: Input: 76 → 76² = 5776 → Output: True"
   ]
  },
  {
   "cell_type": "code",
   "execution_count": 33,
   "id": "9808226e-fc2f-4f48-b57a-966c10a8fca5",
   "metadata": {},
   "outputs": [],
   "source": [
    "class Solution:\n",
    "    def automorphic(self, num: int) -> bool:\n",
    "        square = num * num\n",
    "        return str(square).endswith(str(num))"
   ]
  },
  {
   "cell_type": "markdown",
   "id": "1934f081-d3a5-403e-b236-820d2770c262",
   "metadata": {},
   "source": [
    "#### Q23. Find First Digit of a Number"
   ]
  },
  {
   "cell_type": "markdown",
   "id": "5c82afcc-b024-4c13-8f19-66dde750ebe0",
   "metadata": {},
   "source": [
    "##### Return the first digit of the number.\n",
    "##### Example: Input: 9321 → Output: 9"
   ]
  },
  {
   "cell_type": "markdown",
   "id": "839b4e65-6e68-46d6-8266-026bd5e4f797",
   "metadata": {},
   "source": [
    "#### Approach: Convert number to string → Access first character → Convert back to int"
   ]
  },
  {
   "cell_type": "code",
   "execution_count": 34,
   "id": "c0fea632-0c7d-478c-8c90-992906211eb2",
   "metadata": {},
   "outputs": [
    {
     "name": "stdout",
     "output_type": "stream",
     "text": [
      "9\n"
     ]
    }
   ],
   "source": [
    "class Solution:\n",
    "    def first_digit(self, num: int) -> int:\n",
    "        num_str = str(num)     # Convert number to string\n",
    "        first_char = num_str[0]  # Access first character (index 0)\n",
    "        return int(first_char)   # Convert it back to integer\n",
    "\n",
    "# Example\n",
    "sol = Solution()\n",
    "print(sol.first_digit(9321))  # Output: 9"
   ]
  },
  {
   "cell_type": "markdown",
   "id": "28e9652d-aaea-4d5e-8b9b-c198b2796303",
   "metadata": {},
   "source": [
    "#### ✅ Why do we use str(num) even when num is already declared as an int?"
   ]
  },
  {
   "cell_type": "markdown",
   "id": "5347e04e-6967-4485-89ed-db1ae2800c86",
   "metadata": {},
   "source": [
    "#### 👉 Because indexing ([0]) only works on iterable types like strings, lists, etc.\n",
    "- An int (e.g., 9321) is not iterable — you cannot do num[0].\n",
    "- So, to access individual digits, you must convert the number into a string, where each character represents a digit."
   ]
  },
  {
   "cell_type": "markdown",
   "id": "f4e73a3d-6e83-4e38-be62-49e7699f537d",
   "metadata": {},
   "source": [
    "#### Alternate Approach (Without converting to string)\n",
    "####  Using division (mathematically):"
   ]
  },
  {
   "cell_type": "code",
   "execution_count": 35,
   "id": "fea7bb14-1678-4abb-934c-d60dbbd694e9",
   "metadata": {},
   "outputs": [
    {
     "name": "stdout",
     "output_type": "stream",
     "text": [
      "9\n"
     ]
    }
   ],
   "source": [
    "class Solution:\n",
    "    def first_digit(self, num: int) -> int:\n",
    "        while num >= 10:\n",
    "            num = num // 10  # Keep dividing until only first digit remains\n",
    "        return num\n",
    "\n",
    "# Example\n",
    "sol = Solution()\n",
    "print(sol.first_digit(9321))  # Output: 9"
   ]
  },
  {
   "cell_type": "markdown",
   "id": "6d9894b7-fc7c-4ee3-ad83-857bd7ef6129",
   "metadata": {},
   "source": [
    "| Method        | Time Complexity                  | Notes                    |\n",
    "| ------------- | -------------------------------- | ------------------------ |\n",
    "| String method | O(d), where d = number of digits | Includes conversion cost |\n",
    "| Math method   | O(log₁₀(n))                      | Pure integer division    |\n",
    "#### In both cases, the complexity is logarithmic in the size of the number, but math method is faster and more space-efficient in practice."
   ]
  },
  {
   "cell_type": "markdown",
   "id": "953e86c4-c77e-46cb-a296-05a3633efa65",
   "metadata": {},
   "source": [
    "#### Q24. Find Last Digit of a Number"
   ]
  },
  {
   "cell_type": "markdown",
   "id": "5f307910-fac1-4a5b-84f6-1ae6d3be1978",
   "metadata": {},
   "source": [
    "##### Return the last digit of the number.\n",
    "##### Example: Input: 9321 → Output: 1"
   ]
  },
  {
   "cell_type": "code",
   "execution_count": 36,
   "id": "cede0ac9-947d-43ff-8eba-031a485a0fc1",
   "metadata": {},
   "outputs": [],
   "source": [
    "class Solution:\n",
    "    def last_digit(self, num: int) -> int:\n",
    "        return num % 10  # Returns the last digit of the number"
   ]
  },
  {
   "cell_type": "markdown",
   "id": "7c3f823a-cfe3-40dc-b8c8-7a538821c33f",
   "metadata": {},
   "source": [
    "#### Q25. Reverse Only the Digits of a Number (Keep sign)"
   ]
  },
  {
   "cell_type": "markdown",
   "id": "f3554dcc-f27e-47a6-b59d-ca3581a19d31",
   "metadata": {},
   "source": [
    "##### Reverse the digits of the number but preserve its sign.\n",
    "##### Example: Input: -123 → Output: -321"
   ]
  },
  {
   "cell_type": "code",
   "execution_count": 37,
   "id": "b82ec02f-33dc-4709-882a-5eb0a9e40a29",
   "metadata": {},
   "outputs": [],
   "source": [
    "class Solution:\n",
    "    def reverse(self, num: int) -> int:\n",
    "        sign = -1 if num < 0 else 1      # Store the sign\n",
    "        num = abs(num)                   # Work with the absolute value\n",
    "        reversed_num = 0\n",
    "\n",
    "        while num > 0:\n",
    "            digit = num % 10\n",
    "            reversed_num = reversed_num * 10 + digit  # Build the reversed number\n",
    "            num = num // 10\n",
    "\n",
    "        return sign * reversed_num       # Restore the original sign"
   ]
  },
  {
   "cell_type": "markdown",
   "id": "e69cc61d-743a-43d3-962c-2f058f721d37",
   "metadata": {},
   "source": [
    "#### 🧠 Explanation:\n",
    "- Use abs() to handle digits regardless of sign\n",
    "- Build the reversed number using reversed_num = reversed_num * 10 + digit\n",
    "- Multiply final result by sign to preserve + or –"
   ]
  },
  {
   "cell_type": "markdown",
   "id": "d7f0b959-985a-4be8-a204-48f5e5aa63cd",
   "metadata": {},
   "source": [
    "#### Q26. Count Zeros in a Number"
   ]
  },
  {
   "cell_type": "markdown",
   "id": "c3201118-8a39-4f5c-905d-3ebb0fcec82d",
   "metadata": {},
   "source": [
    "##### Count how many zeros are present in the number.\n",
    "##### Example: Input: 10500 → Output: 3"
   ]
  },
  {
   "cell_type": "code",
   "execution_count": 38,
   "id": "b44ebf00-f043-4f52-a21f-0588aa8ba020",
   "metadata": {},
   "outputs": [],
   "source": [
    "class Solution:\n",
    "    def count_zeros(self, num: int) -> int:\n",
    "        count = 0\n",
    "        \n",
    "        if num == 0:\n",
    "            return 1  # Special case: 0 has one zero\n",
    "\n",
    "        while num > 0:\n",
    "            digit = num % 10           # Extract the last digit\n",
    "            if digit == 0:\n",
    "                count += 1             # If the digit is zero, increase the count\n",
    "            num = num // 10            # Remove the last digit\n",
    "\n",
    "        return count"
   ]
  },
  {
   "cell_type": "markdown",
   "id": "f1e23dde-d8fb-4249-9224-ae787c667bf4",
   "metadata": {},
   "source": [
    "#### Q27. Print Number in Words"
   ]
  },
  {
   "cell_type": "markdown",
   "id": "c3fbbbdc-e9ee-494e-9bdb-714c683e4a12",
   "metadata": {},
   "source": [
    "##### Print each digit of the number in words.\n",
    "##### Example: Input: 123 → Output: One Two Three"
   ]
  },
  {
   "cell_type": "code",
   "execution_count": 39,
   "id": "0816d3d4-843b-4dab-ac33-283447aa7ef0",
   "metadata": {},
   "outputs": [],
   "source": [
    "class Solution:\n",
    "    def number_in_words(self, num: int) -> str:\n",
    "        # Mapping digits to their word equivalents\n",
    "        digit_words = {\n",
    "            '0': 'Zero',\n",
    "            '1': 'One',\n",
    "            '2': 'Two',\n",
    "            '3': 'Three',\n",
    "            '4': 'Four',\n",
    "            '5': 'Five',\n",
    "            '6': 'Six',\n",
    "            '7': 'Seven',\n",
    "            '8': 'Eight',\n",
    "            '9': 'Nine'\n",
    "        }\n",
    "\n",
    "        # Convert number to string to iterate through digits\n",
    "        num_str = str(num)\n",
    "        words = []\n",
    "\n",
    "        for digit in num_str:\n",
    "            words.append(digit_words[digit])  # Get the word for each digit\n",
    "\n",
    "        return ' '.join(words)  # Join words with space in between"
   ]
  },
  {
   "cell_type": "code",
   "execution_count": 40,
   "id": "5db9c464-4eba-4c08-b9cb-4c6099e00327",
   "metadata": {},
   "outputs": [
    {
     "name": "stdout",
     "output_type": "stream",
     "text": [
      "One Two Three\n",
      "One Zero Five Zero\n",
      "Zero\n"
     ]
    }
   ],
   "source": [
    "s = Solution()\n",
    "print(s.number_in_words(123))     # Output: One Two Three\n",
    "print(s.number_in_words(1050))    # Output: One Zero Five Zero\n",
    "print(s.number_in_words(0))       # Output: Zero"
   ]
  },
  {
   "cell_type": "markdown",
   "id": "3c194f25-9190-448f-9463-53b69729fda1",
   "metadata": {},
   "source": [
    "#### Q28. Find Power Without Using ** or pow()"
   ]
  },
  {
   "cell_type": "markdown",
   "id": "cdc07564-2084-439f-9ee3-78d389ca3e2c",
   "metadata": {},
   "source": [
    "##### Calculate the power of a number without using ** or pow().\n",
    "##### Example: Input: 2, 3 → Output: 8"
   ]
  },
  {
   "cell_type": "markdown",
   "id": "97a5307b-2371-4ac6-a281-21bf98fb896c",
   "metadata": {},
   "source": [
    "- the ** operator (e.g., 2 ** 3)\n",
    "- the built-in pow() function"
   ]
  },
  {
   "cell_type": "markdown",
   "id": "d71fc656-83f4-40b4-a83a-6a32719e0d23",
   "metadata": {},
   "source": [
    "#### Build the logic to compute base^exponent (e.g., 2^3 = 8) without using built-in shortcuts."
   ]
  },
  {
   "cell_type": "code",
   "execution_count": 41,
   "id": "d1f35321-702d-4f6f-afe1-b82c06e17823",
   "metadata": {},
   "outputs": [],
   "source": [
    "class Solution:\n",
    "    def exponent(self, a: int, b: int) -> int:\n",
    "        if b == 0:\n",
    "            return 1  # Anything raised to the power 0 is 1\n",
    "\n",
    "        result = 1  # This will hold the final result\n",
    "\n",
    "        for i in range(b):  # Repeat b times\n",
    "            result *= a     # Multiply result by a in each iteration\n",
    "\n",
    "        return result       # Return the final power"
   ]
  },
  {
   "cell_type": "markdown",
   "id": "9311a3ad-e547-4ace-8530-2859528e5f40",
   "metadata": {},
   "source": [
    "#### Q29. Print All Prime Numbers Up to N"
   ]
  },
  {
   "cell_type": "markdown",
   "id": "53a97bf1-3f18-47da-b10c-3869cabc2446",
   "metadata": {},
   "source": [
    "##### Print all prime numbers up to a given number N.\n",
    "##### Example: Input: 10 → Output: 2, 3, 5, 7"
   ]
  },
  {
   "cell_type": "code",
   "execution_count": 2,
   "id": "64a22987-c28c-40cb-963f-c9568af22cc8",
   "metadata": {},
   "outputs": [],
   "source": [
    "class Solution:\n",
    "    def print_primes_up_to_n(self, n: int):\n",
    "        # Loop through all numbers from 2 to n\n",
    "        for num in range(2, n + 1):\n",
    "            is_prime = True  # Assume current number is prime\n",
    "\n",
    "            # Check if num is divisible by any number between 2 and sqrt(num)\n",
    "            for i in range(2, int(num ** 0.5) + 1):\n",
    "                if num % i == 0:\n",
    "                    is_prime = False  # Not a prime if divisible\n",
    "                    break  # No need to check further\n",
    "\n",
    "            if is_prime:\n",
    "                print(num, end=' ')  # Print prime numbers in the same line"
   ]
  },
  {
   "cell_type": "code",
   "execution_count": 43,
   "id": "289de752-317e-41b3-b060-73284120982d",
   "metadata": {},
   "outputs": [
    {
     "name": "stdout",
     "output_type": "stream",
     "text": [
      "2 3 5 7 "
     ]
    }
   ],
   "source": [
    "s = Solution()\n",
    "s.print_primes_up_to_n(10)\n",
    "# Output: 2 3 5 7"
   ]
  },
  {
   "cell_type": "markdown",
   "id": "22112aec-1c94-4f68-bf73-d9b0daff0772",
   "metadata": {},
   "source": [
    "Using math.squrt function of python"
   ]
  },
  {
   "cell_type": "code",
   "execution_count": 3,
   "id": "82dfb76a-d0d6-48f9-b63b-0ccfd79f04e1",
   "metadata": {},
   "outputs": [
    {
     "name": "stdout",
     "output_type": "stream",
     "text": [
      "2 3 5 7 11 13 17 19 23 29 "
     ]
    }
   ],
   "source": [
    "import math\n",
    "\n",
    "class Solution:\n",
    "    def print_primes_up_to_n(self, n: int):\n",
    "        # Loop through all numbers from 2 to n\n",
    "        for num in range(2, n + 1):\n",
    "            is_prime = True  # Assume current number is prime\n",
    "\n",
    "            # Check if num is divisible by any number between 2 and sqrt(num)\n",
    "            for i in range(2, int(math.sqrt(num)) + 1):\n",
    "                if num % i == 0:\n",
    "                    is_prime = False  # Not a prime if divisible\n",
    "                    break  # No need to check further\n",
    "\n",
    "            if is_prime:\n",
    "                print(num, end=' ')  # Print prime numbers in the same line\n",
    "\n",
    "\n",
    "# Example usage\n",
    "s = Solution()\n",
    "s.print_primes_up_to_n(30)  # Output: 2 3 5 7 11 13 17 19 23 29"
   ]
  },
  {
   "cell_type": "markdown",
   "id": "5dbb55e5-a4a5-4c55-9628-469646c46561",
   "metadata": {},
   "source": [
    "#### 🧠 Explanation:\n",
    "- Loop starts from 2 (first prime number)\n",
    "- For each number, check if it's divisible by any number up to its square root\n",
    "- If no divisor is found, the number is prime\n",
    "- Prime numbers are printed on the same line using end=' '"
   ]
  },
  {
   "cell_type": "markdown",
   "id": "2bc6e0ad-4862-4bf3-a61a-40e917f53b24",
   "metadata": {},
   "source": [
    "#### Q30. Check if Digits Are in Increasing Order"
   ]
  },
  {
   "cell_type": "markdown",
   "id": "fd35ed82-1f12-4627-b456-8f30173177cb",
   "metadata": {},
   "source": [
    "##### Check if the digits of the number are in strictly increasing order.\n",
    "##### Example: Input: 1234 → Output: True; Input: 1324 → Output: False"
   ]
  },
  {
   "cell_type": "markdown",
   "id": "0ee8ff66-541e-4658-b0d3-14c2556d8541",
   "metadata": {},
   "source": [
    "#### ✅ What Needs to Be Done:\n",
    "- Extract digits from right to left\n",
    "- Store the previous digit\n",
    "- Compare: If current_digit >= previous_digit, return False\n",
    "- If the loop ends without returning False, return True"
   ]
  },
  {
   "cell_type": "code",
   "execution_count": 44,
   "id": "ca441eed-72ad-4f9d-83d2-1d9348a67815",
   "metadata": {},
   "outputs": [],
   "source": [
    "class Solution:\n",
    "    def is_digits_in_increasing_order(self, num: int) -> bool:\n",
    "        prev_digit = 10  # Initialize with a digit higher than any possible (0–9)\n",
    "\n",
    "        while num > 0:\n",
    "            current_digit = num % 10  # Extract last digit\n",
    "            if current_digit >= prev_digit:\n",
    "                return False  # Digits are not in strictly increasing order\n",
    "            prev_digit = current_digit  # Update previous digit\n",
    "            num = num // 10  # Remove last digit\n",
    "\n",
    "        return True  # All digits were in increasing order (from left to right)"
   ]
  },
  {
   "cell_type": "markdown",
   "id": "de9fd193-3862-4ec6-81eb-fcc8e15d9b95",
   "metadata": {},
   "source": [
    "Other way around"
   ]
  },
  {
   "cell_type": "code",
   "execution_count": 4,
   "id": "3f5d2736-9ff1-405b-a27d-930f82faa645",
   "metadata": {},
   "outputs": [
    {
     "name": "stdout",
     "output_type": "stream",
     "text": [
      "True\n",
      "False\n",
      "True\n",
      "False\n"
     ]
    }
   ],
   "source": [
    "class Solution:\n",
    "    def increasing(self, num: int) -> bool:\n",
    "        num_str = str(num)  # convert number to string\n",
    "        for i in range(len(num_str) - 1):  # loop over digits\n",
    "            if num_str[i] >= num_str[i + 1]:  # check increasing order\n",
    "                return False\n",
    "        return True\n",
    "\n",
    "# Example usage\n",
    "s = Solution()\n",
    "print(s.increasing(1234))  # True\n",
    "print(s.increasing(1324))  # False\n",
    "print(s.increasing(789))   # True\n",
    "print(s.increasing(987))   # False"
   ]
  },
  {
   "cell_type": "markdown",
   "id": "7acdc88c-fbbe-4024-ad01-1382a6ddbbb8",
   "metadata": {},
   "source": [
    "#### Q31. Find Product of Digits"
   ]
  },
  {
   "cell_type": "markdown",
   "id": "1b1728a9-d0a4-4985-b64f-6b6fac4536b4",
   "metadata": {},
   "source": [
    "##### Return the product of all digits in a number.\n",
    "##### Example: Input: 1234 → Output: 24 (1 *2 *3 *4)"
   ]
  },
  {
   "cell_type": "code",
   "execution_count": 45,
   "id": "08b12a43-d1a6-4dfa-9c8e-a76f7c8f3668",
   "metadata": {},
   "outputs": [],
   "source": [
    "class Solution:\n",
    "    def product_of_digit(self, num: int) -> int:\n",
    "        if num == 0:\n",
    "            return 0  # Special case: product of digits of 0 is 0\n",
    "\n",
    "        product = 1  # Start with 1 (neutral element for multiplication)\n",
    "\n",
    "        while num > 0:\n",
    "            digit = num % 10           # Extract last digit\n",
    "            product *= digit           # Multiply into the running product\n",
    "            num = num // 10            # Remove last digit\n",
    "\n",
    "        return product"
   ]
  },
  {
   "cell_type": "code",
   "execution_count": 46,
   "id": "867e831b-47b2-4ff9-989e-f2b03f517fa1",
   "metadata": {},
   "outputs": [
    {
     "name": "stdout",
     "output_type": "stream",
     "text": [
      "24\n",
      "0\n",
      "9\n"
     ]
    }
   ],
   "source": [
    "s = Solution()\n",
    "print(s.product_of_digit(1234))   # Output: 24\n",
    "print(s.product_of_digit(505))    # Output: 0 (any digit zero makes the product zero)\n",
    "print(s.product_of_digit(9))      # Output: 9"
   ]
  },
  {
   "cell_type": "markdown",
   "id": "495487f6-7216-46d9-b00c-630b348e81bf",
   "metadata": {},
   "source": [
    "#### Q32. Count Frequency of Each Digit"
   ]
  },
  {
   "cell_type": "markdown",
   "id": "e901d8f1-4793-493a-90f5-8c8d839cf8d6",
   "metadata": {},
   "source": [
    "##### Count how many times each digit appears in the number.\n",
    "##### Example: Input: 112232 → Output: 1=2, 2=3, 3=1"
   ]
  },
  {
   "cell_type": "code",
   "execution_count": 47,
   "id": "a3acf4db-fb4e-418b-991f-b63fcd5576d9",
   "metadata": {},
   "outputs": [],
   "source": [
    "class Solution:\n",
    "    def digit_frequency(self, num: int):\n",
    "        freq = {}  # Dictionary to store digit frequencies\n",
    "\n",
    "        for digit in str(num):  # Convert number to string and iterate each digit\n",
    "            if digit in freq:\n",
    "                freq[digit] += 1  # Increment count if digit already seen\n",
    "            else:\n",
    "                freq[digit] = 1   # First occurrence\n",
    "\n",
    "        # Print results in format: 1=2, 2=3, 3=1\n",
    "        for digit in sorted(freq.keys()):  # Sorting for consistent order\n",
    "            print(f\"{digit}={freq[digit]}\", end=\", \")"
   ]
  },
  {
   "cell_type": "code",
   "execution_count": 48,
   "id": "da4b5e88-d3dd-4e70-a248-9a09d593b1cf",
   "metadata": {},
   "outputs": [
    {
     "name": "stdout",
     "output_type": "stream",
     "text": [
      "1=2, 2=3, 3=1, "
     ]
    }
   ],
   "source": [
    "s = Solution()\n",
    "s.digit_frequency(112232)  # Output: 1=2, 2=3, 3=1,"
   ]
  },
  {
   "cell_type": "markdown",
   "id": "8ea5d6e0-c01a-4b45-b5cf-941f38a6f2f3",
   "metadata": {},
   "source": [
    "##### str(num) is used so that you can easily iterate over each digit.\n",
    "\n",
    "##### Each digit is a character like '1', '2', which can be used as dictionary keys.\n",
    "\n",
    "##### It’s a simpler and cleaner approach for counting digit frequency.\n",
    "---"
   ]
  },
  {
   "cell_type": "markdown",
   "id": "d3a646b4-1bb2-45fd-9e2d-c6603cd14b65",
   "metadata": {},
   "source": [
    "#### Q33. Check if Number is Armstrong"
   ]
  },
  {
   "cell_type": "markdown",
   "id": "e5581f7f-f792-4c38-88ba-1a74929b71df",
   "metadata": {},
   "source": [
    "##### Check if a number is equal to the sum of the cubes of its digits.\n",
    "##### Example: Input: 153 → Output: True (1³ + 5³ + 3³ = 153)"
   ]
  },
  {
   "cell_type": "code",
   "execution_count": 49,
   "id": "856de91c-d457-4024-b4db-651294cd1aa5",
   "metadata": {},
   "outputs": [],
   "source": [
    "class Solution:\n",
    "    def armstrong(self, num: int) -> bool:\n",
    "        original = num        # Store the original number\n",
    "        total = 0             # To store sum of cubes of digits\n",
    "\n",
    "        while num > 0:\n",
    "            digit = num % 10             # Extract the last digit\n",
    "            cube = digit ** 3            # Cube the digit\n",
    "            total += cube                # Add cube to total\n",
    "            num = num // 10              # Remove the last digit\n",
    "\n",
    "        return total == original         # Check if sum of cubes equals the original number"
   ]
  },
  {
   "cell_type": "code",
   "execution_count": 50,
   "id": "f54e689b-8265-4f35-a8cf-2b1805b0d13e",
   "metadata": {},
   "outputs": [
    {
     "name": "stdout",
     "output_type": "stream",
     "text": [
      "True\n",
      "True\n",
      "False\n"
     ]
    }
   ],
   "source": [
    "s = Solution()\n",
    "print(s.armstrong(153))   # Output: True\n",
    "print(s.armstrong(370))   # Output: True\n",
    "print(s.armstrong(123))   # Output: False"
   ]
  },
  {
   "cell_type": "markdown",
   "id": "46b6aa3d-4bb6-4980-8ac8-02c751f349e3",
   "metadata": {},
   "source": [
    "#### Q34. Rotate Digits of a Number (Right Rotation by 2)"
   ]
  },
  {
   "cell_type": "markdown",
   "id": "f5ef7b36-8025-4c35-b759-0517691f491f",
   "metadata": {},
   "source": [
    "##### Rotate the digits of a number to the right by 2 places.\n",
    "##### Example: Input: 12345 → Output: 45123"
   ]
  },
  {
   "cell_type": "code",
   "execution_count": 51,
   "id": "10ae02ed-3f14-4c6c-accd-865a8fb41b3a",
   "metadata": {},
   "outputs": [],
   "source": [
    "class Solution:\n",
    "    def rotate_right_by_2(self, num: int) -> int:\n",
    "        num_str = str(num)  # Convert number to string for easy slicing\n",
    "\n",
    "        if len(num_str) <= 2:\n",
    "            return num  # No rotation needed for 2 or fewer digits\n",
    "\n",
    "        rotated = num_str[-2:] + num_str[:-2]  # Last 2 digits + the rest\n",
    "        return int(rotated)  # Convert back to integer"
   ]
  },
  {
   "cell_type": "code",
   "execution_count": 52,
   "id": "c43bf3cd-ca38-4eac-a4e0-ba7ce29732eb",
   "metadata": {},
   "outputs": [
    {
     "name": "stdout",
     "output_type": "stream",
     "text": [
      "45123\n",
      "98\n",
      "112\n"
     ]
    }
   ],
   "source": [
    "s = Solution()\n",
    "print(s.rotate_right_by_2(12345))   # Output: 45123\n",
    "print(s.rotate_right_by_2(98))      # Output: 98 (only 2 digits, so unchanged)\n",
    "print(s.rotate_right_by_2(1201))    # Output: 0112 → 112"
   ]
  },
  {
   "cell_type": "markdown",
   "id": "c6cc2644-32a1-4330-9517-3509b549302f",
   "metadata": {},
   "source": [
    "#### Q35. Convert Binary to Decimal"
   ]
  },
  {
   "cell_type": "markdown",
   "id": "ecfbb3fc-25bc-45cc-864b-32362f98f6e9",
   "metadata": {},
   "source": [
    "##### Convert a binary number (as integer input) to its decimal form.\n",
    "##### Example: Input: 1010 → Output: 10"
   ]
  },
  {
   "cell_type": "markdown",
   "id": "c1fabe85-3831-467c-b9b0-171ce4b3e099",
   "metadata": {},
   "source": [
    "#### 🔢 Binary Number System Recap:\n",
    "- A binary number uses only 0 and 1 digits.\n",
    "- Each digit represents a power of 2 based on its position from right to left."
   ]
  },
  {
   "cell_type": "markdown",
   "id": "7d1447eb-103c-471a-bb91-8f8c1cadee2d",
   "metadata": {},
   "source": [
    "| Position (Right to Left) | Digit | Power of 2 | Value     |\n",
    "| ------------------------ | ----- | ---------- | --------- |\n",
    "| 0                        | 0     | 2⁰         | 0 × 1 = 0 |\n",
    "| 1                        | 1     | 2¹         | 1 × 2 = 2 |\n",
    "| 2                        | 0     | 2²         | 0 × 4 = 0 |\n",
    "| 3                        | 1     | 2³         | 1 × 8 = 8 |\n",
    "#### Total = 8 + 0 + 2 + 0 = 10\n",
    "#### So, binary 1010 = decimal 10"
   ]
  },
  {
   "cell_type": "code",
   "execution_count": 53,
   "id": "a72964f0-0e9b-4052-b0d6-90792d6b6d08",
   "metadata": {},
   "outputs": [],
   "source": [
    "class Solution:\n",
    "    def binary_to_decimal(self, binary_num: int) -> int:\n",
    "        decimal = 0       # Final decimal value\n",
    "        power = 0         # Start from the lowest power (2⁰)\n",
    "\n",
    "        while binary_num > 0:\n",
    "            digit = binary_num % 10      # Extract the last digit (should be 0 or 1)\n",
    "            decimal += digit * (2 ** power)  # Add digit × 2^position\n",
    "            binary_num = binary_num // 10    # Remove last digit\n",
    "            power += 1                  # Increase power for next digit\n",
    "\n",
    "        return decimal"
   ]
  },
  {
   "cell_type": "code",
   "execution_count": 54,
   "id": "41d0c752-07d2-49fb-b89c-1670d6bfa356",
   "metadata": {},
   "outputs": [
    {
     "name": "stdout",
     "output_type": "stream",
     "text": [
      "10\n",
      "7\n",
      "9\n"
     ]
    }
   ],
   "source": [
    "s = Solution()\n",
    "print(s.binary_to_decimal(1010))   # Output: 10\n",
    "print(s.binary_to_decimal(111))    # Output: 7\n",
    "print(s.binary_to_decimal(1001))   # Output: 9"
   ]
  },
  {
   "cell_type": "markdown",
   "id": "2d6c1e6d-04e8-461f-a401-60ec16e3cb2c",
   "metadata": {},
   "source": [
    "#### Q36. Convert Decimal to Binary"
   ]
  },
  {
   "cell_type": "markdown",
   "id": "179802bf-cd97-473c-8da1-36ddaf66cdb6",
   "metadata": {},
   "source": [
    "##### Convert a decimal number to binary (without using bin()).\n",
    "##### Example: Input: 10 → Output: 1010"
   ]
  },
  {
   "cell_type": "markdown",
   "id": "93b856f2-d736-4a33-a9e5-346dfb43a27a",
   "metadata": {},
   "source": [
    "#### 🔢 Decimal vs Binary:\n",
    "- Decimal: Base-10 (digits: 0–9)\n",
    "- Binary: Base-2 (digits: only 0 and 1)\n",
    "- You need to convert from base 10 to base 2"
   ]
  },
  {
   "cell_type": "markdown",
   "id": "8a373c6e-3362-42ce-997d-ab52cd83f184",
   "metadata": {},
   "source": [
    "#### 🧠 How does manual conversion work?\n",
    "#### You divide the number by 2 repeatedly and keep track of the remainders.\n",
    "#### Example: Convert 10 to binary\n",
    "| Step | Division | Quotient | Remainder |\n",
    "| ---- | -------- | -------- | --------- |\n",
    "| 1    | 10 ÷ 2   | 5        | 0         |\n",
    "| 2    | 5 ÷ 2    | 2        | 1         |\n",
    "| 3    | 2 ÷ 2    | 1        | 0         |\n",
    "| 4    | 1 ÷ 2    | 0        | 1         |\n"
   ]
  },
  {
   "cell_type": "code",
   "execution_count": 55,
   "id": "009737a2-be80-41e7-8483-bf0b7f7fcf18",
   "metadata": {},
   "outputs": [],
   "source": [
    "class Solution:\n",
    "    def decimal_to_binary(self, num: int) -> str:\n",
    "        if num == 0:\n",
    "            return \"0\"\n",
    "\n",
    "        binary_digits = []\n",
    "\n",
    "        while num > 0:\n",
    "            remainder = num % 2               # Get remainder (0 or 1)\n",
    "            binary_digits.append(str(remainder))  # Store as string\n",
    "            num = num // 2                    # Floor divide by 2\n",
    "\n",
    "        binary_digits.reverse()               # Reverse to get correct order\n",
    "        return ''.join(binary_digits)         # Join list into final string"
   ]
  },
  {
   "cell_type": "markdown",
   "id": "c10751ec-cdb1-4dc2-b047-8c65f93b8328",
   "metadata": {},
   "source": [
    "#### Q37. Reverse Binary Representation"
   ]
  },
  {
   "cell_type": "markdown",
   "id": "381733c5-2e81-4a95-b1dd-696b692f0b80",
   "metadata": {},
   "source": [
    "##### Reverse the binary digits of a number.\n",
    "##### Example: Input: 6 (110) → Output: 011 → 3"
   ]
  },
  {
   "cell_type": "markdown",
   "id": "4f41efa5-59aa-4d13-9488-e22f50d3b178",
   "metadata": {},
   "source": [
    "So the process is: Decimal → Binary → Reverse Binary → Decimal"
   ]
  },
  {
   "cell_type": "code",
   "execution_count": 56,
   "id": "1243ae1c-7b89-4028-a321-de5745833cdb",
   "metadata": {},
   "outputs": [],
   "source": [
    "class Solution:\n",
    "    def reverse_binary(self, num: int) -> int:\n",
    "        # Step 1: Convert to binary and remove the '0b' prefix\n",
    "        binary_str = bin(num)[2:]\n",
    "\n",
    "        # Step 2: Reverse the binary string\n",
    "        reversed_binary = binary_str[::-1]\n",
    "\n",
    "        # Step 3: Convert reversed binary string back to decimal\n",
    "        result = int(reversed_binary, 2)\n",
    "\n",
    "        return result"
   ]
  },
  {
   "cell_type": "code",
   "execution_count": 57,
   "id": "71dd1ca2-c539-412f-91d4-132ebaf68e45",
   "metadata": {},
   "outputs": [
    {
     "name": "stdout",
     "output_type": "stream",
     "text": [
      "3\n",
      "11\n",
      "1\n"
     ]
    }
   ],
   "source": [
    "s = Solution()\n",
    "print(s.reverse_binary(6))   # Output: 3\n",
    "print(s.reverse_binary(13))  # 13 = 1101 → reversed = 1011 → Output: 11\n",
    "print(s.reverse_binary(1))   # 1 = 1 → reversed = 1 → Output: 1"
   ]
  },
  {
   "cell_type": "markdown",
   "id": "500d6d1d-e7d1-496a-9305-dda2af88f17f",
   "metadata": {},
   "source": [
    "#### Q38. Find Second Largest Digit in a Number"
   ]
  },
  {
   "cell_type": "markdown",
   "id": "ee3de28e-4dcf-47fa-b56a-39acd4ab7b43",
   "metadata": {},
   "source": [
    "##### Return the second largest digit from the number.\n",
    "##### Example: Input: 4723 → Output: 4"
   ]
  },
  {
   "cell_type": "markdown",
   "id": "772e4935-d26d-4e4a-be8e-14fc4fc9e386",
   "metadata": {},
   "source": [
    "#### ✅ Approach:\n",
    "- Extract all digits from the number.\n",
    "- Remove duplicates (in case some digits repeat).\n",
    "- Sort the digits in descending order.\n",
    "- Return the second element in the sorted list."
   ]
  },
  {
   "cell_type": "code",
   "execution_count": 58,
   "id": "b9028035-4cfc-4e8b-a883-fa42e2d620d3",
   "metadata": {},
   "outputs": [],
   "source": [
    "class Solution:\n",
    "    def second_largest_digit(self, num: int) -> int:\n",
    "        digits = [] # list\n",
    "\n",
    "        # Step 1: Extract all digits\n",
    "        while num > 0:\n",
    "            digit = num % 10\n",
    "            digits.append(digit)\n",
    "            num = num // 10\n",
    "\n",
    "        # Step 2: Remove duplicates using set, then sort in descending order\n",
    "        unique_digits = list(set(digits))\n",
    "        unique_digits.sort(reverse=True)\n",
    "\n",
    "        # Step 3: Check if second largest exists\n",
    "        if len(unique_digits) < 2:\n",
    "            return -1  # Or raise an error — only one unique digit\n",
    "        else:\n",
    "            return unique_digits[1]  # Second largest digit\n"
   ]
  },
  {
   "cell_type": "code",
   "execution_count": 59,
   "id": "00b02a91-7318-4385-8579-0a8390311b0d",
   "metadata": {},
   "outputs": [
    {
     "name": "stdout",
     "output_type": "stream",
     "text": [
      "4\n",
      "-1\n",
      "8\n"
     ]
    }
   ],
   "source": [
    "s = Solution()\n",
    "print(s.second_largest_digit(4723))    # Output: 4\n",
    "print(s.second_largest_digit(777))     # Output: -1 (only one unique digit)\n",
    "print(s.second_largest_digit(98352))   # Output: 8"
   ]
  },
  {
   "cell_type": "markdown",
   "id": "ea364727-e489-45ae-b515-3e12b3be276c",
   "metadata": {},
   "source": [
    "#### Q39. Sum of All Prime Digits"
   ]
  },
  {
   "cell_type": "markdown",
   "id": "4d40a7bb-3809-4800-b353-bb350b25ebe0",
   "metadata": {},
   "source": [
    "##### Add only the prime digits in the number.\n",
    "##### Example: Input: 2379 → Output: 2+3+7 = 12"
   ]
  },
  {
   "cell_type": "code",
   "execution_count": 60,
   "id": "2ea99284-a821-47c0-bbb9-db7f2fe0760c",
   "metadata": {},
   "outputs": [],
   "source": [
    "class Solution:\n",
    "    def sum_prime_digits(self, num: int) -> int:\n",
    "        add_prime = 0\n",
    "        while num > 0:\n",
    "            digit = num % 10\n",
    "            if digit in (2, 3, 5, 7):  # prime digits\n",
    "                add_prime += digit\n",
    "            num = num // 10\n",
    "        return add_prime"
   ]
  },
  {
   "cell_type": "markdown",
   "id": "ec438f2e-0b90-42ea-b86e-57f18143d575",
   "metadata": {},
   "source": [
    "#### Q40. Check if Number is Duck Number"
   ]
  },
  {
   "cell_type": "markdown",
   "id": "360762c3-e6b5-4491-a6da-bfc333b48e49",
   "metadata": {},
   "source": [
    "##### Check if a number contains at least one zero but does not begin with zero.\n",
    "##### Example: Input: 1023 → Output: True; Input: 0123 → Output: False"
   ]
  },
  {
   "cell_type": "code",
   "execution_count": 61,
   "id": "e8fe3004-a403-423b-9024-78fd1dd7d031",
   "metadata": {},
   "outputs": [],
   "source": [
    "class Solution:\n",
    "    def is_duck_number(self, num: str) -> bool:\n",
    "        # Check if the first character is '0'\n",
    "        if num[0] == '0':\n",
    "            return False\n",
    "        # Check if there's at least one zero elsewhere\n",
    "        return '0' in num[1:]"
   ]
  },
  {
   "cell_type": "code",
   "execution_count": 62,
   "id": "e8a09d31-b641-434e-8840-c94b59a76785",
   "metadata": {},
   "outputs": [
    {
     "name": "stdout",
     "output_type": "stream",
     "text": [
      "True\n",
      "False\n",
      "False\n"
     ]
    }
   ],
   "source": [
    "s = Solution()\n",
    "print(s.is_duck_number(\"1023\"))  # Output: True\n",
    "print(s.is_duck_number(\"0123\"))  # Output: False\n",
    "print(s.is_duck_number(\"123\"))   # Output: False"
   ]
  },
  {
   "cell_type": "markdown",
   "id": "6ffbf266-4c17-49f6-9c91-cd5c68528d02",
   "metadata": {},
   "source": [
    "#### 🔍 num[0] == '0':\n",
    "\n",
    "- This checks the first character of the input string num.\n",
    "\n",
    "- If it is '0', that means the number starts with zero, which disqualifies it from being a Duck Number"
   ]
  },
  {
   "cell_type": "markdown",
   "id": "ab71e9c6-245b-4472-bc6e-ca7a28e9fe8d",
   "metadata": {},
   "source": [
    "#### Q41. Check if Number is Magic Number"
   ]
  },
  {
   "cell_type": "markdown",
   "id": "b01fd487-cc75-4e5c-95b6-8a592d24d0a6",
   "metadata": {},
   "source": [
    "##### Magic number = recursively add digits until you get 1.\n",
    "##### Example: Input: 199 → 1+9+9=19 → 1+9=10 → 1+0=1 → Output: True"
   ]
  },
  {
   "cell_type": "code",
   "execution_count": 63,
   "id": "8ea0bb42-cfa0-453b-9288-2dd43b451e00",
   "metadata": {},
   "outputs": [],
   "source": [
    "class Solution:\n",
    "    def is_magic_number(self, num: int) -> bool:\n",
    "        def digit_sum(n: int) -> int:\n",
    "            \"\"\"Helper function to compute sum of digits of n\"\"\"\n",
    "            total = 0\n",
    "            while n > 0:\n",
    "                total += n % 10\n",
    "                n = n // 10\n",
    "            return total\n",
    "\n",
    "        # Keep reducing the number until it's a single digit\n",
    "        while num >= 10:\n",
    "            num = digit_sum(num)\n",
    "\n",
    "        # If the final result is 1, it's a magic number\n",
    "        return num == 1"
   ]
  },
  {
   "cell_type": "code",
   "execution_count": 64,
   "id": "88609c90-7952-449f-bb95-d4df2bb9704c",
   "metadata": {},
   "outputs": [
    {
     "name": "stdout",
     "output_type": "stream",
     "text": [
      "True\n",
      "True\n"
     ]
    }
   ],
   "source": [
    "s = Solution()\n",
    "print(s.is_magic_number(199))   # Output: True\n",
    "print(s.is_magic_number(1234))  # Output: False"
   ]
  },
  {
   "cell_type": "markdown",
   "id": "809f3b74-c6ec-417c-ba65-27eea0dbb08b",
   "metadata": {},
   "source": [
    "#### Q42. Print All Divisors of a Number in Sorted Order"
   ]
  },
  {
   "cell_type": "markdown",
   "id": "19dae776-8e2d-41d9-ba0c-0bdcab1f70f3",
   "metadata": {},
   "source": [
    "##### List all divisors of the given number.\n",
    "##### Example: Input: 12 → Output: 1 2 3 4 6 12"
   ]
  },
  {
   "cell_type": "code",
   "execution_count": 65,
   "id": "6c80d8c3-b4ed-4daf-b201-c80568e4e2c2",
   "metadata": {},
   "outputs": [],
   "source": [
    "class Solution:\n",
    "    def print_divisors(self, num: int) -> list:\n",
    "        divisors = set()  # Using a set to avoid duplicates\n",
    "\n",
    "        # Loop from 1 to square root of num\n",
    "        for i in range(1, int(num**0.5) + 1):\n",
    "            if num % i == 0:\n",
    "                divisors.add(i)         # i is a divisor\n",
    "                divisors.add(num // i)  # num // i is also a divisor\n",
    "\n",
    "        # Return divisors in sorted order\n",
    "        return sorted(divisors)"
   ]
  },
  {
   "cell_type": "code",
   "execution_count": 66,
   "id": "1ed83d68-ad62-4445-9e12-9e4030c39cce",
   "metadata": {},
   "outputs": [
    {
     "name": "stdout",
     "output_type": "stream",
     "text": [
      "[1, 2, 4, 8]\n"
     ]
    }
   ],
   "source": [
    "s = Solution()\n",
    "print(s.print_divisors(8))  # Output: [1, 2, 3, 4, 6, 12]"
   ]
  },
  {
   "cell_type": "markdown",
   "id": "1c634c33-1524-43b8-95be-48d666bcbe17",
   "metadata": {},
   "source": [
    "#### Q43. Find the Sum of Factorials of Even Digits Only"
   ]
  },
  {
   "cell_type": "markdown",
   "id": "f8e4934e-42b9-4437-9c61-7d3e370c806c",
   "metadata": {},
   "source": [
    "##### Only add factorials of even digits.\n",
    "##### Example: Input: 2483 → Output: 2! + 4! + 8! = 2 + 24 + 40320 = 40346"
   ]
  },
  {
   "cell_type": "code",
   "execution_count": null,
   "id": "fc918d42-45c9-4e4f-8740-c94840e7c5fa",
   "metadata": {},
   "outputs": [],
   "source": [
    "import math\n",
    "\n",
    "class Solution:\n",
    "    def sum_even_digit_factorials(self, num: int) -> int:\n",
    "        total = 0\n",
    "\n",
    "        while num > 0:\n",
    "            digit = num % 10  # Get last digit\n",
    "            if digit % 2 == 0:  # Check if digit is even\n",
    "                total += math.factorial(digit)  # Add factorial of even digit\n",
    "            num = num // 10  # Remove last digit\n",
    "\n",
    "        return total\n",
    "\n",
    "\n",
    "# --- Main Program ---\n",
    "try:\n",
    "    n = int(input(\"Enter a number: \"))\n",
    "    sol = Solution()\n",
    "    result = sol.sum_even_digit_factorials(n)\n",
    "    print(f\"Sum of factorials of even digits in {n} is: {result}\")\n",
    "\n",
    "except ValueError:\n",
    "    print(\"Please enter a valid integer.\")"
   ]
  },
  {
   "cell_type": "markdown",
   "id": "87da1cc7-d450-4db5-8e5e-3448cc99d41c",
   "metadata": {},
   "source": [
    "#### Updated Solution (Without math.factorial()):"
   ]
  },
  {
   "cell_type": "code",
   "execution_count": null,
   "id": "88500007-721c-427e-87c5-893512a50858",
   "metadata": {},
   "outputs": [],
   "source": [
    "class Solution:\n",
    "    def factorial(self, n: int) -> int:\n",
    "        \"\"\"Manually compute factorial of a digit.\"\"\"\n",
    "        result = 1\n",
    "        for i in range(2, n + 1):\n",
    "            result *= i\n",
    "        return result\n",
    "\n",
    "    def sum_even_digit_factorials(self, num: int) -> int:\n",
    "        total = 0\n",
    "\n",
    "        while num > 0:\n",
    "            digit = num % 10  # Extract last digit\n",
    "            if digit % 2 == 0:  # Check for even digit\n",
    "                total += self.factorial(digit)  # Use custom factorial\n",
    "            num = num // 10  # Remove last digit\n",
    "\n",
    "        return total\n"
   ]
  },
  {
   "cell_type": "markdown",
   "id": "6f5bd72e-5b20-4a10-a097-631b19742928",
   "metadata": {},
   "source": [
    "#### 🔍 How range() works:\n",
    "\n",
    "range(start, stop)\n",
    "\n",
    "- Includes: start\n",
    "\n",
    "- Excludes: stop\n",
    "\n",
    "So, range(2, n + 1) will include numbers from 2 to n, which is exactly what we need to compute the factorial."
   ]
  },
  {
   "cell_type": "markdown",
   "id": "f42b6c0f-4e8b-44ce-9a03-0b8038108a2d",
   "metadata": {},
   "source": [
    "#### Q44. Reverse a Number Without Converting to String"
   ]
  },
  {
   "cell_type": "markdown",
   "id": "3b1ab91d-9ba2-4361-a1af-c97cb705aa72",
   "metadata": {},
   "source": [
    "##### Reverse the digits using only math operations.\n",
    "##### Example: Input: 1234 → Output: 4321"
   ]
  },
  {
   "cell_type": "code",
   "execution_count": null,
   "id": "eacc6e6d-6680-4ee5-bd29-7802f211b1e9",
   "metadata": {},
   "outputs": [],
   "source": [
    "class Solution:\n",
    "    def reverse_number(self, num: int) -> int:\n",
    "        reversed_num = 0\n",
    "\n",
    "        while num > 0:\n",
    "            digit = num % 10             # Extract the last digit\n",
    "            reversed_num = reversed_num * 10 + digit  # Append digit to reversed number\n",
    "            num = num // 10              # Remove last digit from original number\n",
    "\n",
    "        return reversed_num"
   ]
  },
  {
   "cell_type": "markdown",
   "id": "29a4e4a8-d8fa-491e-af0b-2e34c8ee5c2c",
   "metadata": {},
   "source": [
    "#### Q45. Replace All Zeros with Fives"
   ]
  },
  {
   "cell_type": "markdown",
   "id": "ba10a9e3-ffad-4d83-8e3c-b927b2ae6a7a",
   "metadata": {},
   "source": [
    "##### Convert every 0 in a number to 5.\n",
    "##### Example: Input: 1020 → Output: 1525"
   ]
  },
  {
   "cell_type": "code",
   "execution_count": null,
   "id": "e6372723-bfae-4c32-b626-7521c9a2a501",
   "metadata": {},
   "outputs": [],
   "source": [
    "class Solution:\n",
    "    def replace_zeros_with_fives(self, num: int) -> int:\n",
    "        result = 0\n",
    "        place = 1\n",
    "\n",
    "        if num == 0:\n",
    "            return 5  # Special case: if input is 0, return 5\n",
    "\n",
    "        while num > 0:\n",
    "            digit = num % 10  # Extract last digit\n",
    "            if digit == 0:\n",
    "                digit = 5     # Replace 0 with 5\n",
    "            result += digit * place  # Build the new number from right to left\n",
    "            place *= 10\n",
    "            num = num // 10   # Remove the last digit\n",
    "\n",
    "        return result\n"
   ]
  },
  {
   "cell_type": "code",
   "execution_count": null,
   "id": "335409ea-96ec-4438-a9d1-785f26dcc160",
   "metadata": {},
   "outputs": [],
   "source": [
    "s = Solution()\n",
    "print(s.replace_zeros_with_fives(1020))  # Output: 1525\n",
    "print(s.replace_zeros_with_fives(0))     # Output: 5"
   ]
  },
  {
   "cell_type": "markdown",
   "id": "9393cf70-0ba9-4133-9d55-b1fe2631e6d0",
   "metadata": {},
   "source": [
    "#### Q46. Find the Smallest Prime Factor"
   ]
  },
  {
   "cell_type": "markdown",
   "id": "ddfc6d12-264b-4aaa-a4b1-5185b64f3df8",
   "metadata": {},
   "source": [
    "##### Return the smallest prime factor of the number.\n",
    "##### Example: Input: 91 → Output: 7"
   ]
  },
  {
   "cell_type": "code",
   "execution_count": null,
   "id": "d3c0c501-3cdb-4ea6-a873-7f3fc0fa05be",
   "metadata": {},
   "outputs": [],
   "source": [
    "class Solution:\n",
    "    def smallest_prime_factor(self, num: int) -> int:\n",
    "        if num <= 1:\n",
    "            raise ValueError(\"Input must be greater than 1.\")\n",
    "\n",
    "        # Start checking from 2 (smallest prime)\n",
    "        for i in range(2, int(num ** 0.5) + 1):\n",
    "            if num % i == 0:\n",
    "                return i  # First (smallest) factor found\n",
    "\n",
    "        # If no smaller factor found, the number itself is prime\n",
    "        return num\n"
   ]
  },
  {
   "cell_type": "code",
   "execution_count": null,
   "id": "2ecc8f78-2de0-4841-86c6-eff82e5eaecb",
   "metadata": {},
   "outputs": [],
   "source": [
    "s = Solution()\n",
    "print(s.smallest_prime_factor(91))   # Output: 7\n",
    "print(s.smallest_prime_factor(29))   # Output: 29 (since 29 is prime)\n"
   ]
  },
  {
   "cell_type": "markdown",
   "id": "9a646805-498e-48bf-a4ee-7749a792a004",
   "metadata": {},
   "source": [
    "| Component             | Meaning                                                                           |\n",
    "| --------------------- | --------------------------------------------------------------------------------- |\n",
    "| `range(2, ...)`       | Start checking from `2`, the smallest prime number.                               |\n",
    "| `num ** 0.5`          | This is the **square root** of `num`.                                             |\n",
    "| `int(num ** 0.5) + 1` | We convert to integer and add 1 to ensure we include the square root in the loop. |\n",
    "| `i`                   | This is the number we're testing to see if it divides `num` without remainder.    |\n"
   ]
  },
  {
   "cell_type": "markdown",
   "id": "7e9a5885-14be-4eee-afab-9a0c99f29d82",
   "metadata": {},
   "source": [
    "#### Q47. Sum of Digits at Even and Odd Positions Separately"
   ]
  },
  {
   "cell_type": "markdown",
   "id": "b9afde76-8031-4cd4-9c98-f3e01cf73192",
   "metadata": {},
   "source": [
    "##### Return separate sums for digits at even and odd indices (0-based).\n",
    "##### Example: Input: 123456 → Output: EvenPosSum=1+3+5=9, OddPosSum=2+4+6=12"
   ]
  },
  {
   "cell_type": "code",
   "execution_count": null,
   "id": "53b0543b-52bc-48d5-9e3e-efa526bc146e",
   "metadata": {},
   "outputs": [],
   "source": [
    "class Solution:\n",
    "    def sum_even_odd_positions(self, num: int) -> tuple:\n",
    "        num_str = str(num)  # Convert number to string to access digits by index\n",
    "        even_sum = 0\n",
    "        odd_sum = 0\n",
    "\n",
    "        for i in range(len(num_str)):\n",
    "            digit = int(num_str[i])\n",
    "            if i % 2 == 0:  # Even index\n",
    "                even_sum += digit\n",
    "            else:           # Odd index\n",
    "                odd_sum += digit\n",
    "\n",
    "        return even_sum, odd_sum"
   ]
  },
  {
   "cell_type": "code",
   "execution_count": null,
   "id": "4d2bbcd6-d371-4ac8-9837-b4bd8a27dc1b",
   "metadata": {},
   "outputs": [],
   "source": [
    "s = Solution()\n",
    "even_sum, odd_sum = s.sum_even_odd_positions(123456)\n",
    "print(f\"EvenPosSum = {even_sum}, OddPosSum = {odd_sum}\")\n",
    "# Output: EvenPosSum = 9, OddPosSum = 12"
   ]
  },
  {
   "cell_type": "markdown",
   "id": "c0a718c1-5b56-4317-869c-4c32ae78fe39",
   "metadata": {},
   "source": [
    "#### Q48. Calculate HCF and LCM Together"
   ]
  },
  {
   "cell_type": "markdown",
   "id": "6e410322-487f-41f3-b3e0-415c2ca3a68f",
   "metadata": {},
   "source": [
    "##### Return both HCF and LCM of two numbers.\n",
    "##### Example: Input: 12, 18 → Output: HCF=6, LCM=36"
   ]
  },
  {
   "cell_type": "code",
   "execution_count": null,
   "id": "02974a10-409a-4270-b1cc-07ad10c85f17",
   "metadata": {},
   "outputs": [],
   "source": [
    "class Solution:\n",
    "    def sum_even_odd_positions(self, num: int) -> tuple:\n",
    "        num_str = str(num)  # Convert number to string to access digits by index\n",
    "        even_sum = 0\n",
    "        odd_sum = 0\n",
    "\n",
    "        for i in range(len(num_str)):\n",
    "            digit = int(num_str[i])\n",
    "            if i % 2 == 0:  # Even index\n",
    "                even_sum += digit\n",
    "            else:           # Odd index\n",
    "                odd_sum += digit\n",
    "\n",
    "        return even_sum, odd_sum\n"
   ]
  },
  {
   "cell_type": "code",
   "execution_count": null,
   "id": "e376ec28-ec4f-4b23-ae80-e9a9d3b4d730",
   "metadata": {},
   "outputs": [],
   "source": [
    "s = Solution()\n",
    "even_sum, odd_sum = s.sum_even_odd_positions(123456)\n",
    "print(f\"EvenPosSum = {even_sum}, OddPosSum = {odd_sum}\")\n",
    "# Output: EvenPosSum = 9, OddPosSum = 12"
   ]
  },
  {
   "cell_type": "markdown",
   "id": "df42f38d-fbe4-45d2-9606-bf788468669b",
   "metadata": {},
   "source": [
    "#### Q49. Count Palindromic Numbers in a Range"
   ]
  },
  {
   "cell_type": "markdown",
   "id": "f2f743ad-2c0a-4ad7-b7cf-c6e834368f69",
   "metadata": {},
   "source": [
    "##### Given a range from a to b, count how many palindromes exist.\n",
    "##### Example: Input: 10, 100 → Output: 9 (11, 22, ..., 99)"
   ]
  },
  {
   "cell_type": "code",
   "execution_count": null,
   "id": "c36d1945-cdb1-4293-a212-f111fa2165bf",
   "metadata": {},
   "outputs": [],
   "source": [
    "class Solution:\n",
    "    def count_palindromes_in_range(self, a: int, b: int) -> int:\n",
    "        count = 0\n",
    "        for num in range(a, b + 1):\n",
    "            if str(num) == str(num)[::-1]:  # Check if number is a palindrome\n",
    "                count += 1\n",
    "        return count"
   ]
  },
  {
   "cell_type": "code",
   "execution_count": null,
   "id": "c34be3db-6baf-4258-bb9a-c577194324b3",
   "metadata": {},
   "outputs": [],
   "source": [
    "s = Solution()\n",
    "print(s.count_palindromes_in_range(10, 100))  # Output: 9"
   ]
  },
  {
   "cell_type": "markdown",
   "id": "3623ef14-f921-42c9-9ef9-2381ed359279",
   "metadata": {},
   "source": [
    "#### 🔍 Explanation:\n",
    "\n",
    "- range(a, b + 1) generates all numbers in the range [a, b].\n",
    "\n",
    "- str(num) == str(num)[::-1] checks if a number is a palindrome by reversing the string.\n",
    "\n",
    "- The count is incremented for each valid palindrome."
   ]
  },
  {
   "cell_type": "markdown",
   "id": "d3d8863e-9d83-4db3-8075-602af0c7edbc",
   "metadata": {},
   "source": [
    "#### Q50. Add Digits in Alternating Fashion (Odd - Even + Odd - Even...)"
   ]
  },
  {
   "cell_type": "markdown",
   "id": "20c3927d-2ca2-4b54-b7cb-bf9eaec1e020",
   "metadata": {},
   "source": [
    "##### Alternate between adding and subtracting digits from left to right.\n",
    "##### Example: Input: 12345 → Output: 1-2+3-4+5 = 3"
   ]
  },
  {
   "cell_type": "code",
   "execution_count": null,
   "id": "33eaf70c-7d3e-4d5c-8547-5493f80d1cf5",
   "metadata": {},
   "outputs": [],
   "source": [
    "class Solution:\n",
    "    def alternating_digit_sum(self, num: int) -> int:\n",
    "        num_str = str(num)  # Convert number to string to process digits by position\n",
    "        total = 0\n",
    "\n",
    "        for i in range(len(num_str)):\n",
    "            digit = int(num_str[i])\n",
    "            if i % 2 == 0:  # Even index → Add\n",
    "                total += digit\n",
    "            else:           # Odd index → Subtract\n",
    "                total -= digit\n",
    "\n",
    "        return total\n"
   ]
  },
  {
   "cell_type": "code",
   "execution_count": null,
   "id": "5ba91fef-a35c-49d5-a4d0-5b2185d6e97a",
   "metadata": {},
   "outputs": [],
   "source": [
    "s = Solution()\n",
    "print(s.alternating_digit_sum(12345))  # Output: 3"
   ]
  },
  {
   "cell_type": "markdown",
   "id": "e476ba20-dd14-4f1b-864d-27c89969eb5a",
   "metadata": {},
   "source": [
    "#### 🔍 Explanation:\n",
    "\n",
    "- The digit positions are indexed from left to right, starting at 0.\n",
    "\n",
    "- At even indices, the digit is added.\n",
    "\n",
    "- At odd indices, the digit is subtracted.\n",
    "\n",
    "- This is why the code uses: if i % 2 == 0: total += digit else: total -= digit."
   ]
  },
  {
   "cell_type": "markdown",
   "id": "d6aa3cf6-052e-4525-ae72-b593fc6716fb",
   "metadata": {},
   "source": [
    "#### Problem Statement: Check for Prime Number"
   ]
  },
  {
   "cell_type": "markdown",
   "id": "66879b7f-9ea8-4b30-9a3b-fca6792fcc19",
   "metadata": {},
   "source": [
    "#### Objective:\n",
    "#### Write a Python function that takes an integer as input and returns True if the number is a prime number, and False otherwise."
   ]
  },
  {
   "cell_type": "code",
   "execution_count": null,
   "id": "8b265761-c809-4f35-8262-e30dec08d11b",
   "metadata": {},
   "outputs": [],
   "source": [
    "def is_prime(n: int) -> bool:\n",
    "    if n <= 1:\n",
    "        return False\n",
    "    if n == 2:\n",
    "        return True\n",
    "    if n % 2 == 0:\n",
    "        return False\n",
    "\n",
    "    for i in range(3, int(n**0.5) + 1, 2): #This line is part of a for loop used to efficiently \n",
    "        # check whether a number n is divisible by any odd number between 3\n",
    "        # and √n, which helps determine whether n is a prime number.\n",
    "        if n % i == 0:\n",
    "            return False\n",
    "    return True"
   ]
  },
  {
   "cell_type": "markdown",
   "id": "fc8752f0-b0cf-4c0f-a48b-7c1775ed596f",
   "metadata": {},
   "source": [
    "#### Explanation:\n",
    "- n <= 1: Numbers less than or equal to 1 are not prime.\n",
    "\n",
    "- n == 2: 2 is the only even prime number.\n",
    "\n",
    "- n % 2 == 0: Any other even number is not prime.\n",
    "\n",
    "- range(3, sqrt(n)+1, 2): We check odd numbers up to √n for efficiency."
   ]
  },
  {
   "cell_type": "markdown",
   "id": "1f633fd4-0eb6-4a48-b15f-43664368849b",
   "metadata": {},
   "source": [
    "#### Explanation\n",
    "1. Step 1: Any number less than or equal to 1 is not prime.\n",
    "\n",
    "2. Step 2: The number 2 is a prime number (and the only even prime).\n",
    "\n",
    "2. Step 3: Any other even number is not a prime.\n",
    "\n",
    "4. Step 4: For odd numbers greater than 2, check divisibility from 3 to √n (inclusive).\n",
    "If any such number divides n evenly, it is not a prime."
   ]
  },
  {
   "cell_type": "markdown",
   "id": "e616b69f-9f0b-4cb4-b2af-b8d7e9f0836b",
   "metadata": {},
   "source": [
    "#### This approach is efficient, as it avoids unnecessary checks and reduces the time complexity to O(√n)"
   ]
  },
  {
   "cell_type": "markdown",
   "id": "afe27d9c-aee3-44cb-8573-31fb8c4f4806",
   "metadata": {},
   "source": [
    "---\n",
    "#### Write a Python program that takes an integer input from the user and calculates its factorial.\n",
    "#### The factorial of a non-negative integer n is the product of all positive integers less than or equal to n, denoted as n!.\n",
    "\n",
    "#### - Example:\n",
    "\n",
    "    - Input: 5\n",
    "\n",
    "    - Output: 120\n",
    "(Since 5! = 5 × 4 × 3 × 2 × 1 = 120)"
   ]
  },
  {
   "cell_type": "code",
   "execution_count": null,
   "id": "da99b1a1-e5e9-493f-b34c-a2987209b8d1",
   "metadata": {},
   "outputs": [],
   "source": [
    "class Solution:\n",
    "    def factorial(self, num: int) -> int:\n",
    "        # Factorial is not defined for negative numbers\n",
    "        if num < 0:\n",
    "            raise ValueError(\"Factorial is not defined for negative numbers.\")\n",
    "        \n",
    "        result = 1\n",
    "        for i in range(2, num + 1):\n",
    "            result *= i  # Multiply result by current number\n",
    "        \n",
    "        return result\n",
    "\n",
    "\n",
    "# --- Main Program ---\n",
    "try:\n",
    "    # Take input from user\n",
    "    n = int(input(\"Enter a non-negative integer: \"))\n",
    "    \n",
    "    # Create an object of the Solution class\n",
    "    sol = Solution()\n",
    "    \n",
    "    # Compute factorial and print\n",
    "    print(f\"Factorial of {n} is: {sol.factorial(n)}\")\n",
    "\n",
    "except ValueError as ve:\n",
    "    print(\"Error:\", ve)\n"
   ]
  },
  {
   "cell_type": "markdown",
   "id": "2c6cbf46-fe50-4f9c-a50d-6c0f35f64d51",
   "metadata": {},
   "source": [
    "#### 🔍 Explanation:\n",
    "\n",
    "- Input is taken using input() and converted to integer.\n",
    "\n",
    "- A class method computes factorial using a for loop.\n",
    "\n",
    "- It raises an exception for negative numbers to maintain correctness.\n",
    "\n",
    "- Uses a try-except block to handle invalid inputs gracefully."
   ]
  },
  {
   "cell_type": "code",
   "execution_count": null,
   "id": "c2b52121-d803-4d14-83d7-5962c62454bd",
   "metadata": {},
   "outputs": [],
   "source": []
  }
 ],
 "metadata": {
  "kernelspec": {
   "display_name": "Python 3 (ipykernel)",
   "language": "python",
   "name": "python3"
  },
  "language_info": {
   "codemirror_mode": {
    "name": "ipython",
    "version": 3
   },
   "file_extension": ".py",
   "mimetype": "text/x-python",
   "name": "python",
   "nbconvert_exporter": "python",
   "pygments_lexer": "ipython3",
   "version": "3.13.0"
  }
 },
 "nbformat": 4,
 "nbformat_minor": 5
}
