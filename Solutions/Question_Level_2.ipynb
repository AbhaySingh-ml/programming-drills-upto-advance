{
 "cells": [
  {
   "cell_type": "markdown",
   "id": "3bbddda9-5a56-4409-9dbe-0caa4638f402",
   "metadata": {},
   "source": [
    "#### Q51. Count Digits Greater Than a Given Number"
   ]
  },
  {
   "cell_type": "markdown",
   "id": "43817ab9-c6e3-453c-8e51-633d8d5b9e41",
   "metadata": {},
   "source": [
    "##### Count how many digits in the number are greater than k.\n",
    "##### Example: Input: 548723, k=5 → Output: 3 (8, 7, 6)"
   ]
  },
  {
   "cell_type": "markdown",
   "id": "2960b6bb-6ff7-4118-a770-deb4419dec14",
   "metadata": {},
   "source": [
    "#### ✅ Corrected Version (Counting Only):"
   ]
  },
  {
   "cell_type": "code",
   "execution_count": 4,
   "id": "814aa757-73fa-4307-b06d-7152c8c2d823",
   "metadata": {},
   "outputs": [],
   "source": [
    "class Solution:\n",
    "    def count_digit(self, num: int, k: int) -> int:\n",
    "        count = 0\n",
    "        while num > 0:\n",
    "            digit = num % 10\n",
    "            if digit > k:\n",
    "                count += 1\n",
    "            num = num // 10\n",
    "        return count"
   ]
  },
  {
   "cell_type": "code",
   "execution_count": 5,
   "id": "6b3977d8-8dd8-40f4-a94f-23d70694fa17",
   "metadata": {},
   "outputs": [
    {
     "name": "stdout",
     "output_type": "stream",
     "text": [
      "2\n"
     ]
    }
   ],
   "source": [
    "sol = Solution()\n",
    "print(sol.count_digit(548723, 5))  # Output: 2 (Digits: 8, 7)"
   ]
  },
  {
   "cell_type": "markdown",
   "id": "c3a027fa-e457-41aa-887b-6a4622e39f05",
   "metadata": {},
   "source": [
    "#### 💡 Optional Enhancement (Return Digits as Well):"
   ]
  },
  {
   "cell_type": "code",
   "execution_count": 3,
   "id": "6a1215a6-c367-4e88-ae8c-e8cefccac860",
   "metadata": {},
   "outputs": [],
   "source": [
    "class Solution:\n",
    "    def count_and_list_digits(self, num: int, k: int):\n",
    "        digits = []\n",
    "        while num > 0:\n",
    "            digit = num % 10\n",
    "            if digit > k:\n",
    "                digits.append(digit)\n",
    "            num = num // 10\n",
    "        return len(digits), digits"
   ]
  },
  {
   "cell_type": "markdown",
   "id": "c999e32e-2ac2-48d3-903b-62e7eeb652da",
   "metadata": {},
   "source": [
    "#### Q52. Remove Repeated Digits"
   ]
  },
  {
   "cell_type": "markdown",
   "id": "a768a977-68cf-484d-91c9-67f20bfc1e4d",
   "metadata": {},
   "source": [
    "##### Remove all repeated digits from a number, keeping only the first occurrence.\n",
    "##### Example: Input: 12233441 → Output: 1234"
   ]
  },
  {
   "cell_type": "markdown",
   "id": "ddb9065b-f127-4ccc-8852-ffca88b2a660",
   "metadata": {},
   "source": [
    "#### We need to:\n",
    "- Process digits from left to right.\n",
    "- Track which digits we've already seen.\n",
    "- Append only new digits to the result."
   ]
  },
  {
   "cell_type": "code",
   "execution_count": null,
   "id": "9b07dcb6-a786-4254-b6b3-4382bb0be7c2",
   "metadata": {},
   "outputs": [],
   "source": [
    "class Solution:\n",
    "    def remove_repeated_digits(self, num: int) -> int:\n",
    "        seen = set()             # To keep track of digits we've already added\n",
    "        result = 0               # To store the number in reverse (we build it digit by digit)\n",
    "        multiplier = 1           # Used to place digits in correct position (units, tens, hundreds, etc.)\n",
    "\n",
    "        while num > 0:\n",
    "            digit = num % 10     # Extract the last digit from num\n",
    "            if digit not in seen:\n",
    "                seen.add(digit)                         # Mark the digit as seen\n",
    "                result += digit * multiplier            # Add the digit at the current place (units, tens, etc.)\n",
    "                multiplier *= 10                        # Move to the next place (e.g., units → tens → hundreds)\n",
    "            num = num // 10      # Remove the last digit from num\n",
    "\n",
    "        # At this point, result is in reverse order (right to left), we need to reverse it again\n",
    "        final_result = 0          # This will hold the final correct number in correct order\n",
    "        while result > 0:\n",
    "            d = result % 10                      # Get the last digit\n",
    "            final_result = final_result * 10 + d # Add digit to the final number (reversing the result)\n",
    "            result //= 10                        # Remove the last digit\n",
    "\n",
    "        return final_result      # Return the final answer after removing duplicates"
   ]
  },
  {
   "cell_type": "markdown",
   "id": "565d83bf-f153-4c19-bedd-e24b424b552e",
   "metadata": {},
   "source": [
    "#### From a number like 9876677892, remove all repeated digits, but preserve the first time each digit appears."
   ]
  },
  {
   "cell_type": "markdown",
   "id": "012615ce-2e70-4a0f-80b4-787c9ba0172e",
   "metadata": {},
   "source": [
    "💡 Logic in Simple Steps:\n",
    "1. Convert the number to a string so we can process it left to right (important for maintaining order).\n",
    "2. Use a set to keep track of digits already seen.\n",
    "3. For each digit:\n",
    "    - If it’s not in the set, add it to the result.\n",
    "    - If it’s already in the set, skip it.\n",
    "4. Finally, combine the result and convert back to an integer."
   ]
  },
  {
   "cell_type": "code",
   "execution_count": null,
   "id": "dec203cd-dbce-48bc-bcc1-89c76be605b3",
   "metadata": {},
   "outputs": [],
   "source": [
    "class Solution:\n",
    "    def remove_repeated_digits(self, num: int) -> int:\n",
    "        seen = set()\n",
    "        result = \"\"\n",
    "        for digit in str(num):  # Convert number to string to process left to right\n",
    "            if digit not in seen:\n",
    "                seen.add(digit)\n",
    "                result += digit  # Append to result string\n",
    "        return int(result)  # Convert result string back to integer"
   ]
  },
  {
   "cell_type": "code",
   "execution_count": null,
   "id": "70f8077f-9fc9-4c47-b5a2-5414bf2de7ea",
   "metadata": {},
   "outputs": [],
   "source": [
    "sol = Solution()\n",
    "print(sol.remove_repeated_digits(9876677892))  # Output: 98762"
   ]
  },
  {
   "cell_type": "markdown",
   "id": "0d6f9d65-c809-475c-9677-50a0716e215a",
   "metadata": {},
   "source": [
    "#### Q53. Check if All Digits Are Unique"
   ]
  },
  {
   "cell_type": "markdown",
   "id": "7a8a73f7-bf27-413f-a9f4-b20a6985d736",
   "metadata": {},
   "source": [
    "##### Return True if all digits in the number are different.\n",
    "##### Example: Input: 12345 → Output: True; Input: 1123 → Output: False"
   ]
  },
  {
   "cell_type": "code",
   "execution_count": 6,
   "id": "7d37037b-02eb-46fb-8220-acec441ad1d5",
   "metadata": {},
   "outputs": [],
   "source": [
    "class Solution:\n",
    "    def duplicate(self, num: int) -> bool:\n",
    "        seen = set()\n",
    "        while num > 0:\n",
    "            digit = num % 10\n",
    "            if digit in seen:         # Check first if digit already seen\n",
    "                return False          # Duplicate found\n",
    "            seen.add(digit)           # Otherwise, add digit to the set\n",
    "            num = num // 10\n",
    "        return True                   # All digits are unique"
   ]
  },
  {
   "cell_type": "code",
   "execution_count": 7,
   "id": "d3bf91df-39c9-426f-9eac-011efb8c2b7e",
   "metadata": {},
   "outputs": [
    {
     "name": "stdout",
     "output_type": "stream",
     "text": [
      "True\n",
      "False\n"
     ]
    }
   ],
   "source": [
    "sol = Solution()\n",
    "print(sol.duplicate(12345))  # True\n",
    "print(sol.duplicate(1123))   # False"
   ]
  },
  {
   "cell_type": "markdown",
   "id": "57f5dc29-2174-4bf2-b3d2-86c85f0aa060",
   "metadata": {},
   "source": [
    "#### Q54. Insert Star Between Every Two Digits"
   ]
  },
  {
   "cell_type": "markdown",
   "id": "a726825b-8106-4321-bead-ad48c63ab1b3",
   "metadata": {},
   "source": [
    "##### Return the number with * inserted between every digit.\n",
    "##### Example: Input: 1234 → Output: 1 *2 *3 *4"
   ]
  },
  {
   "cell_type": "markdown",
   "id": "96671bc9-e256-4beb-98b4-952cf3c84f5d",
   "metadata": {},
   "source": [
    "🔍 Approach:\n",
    "1. Convert the number to a string so we can iterate through digits easily.\n",
    "2. Start from the first digit, and for each next digit, add a '*' before appending it.\n",
    "3. Return the final string."
   ]
  },
  {
   "cell_type": "code",
   "execution_count": 8,
   "id": "7b60c711-72dc-4208-a323-ca002f5f8198",
   "metadata": {},
   "outputs": [],
   "source": [
    "class Solution:\n",
    "    def insert_stars(self, num: int) -> str:\n",
    "        num_str = str(num)\n",
    "        result = num_str[0]  # Start with the first digit\n",
    "\n",
    "        for i in range(1, len(num_str)):\n",
    "            result += '*' + num_str[i]  # Add '*' before appending each digit\n",
    "\n",
    "        return result"
   ]
  },
  {
   "cell_type": "code",
   "execution_count": 9,
   "id": "bb666e20-2d3b-440e-9743-dfc0e499941d",
   "metadata": {},
   "outputs": [
    {
     "name": "stdout",
     "output_type": "stream",
     "text": [
      "1*2*3*4\n",
      "8*9\n",
      "7\n",
      "1*0*1\n"
     ]
    }
   ],
   "source": [
    "sol = Solution()\n",
    "print(sol.insert_stars(1234))    # Output: '1*2*3*4'\n",
    "print(sol.insert_stars(89))      # Output: '8*9'\n",
    "print(sol.insert_stars(7))       # Output: '7'\n",
    "print(sol.insert_stars(101))     # Output: '1*0*1'"
   ]
  },
  {
   "cell_type": "markdown",
   "id": "b3c4c8a4-5944-4ffd-a3e2-55967c8cc785",
   "metadata": {},
   "source": [
    "#### Q55. Find Difference Between Sum of Even and Odd Digits"
   ]
  },
  {
   "cell_type": "markdown",
   "id": "a487d63f-c4bb-48e5-b987-e8d0e04d0c9e",
   "metadata": {},
   "source": [
    "##### Return the difference between the sum of even and odd digits.\n",
    "##### Example: Input: 12345 → Output: (2+4) - (1+3+5) = 6 - 9 = -3"
   ]
  },
  {
   "cell_type": "code",
   "execution_count": null,
   "id": "664ed508-a852-42c1-8726-4e4f5dd655b9",
   "metadata": {},
   "outputs": [],
   "source": [
    "class Solution:\n",
    "    def difference(self, num: int) -> int:\n",
    "        even_sum = 0\n",
    "        odd_sum = 0\n",
    "        \n",
    "        while num > 0:\n",
    "            digit = num % 10\n",
    "            if digit % 2 == 0:\n",
    "                even_sum += digit\n",
    "            else:\n",
    "                odd_sum += digit\n",
    "            num = num // 10\n",
    "        \n",
    "        return even_sum - odd_sum"
   ]
  },
  {
   "cell_type": "code",
   "execution_count": null,
   "id": "86281f58-975d-4bdb-8f5d-f58c5b2dd5d0",
   "metadata": {},
   "outputs": [],
   "source": [
    "s = Solution()\n",
    "print(s.difference(12345))  # Output: -3"
   ]
  },
  {
   "cell_type": "markdown",
   "id": "14f14e0f-6733-48c1-9e09-65c09fb3079b",
   "metadata": {},
   "source": [
    "#### Q56. Count Continuous Digit Pairs (like 11, 22)"
   ]
  },
  {
   "cell_type": "markdown",
   "id": "0183dafc-a239-4a5c-b00d-1d441d675034",
   "metadata": {},
   "source": [
    "##### Count how many consecutive digits are the same.\n",
    "##### Example: Input: 112233445 → Output: 4"
   ]
  },
  {
   "cell_type": "code",
   "execution_count": null,
   "id": "d65e8f38-0aee-48f6-aa91-bd31ff108557",
   "metadata": {},
   "outputs": [],
   "source": [
    "class Solution:\n",
    "    def continuous_digit(self, num: int) -> int:\n",
    "        prev_digit = -1  # Start with a digit that will never match\n",
    "        count = 0\n",
    "\n",
    "        while num > 0:\n",
    "            digit = num % 10\n",
    "            if digit == prev_digit:\n",
    "                count += 1\n",
    "            prev_digit = digit\n",
    "            num = num // 10\n",
    "        \n",
    "        return count"
   ]
  },
  {
   "cell_type": "markdown",
   "id": "13fa01f1-9299-484a-a484-1422a0dfd110",
   "metadata": {},
   "source": [
    "#### Q57. Find Sum of Digits at Prime Index Positions"
   ]
  },
  {
   "cell_type": "markdown",
   "id": "67628c4b-c648-45d0-aed4-528f0413dd8f",
   "metadata": {},
   "source": [
    "##### Return sum of digits at prime-indexed positions (0-based).\n",
    "##### Example: Input: 12345678 → Prime Indices: 2,3,5,7 → Output: 3+4+6+8 = 21"
   ]
  },
  {
   "cell_type": "code",
   "execution_count": 2,
   "id": "230fda9f-e1a2-42e3-87a9-4531d055f31b",
   "metadata": {},
   "outputs": [],
   "source": [
    "class Solution:\n",
    "    def is_prime(self, n: int) -> bool:\n",
    "        if n < 2:\n",
    "            return False\n",
    "        for i in range(2, int(n**0.5) + 1):\n",
    "            if n % i == 0:\n",
    "                return False\n",
    "        return True\n",
    "\n",
    "    def prime_index(self, num: int) -> int:\n",
    "        digits = list(str(num))  # Convert number to list of digit characters\n",
    "        total = 0\n",
    "\n",
    "        for idx in range(len(digits)):\n",
    "            if self.is_prime(idx):\n",
    "                total += int(digits[idx])  # Convert character to integer and add to total\n",
    "\n",
    "        return total"
   ]
  },
  {
   "cell_type": "code",
   "execution_count": 3,
   "id": "c5616d06-880d-43fe-b44e-7cf148fc9a7f",
   "metadata": {},
   "outputs": [
    {
     "name": "stdout",
     "output_type": "stream",
     "text": [
      "21\n"
     ]
    }
   ],
   "source": [
    "s = Solution()\n",
    "result = s.prime_index(12345678)\n",
    "print(result)  # Output: 21"
   ]
  },
  {
   "cell_type": "markdown",
   "id": "0d0d7537-4a62-46af-87dd-9fb1e729e659",
   "metadata": {},
   "source": [
    "#### Q58. Find Average of Digits"
   ]
  },
  {
   "cell_type": "markdown",
   "id": "fb8e12c6-a731-463b-8e93-3a081aad6fc9",
   "metadata": {},
   "source": [
    "##### Return average value of all digits (as float).\n",
    "##### Example: Input: 1234 → Output: 2.5"
   ]
  },
  {
   "cell_type": "code",
   "execution_count": 4,
   "id": "fa3e90ed-95b4-4d3b-9454-d48a09dac8ac",
   "metadata": {},
   "outputs": [],
   "source": [
    "class Solution:\n",
    "    def avg(self, num: int) -> float:\n",
    "        total_sum = 0\n",
    "        count = 0\n",
    "        \n",
    "        while num > 0:\n",
    "            digit = num % 10\n",
    "            total_sum += digit\n",
    "            count += 1\n",
    "            num = num // 10  # Move to next digit\n",
    "            \n",
    "        return total_sum / count  # Return float average"
   ]
  },
  {
   "cell_type": "code",
   "execution_count": 5,
   "id": "22d284a8-d00f-4cbd-9495-2eff8b960f53",
   "metadata": {},
   "outputs": [
    {
     "name": "stdout",
     "output_type": "stream",
     "text": [
      "2.5\n"
     ]
    }
   ],
   "source": [
    "s = Solution()\n",
    "print(s.avg(1234))  # Output: 2.5"
   ]
  },
  {
   "cell_type": "markdown",
   "id": "e593f4bb-01e3-4393-b0b2-987674e9de26",
   "metadata": {},
   "source": [
    "#### Q59. Replace Every Digit with Sum of Previous and Next Digits"
   ]
  },
  {
   "cell_type": "markdown",
   "id": "e9d33b71-c10a-40a7-9dc4-76accd5dcb8e",
   "metadata": {},
   "source": [
    "##### Treat number as array; replace each digit with sum of neighbors. First and last remain same.\n",
    "##### Example: Input: 12345 → Output: 1 3 5 7 5"
   ]
  },
  {
   "cell_type": "markdown",
   "id": "2e2d728b-b406-47de-94b7-bbe0f64c2e1b",
   "metadata": {},
   "source": [
    "🔍 Line-by-Line Explanation:\n",
    "✅ result = [0] * n\n",
    "This creates a new list called result with the same length n as the original digits list.\n",
    "\n",
    "It initializes all values to 0.\n",
    "\n",
    "Example: if digits = [1, 2, 3, 4, 5], then initially:\n",
    "result = [0, 0, 0, 0, 0]\n",
    "\n",
    "✅ result[0] = digits[0]\n",
    "Sets the first element of result to be the same as the first digit of the original number.\n",
    "\n",
    "Why? Because the first digit is not transformed according to the problem.\n",
    "\n",
    "✅ result[-1] = digits[-1]\n",
    "Sets the last element of result to be the same as the last digit of the original number.\n",
    "\n",
    "-1 is the Python shorthand for \"last element.\"\n",
    "\n",
    "Again, the last digit is not transformed.\n",
    "\n",
    "🧠 After These Lines:\n",
    "You have a result list where:\n",
    "\n",
    "First and last digits are preserved,\n",
    "\n",
    "Middle digits are still 0 (they will be updated in the loop that follows).\n",
    "\n"
   ]
  },
  {
   "cell_type": "code",
   "execution_count": 2,
   "id": "f336189f-a89c-4088-8a0f-bf3c22075979",
   "metadata": {},
   "outputs": [],
   "source": [
    "class solution:\n",
    "    def transform(self, num: int):\n",
    "        # Convert the number to a list of digits\n",
    "        digits = [int(d) for d in str(num)]\n",
    "        n = len(digits)\n",
    "        \n",
    "        # If the number has less than 3 digits, no transformation needed\n",
    "        if n < 3:\n",
    "            return digits\n",
    "        \n",
    "        # Initialize result with the same length\n",
    "        result = [0] * n\n",
    "        result[0] = digits[0]\n",
    "        result[-1] = digits[-1]\n",
    "        \n",
    "        # Update the middle digits\n",
    "        for i in range(1, n - 1):\n",
    "            result[i] = digits[i - 1] + digits[i + 1]\n",
    "        \n",
    "        return result"
   ]
  },
  {
   "cell_type": "code",
   "execution_count": 3,
   "id": "d23964ac-2996-4d8e-8252-f6eb3864f21e",
   "metadata": {},
   "outputs": [
    {
     "name": "stdout",
     "output_type": "stream",
     "text": [
      "[1, 4, 6, 8, 5]\n"
     ]
    }
   ],
   "source": [
    "s = solution()\n",
    "print(s.transform(12345))  # Output: [1, 4, 6, 8, 5]"
   ]
  },
  {
   "cell_type": "markdown",
   "id": "7eba2719-2c24-498e-ad8a-44b99a75e6b9",
   "metadata": {},
   "source": [
    "#### Q60. Multiply Alternate Digits (odd-indexed digits only)"
   ]
  },
  {
   "cell_type": "markdown",
   "id": "065957b9-3ec6-440a-a518-87abb9e9f45c",
   "metadata": {},
   "source": [
    "##### Multiply only the digits at odd indices.\n",
    "##### Example: Input: 1234 → Odd Indices = 2, 4 → Output: 8"
   ]
  },
  {
   "cell_type": "code",
   "execution_count": 4,
   "id": "c511b47d-7b3c-4e37-9820-cd709d2d67ed",
   "metadata": {},
   "outputs": [],
   "source": [
    "class solution:\n",
    "    def odd_product(self, num: int):\n",
    "        product = 1\n",
    "        found = False  # To handle cases where there are no odd-indexed digits\n",
    "\n",
    "        for i, d in enumerate(str(num)):\n",
    "            if i % 2 == 1:  # odd index\n",
    "                product *= int(d)\n",
    "                found = True\n",
    "\n",
    "        return product if found else 0  # or return 1 if that's preferred"
   ]
  },
  {
   "cell_type": "code",
   "execution_count": 5,
   "id": "fed379e6-2e37-4f49-9d47-6f5e6d6db53e",
   "metadata": {},
   "outputs": [
    {
     "name": "stdout",
     "output_type": "stream",
     "text": [
      "8\n",
      "0\n"
     ]
    }
   ],
   "source": [
    "s = solution()\n",
    "print(s.odd_product(1234))  # Output: 8 (2 * 4)\n",
    "print(s.odd_product(5))     # Output: 0 (no odd-indexed digits)"
   ]
  },
  {
   "cell_type": "markdown",
   "id": "d84095b5-3be6-4662-a5a7-ffd8ec90a361",
   "metadata": {},
   "source": [
    "#### Q61. Count How Many Digits Are Perfect Squares"
   ]
  },
  {
   "cell_type": "markdown",
   "id": "7d8b6d90-b23c-425e-9596-345c8da33791",
   "metadata": {},
   "source": [
    "##### Return count of digits which are perfect squares (0,1,4,9).\n",
    "##### Example: Input: 14932 → Output: 3 (1, 4, 9)"
   ]
  },
  {
   "cell_type": "code",
   "execution_count": 6,
   "id": "49dbd87a-911b-4689-84c2-cf8a6960a47b",
   "metadata": {},
   "outputs": [],
   "source": [
    "class Solution:\n",
    "    def perfect_num(self, nums: int) -> int:\n",
    "        perfect_squares = {0, 1, 4, 9}\n",
    "        count = 0\n",
    "\n",
    "        while nums > 0:\n",
    "            digit = nums % 10\n",
    "            if digit in perfect_squares:\n",
    "                count += 1\n",
    "            nums = nums // 10\n",
    "\n",
    "        return count"
   ]
  },
  {
   "cell_type": "code",
   "execution_count": 7,
   "id": "27c3a23e-d4e3-46c7-b479-f55bc3e09d8b",
   "metadata": {},
   "outputs": [
    {
     "name": "stdout",
     "output_type": "stream",
     "text": [
      "3\n"
     ]
    }
   ],
   "source": [
    "s = Solution()\n",
    "result = s.perfect_num(14932)\n",
    "print(result)  # Output: 3"
   ]
  },
  {
   "cell_type": "markdown",
   "id": "0fcad1a7-bbc8-433d-9c62-45d8d0344a1e",
   "metadata": {},
   "source": [
    "If you're now given a list of numbers (which can be single-digit or multi-digit), and you're asked to count how many individual digits (across all numbers) are perfect squares, here's how you can approach it:\n",
    "numbers = [14932, 25, 64, 3]"
   ]
  },
  {
   "cell_type": "code",
   "execution_count": 8,
   "id": "8dfa0860-b7db-43ed-9915-449a81e277d5",
   "metadata": {},
   "outputs": [],
   "source": [
    "class Solution:\n",
    "    def count_perfect_square_digits(self, numbers: list[int]) -> int:\n",
    "        perfect_squares = {0, 1, 4, 9}\n",
    "        count = 0\n",
    "\n",
    "        for num in numbers:\n",
    "            num = abs(num)  # Handle negative numbers if needed\n",
    "            while num > 0:\n",
    "                digit = num % 10\n",
    "                if digit in perfect_squares:\n",
    "                    count += 1\n",
    "                num = num // 10\n",
    "\n",
    "        return count"
   ]
  },
  {
   "cell_type": "code",
   "execution_count": 9,
   "id": "55d872ac-bbff-4f2d-a18b-b804f5809eb2",
   "metadata": {},
   "outputs": [
    {
     "name": "stdout",
     "output_type": "stream",
     "text": [
      "4\n"
     ]
    }
   ],
   "source": [
    "s = Solution()\n",
    "result = s.count_perfect_square_digits([14932, 25, 64, 3])\n",
    "print(result)  # Output: 6 → (1, 4, 9, 2, 5 → only 1,4,9; 6,4 → only 4; 3 → not counted)"
   ]
  },
  {
   "cell_type": "markdown",
   "id": "c294b8f2-698a-4201-9302-7747293b0742",
   "metadata": {},
   "source": [
    "Let’s break this down digit by digit for all numbers:\n",
    "\n",
    "1. 14932 → digits: 1, 4, 9, 3, 2\n",
    "Perfect square digits: 1, 4, 9 → ✅✅✅ → 3\n",
    "\n",
    "2. 25 → digits: 2, 5\n",
    "Perfect square digits: ❌ ❌ → 0\n",
    "\n",
    "3. 64 → digits: 6, 4\n",
    "Perfect square digits: ❌ ✅ → 1\n",
    "\n",
    "4. 3 → digit: 3\n",
    "Perfect square digits: ❌ → 0\n",
    "\n"
   ]
  },
  {
   "cell_type": "markdown",
   "id": "f6055530-30f4-436d-b241-ac5646db4400",
   "metadata": {},
   "source": [
    "#### Q62. Count Digits Smaller Than Average Digit"
   ]
  },
  {
   "cell_type": "markdown",
   "id": "27789f08-8998-4d64-a2fd-f5b4e6b6b7dd",
   "metadata": {},
   "source": [
    "##### Return how many digits are smaller than the average of all digits.\n",
    "##### Example: Input: 1236 → Avg = 3 → Digits < 3: 1, 2 → Output: 2"
   ]
  },
  {
   "cell_type": "code",
   "execution_count": 10,
   "id": "b223ec5d-0994-46b8-a651-2cc555ead85f",
   "metadata": {},
   "outputs": [],
   "source": [
    "class Solution:\n",
    "    def digit_avg(self, num: int) -> int:\n",
    "        digits = []\n",
    "\n",
    "        # Extract all digits and store them in a list\n",
    "        temp = num\n",
    "        while temp > 0:\n",
    "            digits.append(temp % 10)\n",
    "            temp = temp // 10\n",
    "\n",
    "        if not digits:\n",
    "            return 0  # Handle the case for num = 0\n",
    "\n",
    "        avg = sum(digits) / len(digits)\n",
    "\n",
    "        # Count digits smaller than average\n",
    "        count = 0\n",
    "        for digit in digits:\n",
    "            if digit < avg:\n",
    "                count += 1\n",
    "\n",
    "        return count"
   ]
  },
  {
   "cell_type": "code",
   "execution_count": 11,
   "id": "7ec39822-9b2e-4ab9-831d-0bee22d3c132",
   "metadata": {},
   "outputs": [
    {
     "name": "stdout",
     "output_type": "stream",
     "text": [
      "2\n"
     ]
    }
   ],
   "source": [
    "s = Solution()\n",
    "print(s.digit_avg(1236))  # Output: 2 → Digits 1 and 2 are less than avg 3"
   ]
  },
  {
   "cell_type": "markdown",
   "id": "e95cf003-834e-4974-9633-cf61ccb7970b",
   "metadata": {},
   "source": [
    "#### Q63. Remove All Even Digits"
   ]
  },
  {
   "cell_type": "markdown",
   "id": "229aa2f4-43c5-4c72-8919-13c6526ec663",
   "metadata": {},
   "source": [
    "##### Remove even digits from the number.\n",
    "##### Example: Input: 123456 → Output: 135"
   ]
  },
  {
   "cell_type": "code",
   "execution_count": null,
   "id": "6465fcb2-38e8-4a2f-94b9-0c76e9ef2d79",
   "metadata": {},
   "outputs": [],
   "source": []
  },
  {
   "cell_type": "markdown",
   "id": "a4cb1d09-52a8-4fb8-b68d-f6bbe2172d37",
   "metadata": {},
   "source": [
    "#### Q64. Check if All Digits Form a Geometric Sequence"
   ]
  },
  {
   "cell_type": "markdown",
   "id": "d2c2ed16-0447-42cb-9e16-a14c00cd3b5b",
   "metadata": {},
   "source": [
    "##### Check if digits follow a geometric progression.\n",
    "##### Example: Input: 248 → 2×2=4, 4×2=8 → Output: True"
   ]
  },
  {
   "cell_type": "code",
   "execution_count": null,
   "id": "0c7975d0-24cd-4a52-83fc-3a2a1d195baf",
   "metadata": {},
   "outputs": [],
   "source": []
  },
  {
   "cell_type": "markdown",
   "id": "d690c321-5070-44b9-afa1-e6dadd8b335c",
   "metadata": {},
   "source": [
    "#### Q65. Count Digits Between Two Given Digits"
   ]
  },
  {
   "cell_type": "markdown",
   "id": "3f342440-2667-4ef2-8252-5b0b5f14b578",
   "metadata": {},
   "source": [
    "##### Count digits that lie between two given digits a and b (exclusive).\n",
    "##### Example: Input: 283519, a=2, b=9 → Count digits between 2 and 9 → Output: 4 (3, 5, 1, 8)"
   ]
  },
  {
   "cell_type": "code",
   "execution_count": null,
   "id": "1a8cce47-b2d9-4bba-a0cf-967435eea0a0",
   "metadata": {},
   "outputs": [],
   "source": []
  },
  {
   "cell_type": "markdown",
   "id": "c64c5897-177a-4c9a-a60e-1d08339f5568",
   "metadata": {},
   "source": [
    "#### Q66. Sum of First Half and Second Half Digits"
   ]
  },
  {
   "cell_type": "markdown",
   "id": "7df4002d-2ec2-46f7-b7f6-45717674aa45",
   "metadata": {},
   "source": [
    "##### Split number in half and sum both sides.\n",
    "##### Example: Input: 123456 → Output: 1+2+3=6, 4+5+6=15"
   ]
  },
  {
   "cell_type": "markdown",
   "id": "b0cb79f1-ee3f-4ac5-a271-e10c053a0b7f",
   "metadata": {},
   "source": [
    "#### Q67. Check if Digit Sum is a Palindrome"
   ]
  },
  {
   "cell_type": "markdown",
   "id": "69d07931-5458-4ad8-8649-b7dad88eb0e5",
   "metadata": {},
   "source": [
    "##### Add all digits and check if the sum is a palindrome.\n",
    "##### Example: Input: 12321 → Digit sum = 9 → Output: True"
   ]
  },
  {
   "cell_type": "markdown",
   "id": "73af5c06-50a0-41f3-9fcd-475a1c3fe4fc",
   "metadata": {},
   "source": [
    "#### Q68. Replace Every Digit with Difference from 9"
   ]
  },
  {
   "cell_type": "markdown",
   "id": "32c9e45f-2e3b-40a9-9b19-887dd96f6c2a",
   "metadata": {},
   "source": [
    "##### Each digit becomes 9 - digit.\n",
    "##### Example: Input: 1234 → Output: 8 7 6 5"
   ]
  },
  {
   "cell_type": "markdown",
   "id": "70b9992f-2c52-4a20-8e51-fe54aaf8f12c",
   "metadata": {},
   "source": [
    "#### Q69. Count Increasing Adjacent Digit Pairs"
   ]
  },
  {
   "cell_type": "markdown",
   "id": "a2be00dc-45c1-4e4c-bed2-fae76799207d",
   "metadata": {},
   "source": [
    "##### Count how many digit pairs are in increasing order.\n",
    "##### Example: Input: 12345 → Pairs: 1<2, 2<3, 3<4, 4<5 → Output: 4"
   ]
  },
  {
   "cell_type": "markdown",
   "id": "3b8fea0c-43df-4d93-8527-6e9ed942d9cf",
   "metadata": {},
   "source": [
    "#### Q70. Print All Digits in Reverse and Word Format"
   ]
  },
  {
   "cell_type": "markdown",
   "id": "28b05ec2-267e-4dbd-a9b4-c190cc14d995",
   "metadata": {},
   "source": [
    "##### Reverse the number and print digits in words.\n",
    "##### Example: Input: 123 → Reverse: 321 → Output: Three Two One"
   ]
  },
  {
   "cell_type": "markdown",
   "id": "4aac4701-c0a7-4ac8-9731-4885ed595859",
   "metadata": {},
   "source": [
    "#### Q71. Compute Absolute Difference of First and Last Digit"
   ]
  },
  {
   "cell_type": "markdown",
   "id": "b376bbf2-da90-44ba-a5db-b2a2bbd8edac",
   "metadata": {},
   "source": [
    "##### Return |first digit - last digit|.\n",
    "##### Example: Input: 7235 → Output: |7 - 5| = 2"
   ]
  },
  {
   "cell_type": "markdown",
   "id": "4364b8a7-ff4f-45ce-a90e-2cc6a5a160f4",
   "metadata": {},
   "source": [
    "#### Q72. Convert Digits to Roman Numerals"
   ]
  },
  {
   "cell_type": "markdown",
   "id": "4bc1132a-63dd-40e0-82a1-aca46667f2bb",
   "metadata": {},
   "source": [
    "##### Print each digit as Roman numeral.\n",
    "##### Example: Input: 143 → Output: I IV III"
   ]
  },
  {
   "cell_type": "markdown",
   "id": "b90fa76c-b6c3-41e5-b42e-379223f8c299",
   "metadata": {},
   "source": [
    "#### Q73. Sum Alternate Digits from Right"
   ]
  },
  {
   "cell_type": "markdown",
   "id": "37bb6d9f-75a8-4d18-a144-ac76ec1a053c",
   "metadata": {},
   "source": [
    "##### Sum digits from right side skipping alternate.\n",
    "##### Example: Input: 123456 → Right: 6+4+2 = 12"
   ]
  },
  {
   "cell_type": "markdown",
   "id": "93f8869a-bffd-4567-a57f-d32980d6fca7",
   "metadata": {},
   "source": [
    "#### Q74. Replace Every Digit with Its Square"
   ]
  },
  {
   "cell_type": "markdown",
   "id": "fad6d2cb-54d3-480f-a846-1b8049e41f64",
   "metadata": {},
   "source": [
    "##### Replace each digit with its square.\n",
    "Example: Input: 123 → Output: 1 4 9"
   ]
  },
  {
   "cell_type": "markdown",
   "id": "bb990fba-ebec-44bd-9857-59a0bd2ba202",
   "metadata": {},
   "source": [
    "#### Q75. Count Pairs Whose Sum is Even (Digit-wise)"
   ]
  },
  {
   "cell_type": "markdown",
   "id": "60bc5b27-3a3e-4e17-af02-8cac86e7149b",
   "metadata": {},
   "source": [
    "##### Count adjacent digit pairs with even sum.\n",
    "Example: Input: 123456 → Pairs: (1,2),(2,3)... → Output: Count of even-sum pairs"
   ]
  },
  {
   "cell_type": "markdown",
   "id": "de03fdea-353e-4b80-8992-193a0e9b523a",
   "metadata": {},
   "source": [
    "#### Q76. Find Most Frequent Digit"
   ]
  },
  {
   "cell_type": "markdown",
   "id": "c5a4d88e-b699-449e-9e9e-4e7f56485c4a",
   "metadata": {},
   "source": [
    "##### Find which digit appears the most.\n",
    "##### Example: Input: 2213131 → Output: 1"
   ]
  },
  {
   "cell_type": "markdown",
   "id": "a14c2d1c-a184-4bc0-aaf3-a91cf9ea22d6",
   "metadata": {},
   "source": [
    "#### Q77. Compute Digital Root"
   ]
  },
  {
   "cell_type": "markdown",
   "id": "87d91eb8-e413-481c-8d8e-584e9e3439bd",
   "metadata": {},
   "source": [
    "##### Repeat digit sum until a single digit remains.\n",
    "##### Example: Input: 9875 → Output: 2"
   ]
  },
  {
   "cell_type": "markdown",
   "id": "a2012bb2-88c8-4284-9486-f24b71eca441",
   "metadata": {},
   "source": [
    "#### Q78. Add Digits of Square of a Number"
   ]
  },
  {
   "cell_type": "markdown",
   "id": "7123aef1-7c6e-4701-9bec-398f46857d40",
   "metadata": {},
   "source": [
    "##### Square the number and add its digits.\n",
    "##### Example: Input: 12 → 144 → 1+4+4 = 9"
   ]
  },
  {
   "cell_type": "markdown",
   "id": "3bbd5e3d-5e47-4d03-95a5-a875f209b515",
   "metadata": {},
   "source": [
    "#### Q79. Return True if Number Ends with Sum of First Two Digits"
   ]
  },
  {
   "cell_type": "markdown",
   "id": "ecca3eba-5934-4dca-aa54-edf74b394294",
   "metadata": {},
   "source": [
    "##### Check if last digit equals sum of first two.\n",
    "##### Example: Input: 231 → 2+3=5 != 1 → Output: False"
   ]
  },
  {
   "cell_type": "markdown",
   "id": "3663ae3f-8b06-4531-ba97-304cc7d60659",
   "metadata": {},
   "source": [
    "#### Q80. Replace All Odd Digits with 0 and Even with 1"
   ]
  },
  {
   "cell_type": "markdown",
   "id": "f2f9cdad-cff6-4cce-b712-7c62708ff205",
   "metadata": {},
   "source": [
    "##### Example: Input: 123456 → Output: 0 1 0 1 0 1"
   ]
  },
  {
   "cell_type": "markdown",
   "id": "fdc54902-d54a-440c-8d0e-2f4b504f5e18",
   "metadata": {},
   "source": [
    "#### Q81. Return True if Digits Form a Zigzag Pattern"
   ]
  },
  {
   "cell_type": "markdown",
   "id": "74a991d8-8f5d-4107-b2e2-fb3bc80684fe",
   "metadata": {},
   "source": [
    "##### Check for alternating increase and decrease.\n",
    "##### Example: Input: 1324 → Output: True"
   ]
  },
  {
   "cell_type": "markdown",
   "id": "220b4909-f756-4f24-94a8-3d450b74d306",
   "metadata": {},
   "source": [
    "#### Q82. Count Digits Appearing More Than Once"
   ]
  },
  {
   "cell_type": "markdown",
   "id": "a51e8faa-65f8-4e03-970d-ece81d159722",
   "metadata": {},
   "source": [
    "##### Example: Input: 1213445 → Output: 3 (1, 4, 3)"
   ]
  },
  {
   "cell_type": "markdown",
   "id": "503bc50a-8992-4169-bb35-5f54637edec2",
   "metadata": {},
   "source": [
    "#### Q83. Find Closest Power of 2 Greater Than Number"
   ]
  },
  {
   "cell_type": "markdown",
   "id": "c201e808-656c-47c9-a451-30668803d9af",
   "metadata": {},
   "source": [
    "##### Example: Input: 20 → Output: 32"
   ]
  },
  {
   "cell_type": "markdown",
   "id": "407eb75d-5c92-461b-afb8-5d426c2f8a88",
   "metadata": {},
   "source": [
    "#### Q84. Count Digits That Are Equal to Their Index"
   ]
  },
  {
   "cell_type": "markdown",
   "id": "beed435f-ed2d-4f94-9d23-800d895ae33c",
   "metadata": {},
   "source": [
    "##### 0-based index comparison.\n",
    "##### Example: Input: 231465 → At index 2 → digit 1 (not equal) → Count matching"
   ]
  },
  {
   "cell_type": "markdown",
   "id": "60e53437-aabd-4544-a2be-f76700a3362e",
   "metadata": {},
   "source": [
    "#### Q85. Find Missing Digit to Make Number Palindrome"
   ]
  },
  {
   "cell_type": "markdown",
   "id": "a9b47c65-5f34-4cac-98f7-b8aaa8d66619",
   "metadata": {},
   "source": [
    "##### One digit is wrong. Fix it to make the number a palindrome.\n",
    "##### Example: Input: 12363 → Output: 3 → 1 2 3 2 1"
   ]
  },
  {
   "cell_type": "markdown",
   "id": "7f3e14d6-54e1-4ce6-bc5b-8db69a2f3f13",
   "metadata": {},
   "source": [
    "#### Q86. Count Digits That Appear in Square Too"
   ]
  },
  {
   "cell_type": "markdown",
   "id": "2db31990-f532-4a7a-916e-aaa0fa0f1f07",
   "metadata": {},
   "source": [
    "##### Compare digits in n and n².\n",
    "##### Example: Input: 12 → 12² = 144 → Digits common: 1"
   ]
  },
  {
   "cell_type": "markdown",
   "id": "c1f2f2d6-c432-4306-97b0-086037bc67da",
   "metadata": {},
   "source": [
    "#### Q87. Replace Every Digit with Position Value (1-based)"
   ]
  },
  {
   "cell_type": "markdown",
   "id": "ba8e290a-96ba-4e0a-a0a8-151b7de1bf9e",
   "metadata": {},
   "source": [
    "##### Example: Input: 5621 → Output: 1 2 3 4"
   ]
  },
  {
   "cell_type": "markdown",
   "id": "22ac75a6-0b08-489e-bd1c-71a218365d14",
   "metadata": {},
   "source": [
    "#### Q88. Insert Comma After Every 3 Digits from Right"
   ]
  },
  {
   "cell_type": "markdown",
   "id": "afa7e8de-79a8-4a1f-b49e-a35e5b9a1048",
   "metadata": {},
   "source": [
    "##### Example: Input: 1234567 → Output: 1,234,567"
   ]
  },
  {
   "cell_type": "markdown",
   "id": "cdedb6b7-dbc4-41c7-b2cf-d715ce7d0c25",
   "metadata": {},
   "source": [
    "#### Q89. Return True If Number Contains Only Even Digits"
   ]
  },
  {
   "cell_type": "markdown",
   "id": "8472633b-5906-4f1b-9d33-1108b90c20b1",
   "metadata": {},
   "source": [
    "##### Example: Input: 2468 → Output: True"
   ]
  },
  {
   "cell_type": "markdown",
   "id": "953d39e1-f698-40ff-95f0-1e0f6cd9782c",
   "metadata": {},
   "source": [
    "#### Q90. Count Palindrome Sub-Numbers of Length 3"
   ]
  },
  {
   "cell_type": "markdown",
   "id": "a6a6e5c5-2cdf-4236-8f82-228b553ae6bb",
   "metadata": {},
   "source": [
    "##### Count all 3-digit palindromes in number.\n",
    "##### Example: Input: 1213121 → Output: 3 (121, 131, 121)"
   ]
  },
  {
   "cell_type": "markdown",
   "id": "2f773408-b206-43f3-bbdd-d017ebe1b98c",
   "metadata": {},
   "source": [
    "#### Q91. Find Longest Sequence of Identical Digits"
   ]
  },
  {
   "cell_type": "markdown",
   "id": "05d1a649-9008-43a7-a8ed-8c7fa69cbd63",
   "metadata": {},
   "source": [
    "##### Example: Input: 111223344 → Output: 3"
   ]
  },
  {
   "cell_type": "markdown",
   "id": "8daf4d8f-8fd6-44be-af10-d6301faf91d2",
   "metadata": {},
   "source": [
    "#### Q92. Replace Even-Indexed Digits with 0"
   ]
  },
  {
   "cell_type": "markdown",
   "id": "d73e650b-a81d-4cff-80e8-6dbef47a60a5",
   "metadata": {},
   "source": [
    "##### Example: Input: 12345 → Output: 0 2 0 4 0"
   ]
  },
  {
   "cell_type": "markdown",
   "id": "a42610dd-a550-48db-88c5-2dd4b2bdc492",
   "metadata": {},
   "source": [
    "#### Q93. Multiply All Digits Except Zero"
   ]
  },
  {
   "cell_type": "markdown",
   "id": "65bdd512-d94a-481b-9d9b-b90eab803cbb",
   "metadata": {},
   "source": [
    "##### Example: Input: 1024 → Output: 1×2×4 = 8"
   ]
  },
  {
   "cell_type": "markdown",
   "id": "803bc0a5-ecee-4955-a2d6-30e567287335",
   "metadata": {},
   "source": [
    "#### Q94. Return True if Sum of Even Digits = Sum of Odd Digits"
   ]
  },
  {
   "cell_type": "markdown",
   "id": "ce56b01f-144b-436c-acfa-ad08a2eb8456",
   "metadata": {},
   "source": [
    "##### Example: Input: 1236 → 2+6=8, 1+3=4 → Output: False##### "
   ]
  },
  {
   "cell_type": "markdown",
   "id": "a2a88294-8eed-40b4-88d0-f007c4599564",
   "metadata": {},
   "source": [
    "#### Q95. Print Digits as ASCII Values"
   ]
  },
  {
   "cell_type": "markdown",
   "id": "7027661a-7316-48a2-84ba-3d8dbdf8251d",
   "metadata": {},
   "source": [
    "##### Example: Input: 123 → Output: 49 50 51"
   ]
  },
  {
   "cell_type": "markdown",
   "id": "e6c89a9a-b829-48dc-acaa-b6d33818b3ce",
   "metadata": {},
   "source": [
    "#### Q96. Find Largest Number Formed by Digits"
   ]
  },
  {
   "cell_type": "markdown",
   "id": "0a35dca5-7ef2-474d-9075-f5ba1dce5c1c",
   "metadata": {},
   "source": [
    "##### Example: Input: 2134 → Output: 4321"
   ]
  },
  {
   "cell_type": "markdown",
   "id": "1b1a8068-e0ec-4376-9814-4c1f6195670a",
   "metadata": {},
   "source": [
    "#### Q97. Replace Digits in Even Positions with 1"
   ]
  },
  {
   "cell_type": "markdown",
   "id": "98651714-db69-40d4-b805-b561754b74f3",
   "metadata": {},
   "source": [
    "##### Example: Input: 1234 → Output: 1 1 3 1"
   ]
  },
  {
   "cell_type": "markdown",
   "id": "d28364bf-9d9d-4f58-8b5f-e762cf3586d7",
   "metadata": {},
   "source": [
    "#### Q98. Return True If All Digits Are in Arithmetic Sequence"
   ]
  },
  {
   "cell_type": "markdown",
   "id": "7b0c016f-4c98-4bee-8c8a-93c26ae41957",
   "metadata": {},
   "source": [
    "##### Example: Input: 13579 → Output: True"
   ]
  },
  {
   "cell_type": "markdown",
   "id": "d5872fbb-ec5b-4478-b6a3-082f9fccbbaf",
   "metadata": {},
   "source": [
    "#### Q99. Add Square of Even Digits and Cube of Odd Digits"
   ]
  },
  {
   "cell_type": "markdown",
   "id": "b1249711-534e-403e-bda9-21a34d6fb11d",
   "metadata": {},
   "source": [
    "##### Example: Input: 123 → 1³ + 2² + 3³ = 1+4+27 = 32"
   ]
  },
  {
   "cell_type": "markdown",
   "id": "475399cd-3c3f-4494-ad20-b84a4a448aec",
   "metadata": {},
   "source": [
    "#### Q100. Count Number of Digit Transitions (Increase to Decrease or vice versa)"
   ]
  },
  {
   "cell_type": "markdown",
   "id": "fa822c2c-d1fe-4363-82a2-94f46d9b7035",
   "metadata": {},
   "source": [
    "##### Example: Input: 12321 → 1→2→3 (↑), 3→2→1 (↓) → 1 transition"
   ]
  }
 ],
 "metadata": {
  "kernelspec": {
   "display_name": "Python 3 (ipykernel)",
   "language": "python",
   "name": "python3"
  },
  "language_info": {
   "codemirror_mode": {
    "name": "ipython",
    "version": 3
   },
   "file_extension": ".py",
   "mimetype": "text/x-python",
   "name": "python",
   "nbconvert_exporter": "python",
   "pygments_lexer": "ipython3",
   "version": "3.13.0"
  }
 },
 "nbformat": 4,
 "nbformat_minor": 5
}
